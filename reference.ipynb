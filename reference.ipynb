{
 "cells": [
  {
   "cell_type": "markdown",
   "metadata": {},
   "source": [
    "# Define Environment & Library "
   ]
  },
  {
   "cell_type": "code",
   "execution_count": 15,
   "metadata": {},
   "outputs": [],
   "source": [
    "import os\n",
    "import openai\n",
    "import sys\n",
    "import pandas as pd\n",
    "sys.path.append('../..')\n",
    "\n",
    "# Load environment\n",
    "from dotenv import load_dotenv, find_dotenv\n",
    "_ = load_dotenv(find_dotenv()) # read local .env file\n",
    "\n",
    "# Set the OpenAI API key\n",
    "openai.api_key  = os.environ['OPENAI_API_KEY']"
   ]
  },
  {
   "cell_type": "code",
   "execution_count": 3,
   "metadata": {},
   "outputs": [
    {
     "data": {
      "text/html": [
       "<div>\n",
       "<style scoped>\n",
       "    .dataframe tbody tr th:only-of-type {\n",
       "        vertical-align: middle;\n",
       "    }\n",
       "\n",
       "    .dataframe tbody tr th {\n",
       "        vertical-align: top;\n",
       "    }\n",
       "\n",
       "    .dataframe thead th {\n",
       "        text-align: right;\n",
       "    }\n",
       "</style>\n",
       "<table border=\"1\" class=\"dataframe\">\n",
       "  <thead>\n",
       "    <tr style=\"text-align: right;\">\n",
       "      <th></th>\n",
       "      <th>question</th>\n",
       "      <th>answer</th>\n",
       "    </tr>\n",
       "  </thead>\n",
       "  <tbody>\n",
       "    <tr>\n",
       "      <th>0</th>\n",
       "      <td>Kenapa diskon tidak muncul di detail produk?</td>\n",
       "      <td>Pastikan produk tersebut sedang promo atau hub...</td>\n",
       "    </tr>\n",
       "    <tr>\n",
       "      <th>1</th>\n",
       "      <td>Kenapa Saat order stock produk tersedia, namun...</td>\n",
       "      <td>Sistem proses berdasarkan orderan yang masuk p...</td>\n",
       "    </tr>\n",
       "    <tr>\n",
       "      <th>2</th>\n",
       "      <td>Saya tidak bisa masuk menu Order, muncul keter...</td>\n",
       "      <td>Pastikan status customer Anda aktif atau silah...</td>\n",
       "    </tr>\n",
       "    <tr>\n",
       "      <th>3</th>\n",
       "      <td>Bagaimana jika saya ingin bisa akses lebih dar...</td>\n",
       "      <td>Silakan menghubungi Salesman atau Supervisor a...</td>\n",
       "    </tr>\n",
       "    <tr>\n",
       "      <th>4</th>\n",
       "      <td>Kenapa saat saya log in muncul keterangan Ship...</td>\n",
       "      <td>Hal tersebut dikarenakan status Customer Anda ...</td>\n",
       "    </tr>\n",
       "  </tbody>\n",
       "</table>\n",
       "</div>"
      ],
      "text/plain": [
       "                                            question  \\\n",
       "0       Kenapa diskon tidak muncul di detail produk?   \n",
       "1  Kenapa Saat order stock produk tersedia, namun...   \n",
       "2  Saya tidak bisa masuk menu Order, muncul keter...   \n",
       "3  Bagaimana jika saya ingin bisa akses lebih dar...   \n",
       "4  Kenapa saat saya log in muncul keterangan Ship...   \n",
       "\n",
       "                                              answer  \n",
       "0  Pastikan produk tersebut sedang promo atau hub...  \n",
       "1  Sistem proses berdasarkan orderan yang masuk p...  \n",
       "2  Pastikan status customer Anda aktif atau silah...  \n",
       "3  Silakan menghubungi Salesman atau Supervisor a...  \n",
       "4  Hal tersebut dikarenakan status Customer Anda ...  "
      ]
     },
     "execution_count": 3,
     "metadata": {},
     "output_type": "execute_result"
    }
   ],
   "source": [
    "df = pd.read_csv(\"../data/12-08-data_faq.csv\")\n",
    "df = df.drop(columns=[\"id_faq\", \"nama_kategori\"])\n",
    "\n",
    "#  save to csv\n",
    "df.to_csv(\"../data/clean_data_faq.csv\", index=False)\n",
    "df.head()"
   ]
  },
  {
   "cell_type": "code",
   "execution_count": 4,
   "metadata": {},
   "outputs": [
    {
     "name": "stdout",
     "output_type": "stream",
     "text": [
      "[Document(metadata={'source': '../data/clean_data_faq.csv', 'row': 0}, page_content='question: Kenapa diskon tidak muncul di detail produk?\\nanswer: Pastikan produk tersebut sedang promo atau hubungi WA EMOS Care'), Document(metadata={'source': '../data/clean_data_faq.csv', 'row': 1}, page_content='question: Kenapa Saat order stock produk tersedia, namun order di cancel karena stock tidak ada?\\nanswer: Sistem proses berdasarkan orderan yang masuk pertama dan tergantung ketersedian stock saat orderan masuk sistem'), Document(metadata={'source': '../data/clean_data_faq.csv', 'row': 2}, page_content='question: Saya tidak bisa masuk menu Order, muncul keterangan Gagal ambil data\\nanswer: Pastikan status customer Anda aktif atau silahkan menghubungi EMOS Care'), Document(metadata={'source': '../data/clean_data_faq.csv', 'row': 3}, page_content='question: Bagaimana jika saya ingin bisa akses lebih dari 1 Handphone?\\nanswer: Silakan menghubungi Salesman atau Supervisor atau EMOS Care'), Document(metadata={'source': '../data/clean_data_faq.csv', 'row': 4}, page_content='question: Kenapa saat saya log in muncul keterangan Shipto tidak aktif?\\nanswer: Hal tersebut dikarenakan status Customer Anda sedang di inactive kan sementara. Silakan menghubungi Salesman atau Supervisor atau EMOS Care'), Document(metadata={'source': '../data/clean_data_faq.csv', 'row': 5}, page_content='question: Bagaimana jika nomer HP saya sudah tidak aktif, dan ingin update data?\\nanswer: Silakan klik menu bantuan di aplikasi atau hubungi EMOS Care'), Document(metadata={'source': '../data/clean_data_faq.csv', 'row': 6}, page_content='question: Bagaimana cara registrasi EMOS?\\nanswer: 1. Download Aplikasi EMOS di Google Play Store\\r\\n2. Lakukan registrasi dengan klik Sign Up\\r\\n3. Pilih Distributor yang melayani\\r\\n4. Isikan data sesuai dengan kolom\\r\\n5. Klik Register'), Document(metadata={'source': '../data/clean_data_faq.csv', 'row': 7}, page_content='question: Apa keuntungan menggunakan EMOS?\\nanswer: - Order bisa kapan saja dan dimana saja\\r\\n- Cek ketersedian stock produk\\r\\n- Cek status Order secara langsung\\r\\n- Mendapatkan Poin\\r\\n- Promo menarik untuk produk-produk tertentu'), Document(metadata={'source': '../data/clean_data_faq.csv', 'row': 8}, page_content='question: Tidak bisa registrasi, muncul keterangan customer number not found\\nanswer: Pastikan Anda sudah menjadi pelanggan Enseval, dan memiliki customer number aktif'), Document(metadata={'source': '../data/clean_data_faq.csv', 'row': 9}, page_content='question: Bagaimana jika saya lupa username atau password?\\nanswer: Silakan klik forget password atau lupa password di Aplikasi.\\r\\nPastikan nomer HP yang terdaftar aktif untuk mendapatkan Authentication Code'), Document(metadata={'source': '../data/clean_data_faq.csv', 'row': 10}, page_content='question: Bagaimana jika saya lupa PIN?\\nanswer: 1. Silakan masuk menu Poin atau Coin\\r\\n2. Klik lupa PIN\\r\\n3. Pastikan nomer HP yang terdaftar aktif untuk mendapatkan OTP'), Document(metadata={'source': '../data/clean_data_faq.csv', 'row': 11}, page_content='question: Kenapa saya tidak bisa login di HP yang berbeda?\\nanswer: Saat ini kami hanya memberikan akses 1 username 1 Handphone'), Document(metadata={'source': '../data/clean_data_faq.csv', 'row': 12}, page_content='question: Bagaimana cara merubah password?\\nanswer: 1. Silakan masuk menu Profil lalu pilih ubah password\\r\\n2. Input Password baru\\r\\n3. Input kembali Password baru lalu klik Submit'), Document(metadata={'source': '../data/clean_data_faq.csv', 'row': 13}, page_content='question: Bagaimana cara merubah PIN?\\nanswer: 1. Silakan masuk menu Profil lalu pilih setting PIN\\r\\n2. Input PIN lama\\r\\n3. Input PIN baru lalu klik Submit'), Document(metadata={'source': '../data/clean_data_faq.csv', 'row': 14}, page_content='question: Kenapa orderan saya tidak dikirim?\\nanswer: Silakan masuk ke menu Status Order, pastikan order tidak ter-cancel atau sudah mendapatkan Nomor Faktur'), Document(metadata={'source': '../data/clean_data_faq.csv', 'row': 15}, page_content='question: Saat buka Aplikasi otomatis keluar atau force close\\nanswer: 1. Pastikan Anda sudah menggunakan Aplikasi versi terbaru dan permission untuk aplikasi EMOS sudah di izinkan atau allow permission\\r\\n2. Untuk versi 2.5.59 dan jika versi selanjutnya mengalami hal yang sama(force closed),  silahkan melakukan langkah Clear Data (bukan Clear Cache) di pengaturan (setting) aplikasi Android. Lalu lakukan login kembali, dan izinkan seluruh fitur atau allow permission'), Document(metadata={'source': '../data/clean_data_faq.csv', 'row': 16}, page_content='question: Kenapa produk xxx tidak muncul di Aplikasi EMOS?\\nanswer: Benar, beberapa produk tidak dimunculkkan, silakan WA team EMOS Care untuk keterangan lebih lanjut'), Document(metadata={'source': '../data/clean_data_faq.csv', 'row': 17}, page_content='question: Bagaimana jika item produk tidak muncul di menu order saya?\\nanswer: Silahkan klik tombol refresh yang ada di menu order, pastikan internet anda dalam keadaan stabil.\\r\\nJika tidak dapat menggunakan wifi, maka gunakan internet provider, begitu juga sebaliknya.'), Document(metadata={'source': '../data/clean_data_faq.csv', 'row': 18}, page_content='question: Kenapa saya tidak bisa melakukan check out order?\\nanswer: Pastikan  jaringan internet Anda dalam keadaan stabil dan status customer Anda aktif'), Document(metadata={'source': '../data/clean_data_faq.csv', 'row': 19}, page_content='question: Kenapa saat check out muncul keterangan Gagal kirim data ?\\nanswer: Silakan hubungi Salesman, Supervisor atau EMOS Care.'), Document(metadata={'source': '../data/clean_data_faq.csv', 'row': 20}, page_content='question: Kenapa orderan saya tidak muncul di menu status order?\\nanswer: Pastikan saat Anda order sudah sampai tahap akhir, konfirmasi Order Sukses diproses'), Document(metadata={'source': '../data/clean_data_faq.csv', 'row': 21}, page_content='question: Apakah saya bisa menambahkan atau mengurangi orderan produk yang sudah saya order?\\nanswer: Untuk saat ini tidak bisa.'), Document(metadata={'source': '../data/clean_data_faq.csv', 'row': 22}, page_content='question: Apakah ada perbedaan diskon jika order melalui EMOS?\\nanswer: Untuk diskon, produk-produk reguler jika melalui EMOS, Salesman atau Call Center tetap sama'), Document(metadata={'source': '../data/clean_data_faq.csv', 'row': 23}, page_content='question: Kenapa Poin saya tidak bertambah?\\nanswer: Pastikan orderan Anda sudah terproses dan sudah menjadi faktur atau hubungi EMOS Care'), Document(metadata={'source': '../data/clean_data_faq.csv', 'row': 24}, page_content='question: Kenapa Coin saya tidak bertambah?\\nanswer: Pastikan pembayaran MOSPay Anda sukses atau hubungi EMOS Care'), Document(metadata={'source': '../data/clean_data_faq.csv', 'row': 25}, page_content='question: Kenapa tagihan saya tidak muncul di list tagihan?\\nanswer: Pastikan tidak ada status proses di menu status pembayaran'), Document(metadata={'source': '../data/clean_data_faq.csv', 'row': 26}, page_content='question: Saya sudah melakukan pembayaran, tetapi tagihan masih muncul\\nanswer: Silakan cek status pembayaran Anda Sukses, dan dana sudah terdebit dari rekening Anda'), Document(metadata={'source': '../data/clean_data_faq.csv', 'row': 27}, page_content='question: Bagaimana jika diskon yang tertera di EMOS tidak muncul di Faktur?\\nanswer: Silakan menghubungi Salesman atau Supervisor atau EMOS Care'), Document(metadata={'source': '../data/clean_data_faq.csv', 'row': 28}, page_content='question: Berapa minimal order di Aplikasi EMOS?\\nanswer: Setiap Distributor memiliki kebijakannya masing-masing, Silakan lihat profil distributor.'), Document(metadata={'source': '../data/clean_data_faq.csv', 'row': 29}, page_content='question: Kenapa order an saya di cancel atau tidak dapat nomor faktur?\\nanswer: Pastikan tidak ada masalah perizinan atau overdue piutang. Silakan hubungi EMOS Care untuk keterangan lebih lanjut.'), Document(metadata={'source': '../data/clean_data_faq.csv', 'row': 30}, page_content='question: Kapan Orderan saya dikirim?\\nanswer: Silakan masuk ke menu status order, pastikan order Anda sudah mendapatkan SJ (Surat Jalan)'), Document(metadata={'source': '../data/clean_data_faq.csv', 'row': 31}, page_content='question: Kenapa orderan saya tidak dikirim?\\nanswer: Silakan masuk ke menu status order, pastikan order tidak ter-cancel atau sudah mendapatkan nomor faktur'), Document(metadata={'source': '../data/clean_data_faq.csv', 'row': 32}, page_content='question: Dimana saya dapat melihat promo pada EMOS?\\nanswer: Silakan cek banner di halaman utama EMOS atau detail produk di menu order.'), Document(metadata={'source': '../data/clean_data_faq.csv', 'row': 33}, page_content='question: Bagaimana cara meng-cancel orderan EMOS?\\nanswer: Silakan menghubungi Salesman atau Supervisor atau EMOS Care'), Document(metadata={'source': '../data/clean_data_faq.csv', 'row': 34}, page_content='question: Saya sudah registrasi, tetapi kenapa tidak bisa login?\\nanswer: Pastikan akun anda sudah diaktivasi oleh partner distributor. Pastikan username,Password dan Customer number benar. \\r\\nSilakan hubungi EMOS Care'), Document(metadata={'source': '../data/clean_data_faq.csv', 'row': 35}, page_content='question: Kenapa Status pembayaran saya gagal, padahal  dana sudah terdebit?\\nanswer: Silakan hubungi KSA atau EMOS Care'), Document(metadata={'source': '../data/clean_data_faq.csv', 'row': 36}, page_content='question: Kenapa list Virtual Account tidak muncul?\\nanswer: Pastikan jaringan internet Anda dalam keadaan stabil dan sudah menggunakan Aplikasi versi terbaru'), Document(metadata={'source': '../data/clean_data_faq.csv', 'row': 37}, page_content='question: Kenapa saat klik payment muncul keterangan error Json no value for link?\\nanswer: Pastikan Anda sudah menggunakan versi Aplikasi terbaru'), Document(metadata={'source': '../data/clean_data_faq.csv', 'row': 38}, page_content='question: Bagaimana cara menggunakan faktur CN?\\nanswer: Silakan pilih invoice reguler dan CN di list tagihan'), Document(metadata={'source': '../data/clean_data_faq.csv', 'row': 39}, page_content='question: Bagaimana cara melihat faktur CN?\\nanswer: Silakan cek invoice yang ditandai dengan \"-\" di list tagihan'), Document(metadata={'source': '../data/clean_data_faq.csv', 'row': 40}, page_content='question: Kenapa saya tidak bisa login Aplikasi, muncul keterangan terblokir?\\nanswer: Jika Anda mengganti device/update OS Android, silakan menghubungi Supervisor/ Salesman/ EMOS Care untuk pengecekan lebih lanjut.'), Document(metadata={'source': '../data/clean_data_faq.csv', 'row': 41}, page_content='question: Bagaimana cara melihat kode e-voucher atau kode token listrik?\\nanswer: Silakan masuk ke menu history redeem poin atau coin. Isikan rentang tanggal redeem lalu submit dan klik transaksi yang telah dilakukan'), Document(metadata={'source': '../data/clean_data_faq.csv', 'row': 42}, page_content='question: Kenapa pulsa, saldo e-wallet atau token listrik saya tidak terima, poin atau coin sudah terpotong?\\nanswer: Silakan masuk kemenu history redeem poin atau coin dan pastikan status nya sukses'), Document(metadata={'source': '../data/clean_data_faq.csv', 'row': 43}, page_content='question: Bagaimana saya bisa mendapatkan Poin?\\nanswer: Setiap orderan yang berhasil menjadi faktur. Poin terakumulasi H+1 setelah orderan jadi faktur'), Document(metadata={'source': '../data/clean_data_faq.csv', 'row': 44}, page_content='question: Poin atau coin yang saya peroleh, bisa ditukar apa saja?\\nanswer: -Pulsa Handphone semua operator\\r\\n-Token listrik\\r\\n-E-Voucher Alfamart & Indomaret\\r\\n-Saldo E-wallet (Gopay, OVO, Dana)\\r\\n-Voucher Belanja'), Document(metadata={'source': '../data/clean_data_faq.csv', 'row': 45}, page_content='question: Bagimana cara pembayaran melalui MOSPay?\\nanswer: 1. Masuk ke list Tagih\\r\\n2. Pilih faktur yang ingin dibayarkan, klik Payment\\r\\n3. Pilih metode pembayaran yang ingin dilakukan \\r\\n4. Copy Nomor Virtual Account yang muncul\\r\\n5. Gunakan Nomor Virtual Account untuk menyelesaikan pembayaran melalui M-Banking/ATM\\r\\n6. Atau silahkan cek Instruksi Pembayaran yang terdapat di aplikasi setelah memilih metode pembayaran'), Document(metadata={'source': '../data/clean_data_faq.csv', 'row': 46}, page_content='question: Kenapa saya tidak bisa melakukan redeem poin atau coin, muncul keterangan terblokir?\\nanswer: Pastikan Anda belum pernah melakukan redeem menggunakan perangkat yang berbeda.\\\\nJika sudah, silakan hubungi EMOS Care, Salesman, Supervisor'), Document(metadata={'source': '../data/clean_data_faq.csv', 'row': 47}, page_content='question: Bagaimana saya bisa mendapatkan Coin?\\nanswer: Setiap pembayaran mengunakan MOSPay 300.000 (Sebelum Pajak) mendapatkan 1 coin tidak berlaku kelipatan. Coin terakumulasi H+1 setelah pembayaran sukses')]\n"
     ]
    }
   ],
   "source": [
    "from langchain_community.document_loaders.csv_loader import CSVLoader\n",
    "\n",
    "loader = CSVLoader(file_path=\"../data/clean_data_faq.csv\")\n",
    "data = loader.load()\n",
    "\n",
    "print(data)"
   ]
  },
  {
   "cell_type": "code",
   "execution_count": 5,
   "metadata": {},
   "outputs": [],
   "source": [
    "# text splitter\n",
    "from langchain.text_splitter import RecursiveCharacterTextSplitter\n",
    "\n",
    "text_splitter = RecursiveCharacterTextSplitter(\n",
    "    chunk_size=800, #max num of char \n",
    "    chunk_overlap=100,#overlap between chunks to maintain context \n",
    "    length_function=len,\n",
    "    is_separator_regex=False,\n",
    ")\n",
    "\n",
    "chunk_docs = text_splitter.split_documents(data)"
   ]
  },
  {
   "cell_type": "code",
   "execution_count": 6,
   "metadata": {},
   "outputs": [
    {
     "name": "stderr",
     "output_type": "stream",
     "text": [
      "/tmp/ipykernel_88037/290088060.py:5: LangChainDeprecationWarning: The class `ChatOpenAI` was deprecated in LangChain 0.0.10 and will be removed in 1.0. An updated version of the class exists in the :class:`~langchain-openai package and should be used instead. To use it run `pip install -U :class:`~langchain-openai` and import as `from :class:`~langchain_openai import ChatOpenAI``.\n",
      "  llm = ChatOpenAI(model=\"gpt-4o-mini\", temperature=0.5)\n"
     ]
    }
   ],
   "source": [
    "# define llm\n",
    "from langchain.llms import OpenAI\n",
    "from langchain.chat_models import ChatOpenAI\n",
    "\n",
    "llm = ChatOpenAI(model=\"gpt-4o-mini\", temperature=0.5)"
   ]
  },
  {
   "cell_type": "code",
   "execution_count": 7,
   "metadata": {},
   "outputs": [],
   "source": [
    "# Text embedding\n",
    "from langchain_openai import OpenAIEmbeddings\n",
    "\n",
    "embeddings = OpenAIEmbeddings()\n",
    "embedding_dim = 1536"
   ]
  },
  {
   "cell_type": "markdown",
   "metadata": {},
   "source": [
    "# Connect to Milvus"
   ]
  },
  {
   "cell_type": "code",
   "execution_count": null,
   "metadata": {},
   "outputs": [],
   "source": [
    "# Connect to database without creating new db \n",
    "from pymilvus import connections, db \n",
    "conn = connections.connect(\n",
    "    host = \"127.0.0.1\",\n",
    "    port = \"19530\",\n",
    "    db_name = \"my_database\"\n",
    ")"
   ]
  },
  {
   "cell_type": "code",
   "execution_count": 22,
   "metadata": {},
   "outputs": [
    {
     "data": {
      "text/plain": [
       "['default', 'my_database']"
      ]
     },
     "execution_count": 22,
     "metadata": {},
     "output_type": "execute_result"
    }
   ],
   "source": [
    "# list db \n",
    "db.list_database()"
   ]
  },
  {
   "cell_type": "code",
   "execution_count": 23,
   "metadata": {},
   "outputs": [],
   "source": [
    "\n",
    "# use database \n",
    "db.using_database(\"my_database\")"
   ]
  },
  {
   "cell_type": "code",
   "execution_count": 24,
   "metadata": {},
   "outputs": [],
   "source": [
    "collection_name = \"emos_collection\""
   ]
  },
  {
   "cell_type": "code",
   "execution_count": 25,
   "metadata": {},
   "outputs": [],
   "source": [
    "import time \n",
    "from functools import lru_cache\n",
    "\n",
    "def time_logged(func):\n",
    "    def wrapper(*args, **kwargs):\n",
    "        start_time = time.time()\n",
    "        result = func(*args, **kwargs)\n",
    "        end_time = time.time()\n",
    "        print(f\"Time taken by {func.__name__}: {end_time - start_time: .4f} seconds\") \n",
    "        return result \n",
    "    return wrapper       "
   ]
  },
  {
   "cell_type": "markdown",
   "metadata": {},
   "source": [
    "# Connect to Redis "
   ]
  },
  {
   "cell_type": "code",
   "execution_count": 26,
   "metadata": {},
   "outputs": [],
   "source": [
    "import torch\n",
    "\n",
    "torch.cuda.empty_cache()  # Clear PyTorch's cached memory"
   ]
  },
  {
   "cell_type": "code",
   "execution_count": 27,
   "metadata": {},
   "outputs": [
    {
     "name": "stderr",
     "output_type": "stream",
     "text": [
      "/home/kaniagalih/emos/emos-mobile-assistant/.venv/lib/python3.12/site-packages/transformers/tokenization_utils_base.py:1601: FutureWarning: `clean_up_tokenization_spaces` was not set. It will be set to `True` by default. This behavior will be depracted in transformers v4.45, and will be then set to `False` by default. For more details check this issue: https://github.com/huggingface/transformers/issues/31884\n",
      "  warnings.warn(\n"
     ]
    }
   ],
   "source": [
    "# Initialize Semantic Cache\n",
    "from redisvl.extensions.llmcache import SemanticCache\n",
    "llmcache = SemanticCache(\n",
    "    name=\"llmcache\",                     # underlying search index name\n",
    "    redis_url=\"redis://localhost:6379\",  # redis connection url string\n",
    "    distance_threshold=0.1,              # semantic cache distance threshold\n",
    "    overwrite=True\n",
    ")"
   ]
  },
  {
   "cell_type": "code",
   "execution_count": 28,
   "metadata": {},
   "outputs": [
    {
     "name": "stderr",
     "output_type": "stream",
     "text": [
      "huggingface/tokenizers: The current process just got forked, after parallelism has already been used. Disabling parallelism to avoid deadlocks...\n",
      "To disable this warning, you can either:\n",
      "\t- Avoid using `tokenizers` before the fork if possible\n",
      "\t- Explicitly set the environment variable TOKENIZERS_PARALLELISM=(true | false)\n"
     ]
    },
    {
     "name": "stdout",
     "output_type": "stream",
     "text": [
      "\n",
      "\n",
      "Index Information:\n",
      "╭──────────────┬────────────────┬──────────────┬─────────────────┬────────────╮\n",
      "│ Index Name   │ Storage Type   │ Prefixes     │ Index Options   │   Indexing │\n",
      "├──────────────┼────────────────┼──────────────┼─────────────────┼────────────┤\n",
      "│ llmcache     │ HASH           │ ['llmcache'] │ []              │          0 │\n",
      "╰──────────────┴────────────────┴──────────────┴─────────────────┴────────────╯\n",
      "Index Fields:\n",
      "╭───────────────┬───────────────┬─────────┬────────────────┬────────────────┬────────────────┬────────────────┬────────────────┬────────────────┬─────────────────┬────────────────╮\n",
      "│ Name          │ Attribute     │ Type    │ Field Option   │ Option Value   │ Field Option   │ Option Value   │ Field Option   │   Option Value │ Field Option    │ Option Value   │\n",
      "├───────────────┼───────────────┼─────────┼────────────────┼────────────────┼────────────────┼────────────────┼────────────────┼────────────────┼─────────────────┼────────────────┤\n",
      "│ prompt        │ prompt        │ TEXT    │ WEIGHT         │ 1              │                │                │                │                │                 │                │\n",
      "│ response      │ response      │ TEXT    │ WEIGHT         │ 1              │                │                │                │                │                 │                │\n",
      "│ inserted_at   │ inserted_at   │ NUMERIC │                │                │                │                │                │                │                 │                │\n",
      "│ updated_at    │ updated_at    │ NUMERIC │                │                │                │                │                │                │                 │                │\n",
      "│ prompt_vector │ prompt_vector │ VECTOR  │ algorithm      │ FLAT           │ data_type      │ FLOAT32        │ dim            │            768 │ distance_metric │ COSINE         │\n",
      "╰───────────────┴───────────────┴─────────┴────────────────┴────────────────┴────────────────┴────────────────┴────────────────┴────────────────┴─────────────────┴────────────────╯\n"
     ]
    }
   ],
   "source": [
    "# look at the index specification created for the semantic cache lookup\n",
    "!rvl index info -i llmcache"
   ]
  },
  {
   "cell_type": "code",
   "execution_count": null,
   "metadata": {},
   "outputs": [
    {
     "name": "stdout",
     "output_type": "stream",
     "text": [
      "/bin/bash: line 1: HGETALL: command not found\n"
     ]
    },
    {
     "name": "stderr",
     "output_type": "stream",
     "text": [
      "huggingface/tokenizers: The current process just got forked, after parallelism has already been used. Disabling parallelism to avoid deadlocks...\n",
      "To disable this warning, you can either:\n",
      "\t- Avoid using `tokenizers` before the fork if possible\n",
      "\t- Explicitly set the environment variable TOKENIZERS_PARALLELISM=(true | false)\n"
     ]
    }
   ],
   "source": [
    "\n",
    "!HGETALL llmcache:a73030444569cbbb5b80cbf781c09467849349d29a4dd5ed720f2c4c407daa6e"
   ]
  },
  {
   "cell_type": "markdown",
   "metadata": {},
   "source": [
    "# RAG Zero Shot Query Rewriting "
   ]
  },
  {
   "cell_type": "code",
   "execution_count": 30,
   "metadata": {},
   "outputs": [],
   "source": [
    "# retrieve using hybrid search \n",
    "\n",
    "from pymilvus import Collection, AnnSearchRequest, WeightedRanker\n",
    "\n",
    "@time_logged\n",
    "def retrieve_from_milvus(query, collection_name, k=5):\n",
    "    # Embed the query \n",
    "    embedded_query = embeddings.embed_query(query)\n",
    "    collection = Collection(name=collection_name)\n",
    "\n",
    "    # annsearch for similarity search\n",
    "    search_param = {\n",
    "        \"data\": [embedded_query],\n",
    "        \"anns_field\": \"question_vector\",\n",
    "        \"param\": {\n",
    "            \"metric_type\": \"COSINE\",\n",
    "            \"params\": {\"nprobe\": 10} #will search in 10 cluster \n",
    "        },\n",
    "        \"limit\": k\n",
    "    }\n",
    "    request = AnnSearchRequest(**search_param)\n",
    "\n",
    "    # Perform the hybrid search in Milvus\n",
    "    results = collection.hybrid_search(\n",
    "        reqs=[request],\n",
    "        rerank=WeightedRanker(0.8), #adding reranking startegy \n",
    "        limit=k,\n",
    "        output_fields=[\"question\", \"answer\"]  \n",
    "    )\n",
    "\n",
    "    # Extract the answers from search results\n",
    "    answers = []\n",
    "    if results:\n",
    "        for hit in results[0]:\n",
    "            answer = hit.entity.get('answer')\n",
    "            if answer:\n",
    "                answers.append(answer)\n",
    "\n",
    "    return answers"
   ]
  },
  {
   "cell_type": "code",
   "execution_count": 31,
   "metadata": {},
   "outputs": [
    {
     "name": "stdout",
     "output_type": "stream",
     "text": [
      "Time taken by retrieve_from_milvus:  7.7953 seconds\n",
      "['1. Silakan masuk menu Profil lalu pilih ubah password\\r\\n'\n",
      " '2. Input Password baru\\r\\n'\n",
      " '3. Input kembali Password baru lalu klik Submit',\n",
      " '1. Silakan masuk menu Profil lalu pilih setting PIN\\r\\n'\n",
      " '2. Input PIN lama\\r\\n'\n",
      " '3. Input PIN baru lalu klik Submit',\n",
      " 'Silakan klik forget password atau lupa password di Aplikasi.\\r\\n'\n",
      " 'Pastikan nomer HP yang terdaftar aktif untuk mendapatkan Authentication Code',\n",
      " '1. Silakan masuk menu Poin atau Coin\\r\\n'\n",
      " '2. Klik lupa PIN\\r\\n'\n",
      " '3. Pastikan nomer HP yang terdaftar aktif untuk mendapatkan OTP',\n",
      " 'Saat ini kami hanya memberikan akses 1 username 1 Handphone']\n"
     ]
    }
   ],
   "source": [
    "# checking connection to milvus \n",
    "# Checking, manually search without LLM\n",
    "from pprint import pprint\n",
    "\n",
    "query = \"How to change the password\"\n",
    "retrieved_docs = retrieve_from_milvus(query, collection_name, k=5)\n",
    "pprint(retrieved_docs)"
   ]
  },
  {
   "cell_type": "code",
   "execution_count": 33,
   "metadata": {},
   "outputs": [],
   "source": [
    "# Zero shot rewrite \n",
    "\n",
    "import re\n",
    "from langchain.chains.combine_documents import create_stuff_documents_chain\n",
    "from langchain.chains import LLMChain\n",
    "from langchain_core.prompts import ChatPromptTemplate, MessagesPlaceholder, PromptTemplate, FewShotChatMessagePromptTemplate\n",
    "from langchain_openai import ChatOpenAI\n",
    "\n",
    "\n",
    "system_rewrite = \"\"\"\n",
    "You are a helpful assistant that generates multiple search queries based on a single input query.\n",
    "\n",
    "Perform query expansion. If there are multiple common ways of phrasing a user question\n",
    "or common synonyms for key words in the question, make sure to return multiple versions\n",
    "of the query with the different phrasings.\n",
    "\n",
    "If there are acronyms or words you are not familiar with, do not try to rephrase them.\n",
    "\n",
    "Return 3 different versions of the question.\"\"\"\n",
    "\n",
    "@time_logged\n",
    "def zero_shot(question):\n",
    "    # Check if the zero-shot expanded questions are already cached\n",
    "    cached_zero_shot = llmcache.check(prompt=f\"zero_shot_{question}\")\n",
    "    \n",
    "    if cached_zero_shot:\n",
    "        # If the zero-shot output is cached, return it\n",
    "        return cached_zero_shot[0]['response'].split(\"\\n\") \n",
    "    \n",
    "    # If not in cache, generate the expanded queries using zero-shot\n",
    "    prompt = ChatPromptTemplate.from_messages(\n",
    "        [\n",
    "            (\"system\", system_rewrite),\n",
    "            (\"human\", \"{context}\")\n",
    "        ]\n",
    "    )\n",
    "    \n",
    "    zero_chain = LLMChain(llm=llm, prompt=prompt)\n",
    "    \n",
    "    expanded_queries = zero_chain.invoke({\n",
    "        \"context\": question\n",
    "    })\n",
    "    \n",
    "    # Split the response into multiple expanded questions\n",
    "    expanded_question_list = expanded_queries[\"text\"].split(\"\\n\")\n",
    "    \n",
    "    # Store the zero-shot expanded questions in the cache \n",
    "    llmcache.store(\n",
    "        prompt=f\"zero_shot_{question}\",\n",
    "        response=\"\\n\".join(expanded_question_list), \n",
    "        metadata={}\n",
    "    )\n",
    "    \n",
    "    return expanded_question_list\n"
   ]
  },
  {
   "cell_type": "code",
   "execution_count": 34,
   "metadata": {},
   "outputs": [
    {
     "name": "stderr",
     "output_type": "stream",
     "text": [
      "/tmp/ipykernel_925/3514859553.py:38: LangChainDeprecationWarning: The class `LLMChain` was deprecated in LangChain 0.1.17 and will be removed in 1.0. Use RunnableSequence, e.g., `prompt | llm` instead.\n",
      "  zero_chain = LLMChain(llm=llm, prompt=prompt)\n"
     ]
    },
    {
     "name": "stdout",
     "output_type": "stream",
     "text": [
      "Time taken by zero_shot:  4.9482 seconds\n",
      "['1. Mengapa diskon tidak terlihat di rincian produk?',\n",
      " '2. Apa alasan diskon tidak muncul pada detail produk?',\n",
      " '3. Kenapa potongan harga tidak tampil di informasi produk?']\n"
     ]
    }
   ],
   "source": [
    "# check the zero shot rewrite\n",
    "question = \"kenapa diskon tidak muncul di detail produk?\"\n",
    "result = zero_shot(question)\n",
    "\n",
    "pprint(result)"
   ]
  },
  {
   "cell_type": "code",
   "execution_count": 35,
   "metadata": {},
   "outputs": [
    {
     "name": "stdout",
     "output_type": "stream",
     "text": [
      "Time taken by zero_shot:  1.4346 seconds\n",
      "['1. Mengapa saya tidak bisa melihat diskon di halaman detail produk?',\n",
      " '2. Kenapa diskon tidak muncul di halaman rincian produk?',\n",
      " '3. Apa alasan diskon tidak terlihat pada halaman detail barang?']\n"
     ]
    }
   ],
   "source": [
    "# check the zero shot rewrite\n",
    "question = \"Mengapa diskon tidak terlihat di halaman detail produk??\"\n",
    "result = zero_shot(question)\n",
    "\n",
    "pprint(result)"
   ]
  },
  {
   "cell_type": "code",
   "execution_count": 36,
   "metadata": {},
   "outputs": [
    {
     "name": "stdout",
     "output_type": "stream",
     "text": [
      "Time taken by zero_shot:  0.0978 seconds\n",
      "['1. Mengapa saya tidak bisa melihat diskon di halaman detail produk?',\n",
      " '2. Kenapa diskon tidak muncul di halaman rincian produk?',\n",
      " '3. Apa alasan diskon tidak terlihat pada halaman detail barang?']\n"
     ]
    }
   ],
   "source": [
    "# check the zero shot rewrite\n",
    "question = \"Kenapa potongan harga tidak muncul pada detail produk?\"\n",
    "result = zero_shot(question)\n",
    "\n",
    "pprint(result)"
   ]
  },
  {
   "cell_type": "code",
   "execution_count": 37,
   "metadata": {},
   "outputs": [
    {
     "name": "stdout",
     "output_type": "stream",
     "text": [
      "Time taken by zero_shot:  1.3499 seconds\n",
      "['1. Apakah harga dan diskon berbeda jika melakukan pemesanan melalui emos?',\n",
      " '2. Adakah perbedaan dalam harga dan potongan jika saya memesan lewat emos?',\n",
      " '3. Bagaimana perbandingan harga dan diskon saat memesan melalui emos?']\n"
     ]
    }
   ],
   "source": [
    "# new question\n",
    "# check the zero shot rewrite\n",
    "question = \"Apakah ada perbedaan harga dan diskon jika order melalui emos?\"\n",
    "result = zero_shot(question)\n",
    "\n",
    "pprint(result)"
   ]
  },
  {
   "cell_type": "code",
   "execution_count": 38,
   "metadata": {},
   "outputs": [],
   "source": [
    "import re\n",
    "from langchain.chains.combine_documents import create_stuff_documents_chain\n",
    "from langchain_core.prompts import ChatPromptTemplate, MessagesPlaceholder\n",
    "from langchain_openai import ChatOpenAI\n",
    "from langchain_core.messages import HumanMessage\n",
    "from langchain_community.chat_message_histories import ChatMessageHistory\n",
    "\n",
    "answer_prompt = \"\"\"\n",
    "You are an intelligent system designed to assist users with their questions about the EMOS application and provide helpful, accurate, and natural-sounding responses. Follow ONLY the provided context to answer the question, thinking step-by-step before responding.\n",
    "As \"AI Assistant,\" your task is to provide clear and concise answers using the available context. If there is no relevant information, respond with \"Hmm, I don't know the answer to that, its out of my resource\" \n",
    "Refuse to answer any unrelated questions, never break character, and always base your response on the given context.\n",
    "PAY ATTENTION if the user asks about products, or brands other than emos. Answer directly with \"Hmm, I don't know the answer to that, its out of my resource\"\n",
    "\n",
    "Do not create an answer if:\n",
    "\n",
    "- The answer cannot be determined from the context alone. In this case, respond with \"Hmm, I don't know the answer to that, its out of my resource\"\n",
    "- The context is empty. Respond with \"Hmm, I don't know the answer to that, its out of my resource\"\n",
    "\n",
    "Steps to answer the question:\n",
    "\n",
    "1. Check if the user's question contains slang, short language, or uses synonyms. Interpret it accordingly.\n",
    "2. Understand both the data source and the question.\n",
    "3. Ensure the question relates to the data source. If it does not, respond with \"Hmm, I don't know the answer to that, its out of my resource\"\n",
    "4. Read the entire question and provide an answer based on the context. If any word in the question does not match the data source, respond with \"Hmm, I don't know the answer to that, its out of my resource\"\n",
    "    Example: \"cara install aplikasi EMOS\" IS NOT THE SAME AS \"cara install aplikasi pembayaran.\"\n",
    "    Example : \"cara menggunakan point\" IS NOT THE SAME AS \"cara menggunakan point Tokopedia\"\n",
    "5. If the question relates to the data source, generate an answer based on both.\n",
    "6. Verify the retrieved information before generating a response.\n",
    "7. Do not provide explanations or steps unless the question directly relates to the data source.\n",
    "8. Respond like an assistant without revealing your internal reasoning process.\n",
    "9. Use bullet points if the response requires it.\n",
    "10. If you know the user's name or prior history, address them accordingly, example: \"Hi [user name].\" or if you dont know the name just start the answer by \"Hi There!\"\n",
    "11. If multiple users are involved, remember the last person who asked a question.\n",
    "\n",
    "Answer in Indonesian. Keep your response clear, well-organized, and helpful.\n",
    "\n",
    "Conversation format:\n",
    "\n",
    "Question: {messages}\n",
    "Answer: {context}\n",
    "\n",
    "REMEMBER: If there is no relevant information within the context, just say \"Hmm, I don't know the answer to that, its out of my resource\". Don't try to make up an answer. Never break character.\n",
    "\n",
    "\"\"\"\n",
    "@time_logged\n",
    "def generate_answer(query, context, message_history):\n",
    "    # Initialize the question-answering prompt template\n",
    "    question_answering_prompt = ChatPromptTemplate.from_messages(\n",
    "        [\n",
    "            (\"system\", answer_prompt),  # Your answer prompt\n",
    "            MessagesPlaceholder(variable_name=\"messages\")\n",
    "        ]\n",
    "    )\n",
    "    \n",
    "    # Create the document chain for generating responses\n",
    "    document_chain = LLMChain(llm=llm, prompt=question_answering_prompt)\n",
    "    \n",
    "    # Add the query to the message history\n",
    "    message_history.add_message(HumanMessage(content=query))\n",
    "\n",
    "    # Generate a response using the document chain\n",
    "    response = document_chain.invoke({\n",
    "        \"messages\": message_history.messages,  # Pass message history\n",
    "        \"context\": context  # Use the retrieved context\n",
    "    })\n",
    "\n",
    "    return response[\"text\"]\n"
   ]
  },
  {
   "cell_type": "code",
   "execution_count": 39,
   "metadata": {},
   "outputs": [],
   "source": [
    "# To represent a document containing both page content and optional metadata\n",
    "class Document:\n",
    "    def __init__(self, page_content, metadata=None):\n",
    "        self.page_content = page_content\n",
    "        self.metadata = metadata or {}"
   ]
  },
  {
   "cell_type": "markdown",
   "metadata": {},
   "source": [
    "adding summarization function"
   ]
  },
  {
   "cell_type": "code",
   "execution_count": 40,
   "metadata": {},
   "outputs": [],
   "source": [
    "summarization_prompt = \"\"\"\n",
    "Summarize the following responses into a concise and coherent answer. \n",
    "Focus on clarity and relevance, and remove any repetitive or unnecessary details.\n",
    "Make sure that the generated output dont have redundancies \n",
    "provide output in a form that is easy to understand and if there are steps to follow make them in bullet point form.\n",
    "check the rules in the answer prompt again so you don't violate them.\n",
    "Anything that not having correlation with EMOS and data source, just Answer directly with \"Hmm, I don't know the answer to that, its out of my resource\"\n",
    "Give the result using Bahasa Indonesia\n",
    "\n",
    "Responses: {responses}\n",
    "\"\"\"\n",
    "\n",
    "# Create a chain for summarizing\n",
    "@time_logged\n",
    "def summarize_responses(combined_responses):\n",
    "    # Define the summarization chain\n",
    "    summarization_chain = LLMChain(\n",
    "        llm=llm,\n",
    "        prompt=ChatPromptTemplate.from_messages([(\"human\", summarization_prompt)])\n",
    "    )\n",
    "\n",
    "    # Generate the summary by invoking the summarization chain\n",
    "    summary = summarization_chain.invoke({\n",
    "        \"responses\": combined_responses\n",
    "    })\n",
    "    \n",
    "    return summary[\"text\"]\n"
   ]
  },
  {
   "cell_type": "code",
   "execution_count": 41,
   "metadata": {},
   "outputs": [],
   "source": [
    "@time_logged\n",
    "def generate_response_zero_shot_with_summary(question):\n",
    "    cached_response = llmcache.check(prompt=question)\n",
    "    if cached_response:\n",
    "        #found in cache\n",
    "        return cached_response[0]['response']\n",
    "    else:\n",
    "        # Generate expanded questions using zero_shot \n",
    "        expanded_question = zero_shot(question)\n",
    "        \n",
    "        # Adding memory for conversation history\n",
    "        message_history = ChatMessageHistory()\n",
    "        \n",
    "        all_responses = []\n",
    "        \n",
    "        for query in expanded_question:\n",
    "            # Add each expanded query to the message history\n",
    "            message_history.add_message(HumanMessage(content=query))\n",
    "            \n",
    "            # Retrieve the answer from a vector store (e.g., Milvus)\n",
    "            answers = retrieve_from_milvus(query, collection_name=\"emos_collection\", k=5)\n",
    "            \n",
    "            # Combine the retrieved answers as context\n",
    "            docs = [Document(page_content=answer) for answer in answers]\n",
    "            context = \"\\n\".join([doc.page_content for doc in docs])\n",
    "            \n",
    "            # Generate a response using the document chain\n",
    "            # response = document_chain.invoke({\n",
    "            #     \"messages\": message_history.messages,\n",
    "            #     \"context\": context\n",
    "            # })\n",
    "            \n",
    "            response = generate_answer(query, context, message_history)\n",
    "            \n",
    "            # Collect each response\n",
    "            # all_responses.append(response[\"text\"])\n",
    "            all_responses.append(response)\n",
    "        \n",
    "        # Concatenate all responses into a single string for summarization\n",
    "        combined_responses = \"\\n\".join(all_responses)\n",
    "        \n",
    "        # Summarize the combined responses\n",
    "        # summary = summarization_chain.invoke({\n",
    "        #     \"responses\": combined_responses\n",
    "        # })\n",
    "        \n",
    "        summary = summarize_responses(combined_responses)\n",
    "        \n",
    "        llmcache.store(\n",
    "            prompt=question,\n",
    "            response=summary,\n",
    "            metadata={}\n",
    "        )\n",
    "    \n",
    "    return summary\n"
   ]
  },
  {
   "cell_type": "code",
   "execution_count": 42,
   "metadata": {},
   "outputs": [],
   "source": [
    "import time\n",
    "def test_semantic_cache(query):\n",
    "    start_time = time.time()\n",
    "    response = generate_response_zero_shot_with_summary(query)\n",
    "    end_time = time.time()\n",
    "    return response, end_time - start_time"
   ]
  },
  {
   "cell_type": "code",
   "execution_count": 43,
   "metadata": {},
   "outputs": [
    {
     "name": "stdout",
     "output_type": "stream",
     "text": [
      "Time taken by zero_shot:  1.4772 seconds\n",
      "Time taken by retrieve_from_milvus:  0.7963 seconds\n",
      "Time taken by generate_answer:  3.2840 seconds\n",
      "Time taken by retrieve_from_milvus:  2.4417 seconds\n",
      "Time taken by generate_answer:  2.6336 seconds\n",
      "Time taken by retrieve_from_milvus:  0.3898 seconds\n",
      "Time taken by generate_answer:  2.8063 seconds\n",
      "Time taken by summarize_responses:  2.1049 seconds\n",
      "Time taken by generate_response_zero_shot_with_summary:  16.0683 seconds\n",
      "Untuk menggunakan aplikasi EMOS, ikuti langkah-langkah berikut:\n",
      "\n",
      "1. **Download Aplikasi EMOS** di Google Play Store.\n",
      "2. **Registrasi** dengan mengklik Sign Up.\n",
      "3. **Pilih Distributor** yang melayani.\n",
      "4. **Isikan data** sesuai kolom yang tersedia.\n",
      "5. **Klik Register**.\n",
      "\n",
      "Fitur yang tersedia di EMOS:\n",
      "- Order kapan saja dan di mana saja.\n",
      "- Cek ketersediaan stok produk.\n",
      "- Cek status order secara langsung.\n",
      "- Mendapatkan poin.\n",
      "- Promo menarik untuk produk tertentu.\n",
      "\n",
      "Untuk informasi lebih lanjut, silakan cek banner di halaman utama EMOS atau lihat profil distributor, karena kebijakan dapat berbeda-beda. Jika ada pertanyaan, Anda dapat menghubungi Salesman, Supervisor, atau EMOS Care.\n"
     ]
    }
   ],
   "source": [
    "question = \"cara membeli barang di emos\"\n",
    "response =  generate_response_zero_shot_with_summary(question)\n",
    "\n",
    "\n",
    "print(response)"
   ]
  },
  {
   "cell_type": "code",
   "execution_count": 44,
   "metadata": {},
   "outputs": [
    {
     "name": "stdout",
     "output_type": "stream",
     "text": [
      "Time taken by generate_response_zero_shot_with_summary:  0.0644 seconds\n",
      "Untuk menggunakan aplikasi EMOS, ikuti langkah-langkah berikut:\n",
      "\n",
      "1. **Download Aplikasi EMOS** di Google Play Store.\n",
      "2. **Registrasi** dengan mengklik Sign Up.\n",
      "3. **Pilih Distributor** yang melayani.\n",
      "4. **Isikan data** sesuai kolom yang tersedia.\n",
      "5. **Klik Register**.\n",
      "\n",
      "Fitur yang tersedia di EMOS:\n",
      "- Order kapan saja dan di mana saja.\n",
      "- Cek ketersediaan stok produk.\n",
      "- Cek status order secara langsung.\n",
      "- Mendapatkan poin.\n",
      "- Promo menarik untuk produk tertentu.\n",
      "\n",
      "Untuk informasi lebih lanjut, silakan cek banner di halaman utama EMOS atau lihat profil distributor, karena kebijakan dapat berbeda-beda. Jika ada pertanyaan, Anda dapat menghubungi Salesman, Supervisor, atau EMOS Care.\n"
     ]
    }
   ],
   "source": [
    "question = \"cara membeli barang di emos\"\n",
    "response =  generate_response_zero_shot_with_summary(question)\n",
    "\n",
    "\n",
    "print(response)"
   ]
  },
  {
   "cell_type": "code",
   "execution_count": 45,
   "metadata": {},
   "outputs": [
    {
     "name": "stdout",
     "output_type": "stream",
     "text": [
      "Time taken by zero_shot:  1.4201 seconds\n",
      "Time taken by retrieve_from_milvus:  0.5123 seconds\n",
      "Time taken by generate_answer:  3.0018 seconds\n",
      "Time taken by retrieve_from_milvus:  0.3642 seconds\n",
      "Time taken by generate_answer:  1.9195 seconds\n",
      "Time taken by retrieve_from_milvus:  0.5260 seconds\n",
      "Time taken by generate_answer:  1.6542 seconds\n",
      "Time taken by summarize_responses:  1.4418 seconds\n",
      "Time taken by generate_response_zero_shot_with_summary:  11.0960 seconds\n",
      "Untuk memastikan akses Anda ke EMOS, ikuti langkah-langkah berikut:\n",
      "\n",
      "- Pastikan Anda adalah pelanggan Enseval dengan nomor pelanggan aktif.\n",
      "- Verifikasi bahwa akun Anda telah diaktivasi oleh distributor.\n",
      "- Cek keakuratan username, password, dan nomor pelanggan Anda.\n",
      "- Pastikan jaringan internet Anda stabil.\n",
      "- Pastikan status pelanggan Anda aktif dan tidak ada proses pembayaran yang tertunda.\n",
      "- Periksa tidak ada masalah perizinan atau piutang yang overdue.\n",
      "- Jika masih mengalami masalah, silakan hubungi EMOS Care untuk bantuan lebih lanjut. \n",
      "\n",
      "Catatan: Hanya satu username yang dapat digunakan untuk satu handphone.\n"
     ]
    }
   ],
   "source": [
    "question = \"Gak bisa registrasi, munculnya ‘customer number not found’, itu kenapa ya?\"\n",
    "response =  generate_response_zero_shot_with_summary(question)\n",
    "\n",
    "\n",
    "print(response)"
   ]
  },
  {
   "cell_type": "code",
   "execution_count": 46,
   "metadata": {},
   "outputs": [
    {
     "name": "stdout",
     "output_type": "stream",
     "text": [
      "Time taken by generate_response_zero_shot_with_summary:  0.0805 seconds\n",
      "Untuk memastikan akses Anda ke EMOS, ikuti langkah-langkah berikut:\n",
      "\n",
      "- Pastikan Anda adalah pelanggan Enseval dengan nomor pelanggan aktif.\n",
      "- Verifikasi bahwa akun Anda telah diaktivasi oleh distributor.\n",
      "- Cek keakuratan username, password, dan nomor pelanggan Anda.\n",
      "- Pastikan jaringan internet Anda stabil.\n",
      "- Pastikan status pelanggan Anda aktif dan tidak ada proses pembayaran yang tertunda.\n",
      "- Periksa tidak ada masalah perizinan atau piutang yang overdue.\n",
      "- Jika masih mengalami masalah, silakan hubungi EMOS Care untuk bantuan lebih lanjut. \n",
      "\n",
      "Catatan: Hanya satu username yang dapat digunakan untuk satu handphone.\n"
     ]
    }
   ],
   "source": [
    "question = \"Gak bisa registrasi, munculnya ‘customer number not found’, itu kenapa ya?\"\n",
    "response =  generate_response_zero_shot_with_summary(question)\n",
    "\n",
    "\n",
    "print(response)"
   ]
  },
  {
   "cell_type": "code",
   "execution_count": 47,
   "metadata": {},
   "outputs": [
    {
     "name": "stdout",
     "output_type": "stream",
     "text": [
      "Time taken by zero_shot:  1.3967 seconds\n",
      "Time taken by retrieve_from_milvus:  0.7238 seconds\n",
      "Time taken by generate_answer:  0.8144 seconds\n",
      "Time taken by retrieve_from_milvus:  0.5526 seconds\n",
      "Time taken by generate_answer:  0.9499 seconds\n",
      "Time taken by retrieve_from_milvus:  1.1300 seconds\n",
      "Time taken by generate_answer:  1.2995 seconds\n",
      "Time taken by summarize_responses:  1.2578 seconds\n",
      "Time taken by generate_response_zero_shot_with_summary:  8.2539 seconds\n",
      "Untuk mengubah password, ikuti langkah-langkah berikut:\n",
      "\n",
      "1. Masuk ke menu Profil.\n",
      "2. Pilih opsi \"Ubah Password\".\n",
      "3. Masukkan Password baru.\n",
      "4. Masukkan kembali Password baru dan klik \"Submit\".\n",
      "\n",
      "Jika Anda lupa password, klik \"Lupa Password\" di aplikasi dan pastikan nomor HP yang terdaftar aktif untuk menerima Authentication Code.\n"
     ]
    }
   ],
   "source": [
    "# query\n",
    "question = \"cara ganti password gimana ya?\"\n",
    "response = generate_response_zero_shot_with_summary(question)\n",
    "\n",
    "print(response)"
   ]
  },
  {
   "cell_type": "code",
   "execution_count": 48,
   "metadata": {},
   "outputs": [
    {
     "name": "stdout",
     "output_type": "stream",
     "text": [
      "Time taken by generate_response_zero_shot_with_summary:  0.0648 seconds\n",
      "Untuk mengubah password, ikuti langkah-langkah berikut:\n",
      "\n",
      "1. Masuk ke menu Profil.\n",
      "2. Pilih opsi \"Ubah Password\".\n",
      "3. Masukkan Password baru.\n",
      "4. Masukkan kembali Password baru dan klik \"Submit\".\n",
      "\n",
      "Jika Anda lupa password, klik \"Lupa Password\" di aplikasi dan pastikan nomor HP yang terdaftar aktif untuk menerima Authentication Code.\n"
     ]
    }
   ],
   "source": [
    "# query\n",
    "question = \"cara ganti password gimana ya?\"\n",
    "response = generate_response_zero_shot_with_summary(question)\n",
    "\n",
    "print(response)"
   ]
  },
  {
   "cell_type": "code",
   "execution_count": 49,
   "metadata": {},
   "outputs": [
    {
     "name": "stdout",
     "output_type": "stream",
     "text": [
      "Time taken by zero_shot:  1.2086 seconds\n",
      "Time taken by retrieve_from_milvus:  0.5211 seconds\n",
      "Time taken by generate_answer:  0.6267 seconds\n",
      "Time taken by retrieve_from_milvus:  0.6384 seconds\n",
      "Time taken by generate_answer:  0.7308 seconds\n",
      "Time taken by retrieve_from_milvus:  0.9452 seconds\n",
      "Time taken by generate_answer:  0.7245 seconds\n",
      "Time taken by summarize_responses:  0.6195 seconds\n",
      "Time taken by generate_response_zero_shot_with_summary:  6.1493 seconds\n",
      "Hmm, saya tidak tahu jawabannya, itu di luar sumber daya saya.\n"
     ]
    }
   ],
   "source": [
    "question = \"cara menukarkan point di tokopedia?\"\n",
    "response = generate_response_zero_shot_with_summary(question)\n",
    "\n",
    "print(response)"
   ]
  },
  {
   "cell_type": "code",
   "execution_count": 50,
   "metadata": {},
   "outputs": [
    {
     "name": "stdout",
     "output_type": "stream",
     "text": [
      "Time taken by zero_shot:  2.5645 seconds\n",
      "Time taken by retrieve_from_milvus:  0.7525 seconds\n",
      "Time taken by generate_answer:  2.0721 seconds\n",
      "Time taken by retrieve_from_milvus:  0.6991 seconds\n",
      "Time taken by generate_answer:  2.4812 seconds\n",
      "Time taken by retrieve_from_milvus:  2.3095 seconds\n",
      "Time taken by generate_answer:  1.3222 seconds\n",
      "Time taken by summarize_responses:  1.1665 seconds\n",
      "Time taken by generate_response_zero_shot_with_summary:  13.5412 seconds\n",
      "Untuk memeriksa status order Anda, ikuti langkah-langkah berikut:\n",
      "\n",
      "- Masuk ke menu Status Order.\n",
      "- Pastikan order tidak ter-cancel atau sudah mendapatkan Nomor Faktur.\n",
      "- Periksa apakah order Anda sudah mendapatkan SJ (Surat Jalan).\n",
      "- Pastikan Anda telah sampai pada tahap akhir dan mendapatkan konfirmasi \"Order Sukses diproses.\"\n",
      "- Pastikan jaringan internet Anda stabil dan status customer Anda aktif.\n"
     ]
    }
   ],
   "source": [
    "question = \"halo min, koq orderan saya blm sampai, padahal sudah melakukan pemesanan seminggu yg lalu. Username saya:kiki_012\"\n",
    "response = generate_response_zero_shot_with_summary(question)\n",
    "\n",
    "print(response)"
   ]
  },
  {
   "cell_type": "code",
   "execution_count": 51,
   "metadata": {},
   "outputs": [
    {
     "name": "stdout",
     "output_type": "stream",
     "text": [
      "Time taken by generate_response_zero_shot_with_summary:  0.0853 seconds\n",
      "Untuk memeriksa status order Anda, ikuti langkah-langkah berikut:\n",
      "\n",
      "- Masuk ke menu Status Order.\n",
      "- Pastikan order tidak ter-cancel atau sudah mendapatkan Nomor Faktur.\n",
      "- Periksa apakah order Anda sudah mendapatkan SJ (Surat Jalan).\n",
      "- Pastikan Anda telah sampai pada tahap akhir dan mendapatkan konfirmasi \"Order Sukses diproses.\"\n",
      "- Pastikan jaringan internet Anda stabil dan status customer Anda aktif.\n"
     ]
    }
   ],
   "source": [
    "question = \"halo min, koq orderan saya blm sampai, padahal sudah melakukan pemesanan seminggu yg lalu. Username saya:kiki_012\"\n",
    "response = generate_response_zero_shot_with_summary(question)\n",
    "\n",
    "print(response)"
   ]
  },
  {
   "cell_type": "code",
   "execution_count": 52,
   "metadata": {},
   "outputs": [
    {
     "name": "stdout",
     "output_type": "stream",
     "text": [
      "Time taken by zero_shot:  1.3517 seconds\n",
      "Time taken by retrieve_from_milvus:  0.4639 seconds\n",
      "Time taken by generate_answer:  0.8290 seconds\n",
      "Time taken by retrieve_from_milvus:  0.5262 seconds\n",
      "Time taken by generate_answer:  0.6443 seconds\n",
      "Time taken by retrieve_from_milvus:  0.3286 seconds\n",
      "Time taken by generate_answer:  0.7959 seconds\n",
      "Time taken by summarize_responses:  0.8477 seconds\n",
      "Time taken by generate_response_zero_shot_with_summary:  5.8890 seconds\n",
      "Hmm, saya tidak tahu jawabannya, itu di luar sumber daya saya.\n"
     ]
    }
   ],
   "source": [
    "question = \"cara install windows?\"\n",
    "response = generate_response_zero_shot_with_summary(question)\n",
    "\n",
    "print(response)"
   ]
  },
  {
   "cell_type": "code",
   "execution_count": 53,
   "metadata": {},
   "outputs": [
    {
     "name": "stdout",
     "output_type": "stream",
     "text": [
      "Time taken by generate_response_zero_shot_with_summary:  0.0675 seconds\n",
      "Hmm, saya tidak tahu jawabannya, itu di luar sumber daya saya.\n"
     ]
    }
   ],
   "source": [
    "question = \"cara menukarkan point di tokopedia?\"\n",
    "response = generate_response_zero_shot_with_summary(question)\n",
    "\n",
    "print(response)"
   ]
  },
  {
   "cell_type": "code",
   "execution_count": 54,
   "metadata": {},
   "outputs": [
    {
     "name": "stdout",
     "output_type": "stream",
     "text": [
      "Time taken by zero_shot:  0.9424 seconds\n",
      "Time taken by retrieve_from_milvus:  0.4767 seconds\n",
      "Time taken by generate_answer:  1.9019 seconds\n",
      "Time taken by retrieve_from_milvus:  0.4726 seconds\n",
      "Time taken by generate_answer:  4.0821 seconds\n",
      "Time taken by retrieve_from_milvus:  0.3375 seconds\n",
      "Time taken by generate_answer:  2.2468 seconds\n",
      "Time taken by summarize_responses:  4.0656 seconds\n",
      "Time taken by generate_response_zero_shot_with_summary:  14.7065 seconds\n",
      "Berikut adalah langkah-langkah untuk melakukan pembayaran melalui EMOS:\n",
      "\n",
      "1. Masuk ke list Tagih.\n",
      "2. Pilih faktur yang ingin dibayarkan, lalu klik Payment.\n",
      "3. Pilih metode pembayaran yang diinginkan.\n",
      "4. Salin Nomor Virtual Account yang muncul.\n",
      "5. Gunakan Nomor Virtual Account untuk menyelesaikan pembayaran melalui M-Banking atau ATM.\n",
      "6. Cek Instruksi Pembayaran di aplikasi setelah memilih metode pembayaran.\n",
      "\n",
      "Catatan:\n",
      "- Setiap pembayaran menggunakan MOSPay sebesar 300.000 (sebelum pajak) akan mendapatkan 1 coin, tidak berlaku kelipatan. Coin akan terakumulasi H+1 setelah pembayaran sukses.\n",
      "- Pastikan jaringan internet stabil dan status customer aktif.\n",
      "- Untuk pertanyaan lebih lanjut, hubungi KSA, Salesman, Supervisor, atau EMOS Care.\n"
     ]
    }
   ],
   "source": [
    "question = \"bagaimana cara bertransaksi dengan MosPay\"\n",
    "response = generate_response_zero_shot_with_summary(question)\n",
    "\n",
    "print(response)"
   ]
  },
  {
   "cell_type": "code",
   "execution_count": 55,
   "metadata": {},
   "outputs": [
    {
     "name": "stdout",
     "output_type": "stream",
     "text": [
      "Time taken by zero_shot:  0.9175 seconds\n",
      "Time taken by retrieve_from_milvus:  0.6638 seconds\n",
      "Time taken by generate_answer:  0.7604 seconds\n",
      "Time taken by retrieve_from_milvus:  0.9589 seconds\n",
      "Time taken by generate_answer:  2.1363 seconds\n",
      "Time taken by retrieve_from_milvus:  0.3398 seconds\n",
      "Time taken by generate_answer:  1.7935 seconds\n",
      "Time taken by summarize_responses:  2.2810 seconds\n",
      "Time taken by generate_response_zero_shot_with_summary:  10.0345 seconds\n",
      "Untuk melakukan pembayaran tagihan, ikuti langkah-langkah berikut:\n",
      "\n",
      "1. Masuk ke list Tagihan.\n",
      "2. Pilih invoice reguler dan CN yang ditandai dengan \"-\".\n",
      "3. Klik Payment pada faktur yang ingin dibayarkan.\n",
      "4. Pilih metode pembayaran yang diinginkan.\n",
      "5. Salin Nomor Virtual Account yang muncul.\n",
      "6. Gunakan Nomor Virtual Account untuk menyelesaikan pembayaran melalui M-Banking/ATM.\n",
      "7. Cek Instruksi Pembayaran di aplikasi setelah memilih metode pembayaran.\n",
      "\n",
      "Pastikan tidak ada masalah perizinan atau piutang yang overdue. Jika ada pertanyaan lebih lanjut, hubungi EMOS Care, Salesman, atau Supervisor.\n"
     ]
    }
   ],
   "source": [
    "question = \"cara menggunakan faktur CN bagaimana ya?\"\n",
    "response = generate_response_zero_shot_with_summary(question)\n",
    "\n",
    "print(response)"
   ]
  },
  {
   "cell_type": "code",
   "execution_count": 56,
   "metadata": {},
   "outputs": [
    {
     "name": "stdout",
     "output_type": "stream",
     "text": [
      "Time taken by generate_response_zero_shot_with_summary:  0.0670 seconds\n",
      "1. Apakah harga dan diskon berbeda jika melakukan pemesanan melalui emos?\n",
      "2. Adakah perbedaan dalam harga dan potongan jika saya memesan lewat emos?\n",
      "3. Bagaimana perbandingan harga dan diskon saat memesan melalui emos?\n"
     ]
    }
   ],
   "source": [
    "# question that has been ask in zero_shot \n",
    "question = \"Apakah ada perbedaan harga dan diskon jika order melalui emos?\"\n",
    "response = generate_response_zero_shot_with_summary(question)\n",
    "\n",
    "print(response)"
   ]
  },
  {
   "cell_type": "code",
   "execution_count": 57,
   "metadata": {},
   "outputs": [
    {
     "name": "stdout",
     "output_type": "stream",
     "text": [
      "Time taken by zero_shot:  0.0777 seconds\n",
      "Time taken by retrieve_from_milvus:  0.5889 seconds\n",
      "Time taken by generate_answer:  0.9626 seconds\n",
      "Time taken by retrieve_from_milvus:  0.4522 seconds\n",
      "Time taken by generate_answer:  1.8976 seconds\n",
      "Time taken by retrieve_from_milvus:  0.6424 seconds\n",
      "Time taken by generate_answer:  1.5075 seconds\n",
      "Time taken by summarize_responses:  1.7620 seconds\n",
      "Time taken by generate_response_zero_shot_with_summary:  8.0558 seconds\n",
      "Untuk informasi mengenai diskon produk reguler melalui EMOS, berikut adalah poin-poin penting:\n",
      "\n",
      "- Diskon untuk produk reguler tetap sama jika melalui EMOS, Salesman, atau Call Center.\n",
      "- Setiap Distributor memiliki kebijakan diskon yang berbeda. Silakan cek profil distributor untuk detail lebih lanjut.\n",
      "- Untuk informasi lebih lanjut, hubungi Salesman, Supervisor, atau EMOS Care.\n",
      "\n",
      "Fitur EMOS:\n",
      "- Order bisa dilakukan kapan saja dan di mana saja.\n",
      "- Cek ketersediaan stok produk.\n",
      "- Cek status order secara langsung.\n",
      "- Dapatkan poin.\n",
      "- Promo menarik untuk produk tertentu.\n",
      "\n",
      "Silakan cek banner di halaman utama EMOS atau detail produk di menu order untuk informasi lebih lanjut.\n"
     ]
    }
   ],
   "source": [
    "# generated question from zero_shot \n",
    "question = \"Apakah ada variasi harga dan diskon ketika order menggunakan emos?\"\n",
    "response = generate_response_zero_shot_with_summary(question)\n",
    "\n",
    "print(response)"
   ]
  },
  {
   "cell_type": "markdown",
   "metadata": {},
   "source": [
    "NOTE & CONCLUSION \n",
    "- Zero shot rewriting just generate more question to make sure about the content in question given \n",
    "- System need to generate output from given question expantion and thats make the latency longer \n",
    "- Longest latency : 2m, shortest latency : 30s \n",
    "- The given output contains many redundancies \n",
    "\n",
    "SOLUTION\n",
    "- Summarize the generated output \n",
    "- Latency : 14s\n",
    "\n",
    "CONLUSION\n",
    "- Generated output more details \n",
    "- But make the latency longer (14s) and shortest latency (8s)\n",
    "- The generated output still inconsistent but better than without zero shot"
   ]
  },
  {
   "cell_type": "markdown",
   "metadata": {},
   "source": [
    "# RAG Few Shot Query Rewriting "
   ]
  },
  {
   "cell_type": "code",
   "execution_count": 60,
   "metadata": {},
   "outputs": [],
   "source": [
    "# example query \n",
    "examples = [\n",
    "    {\n",
    "        \"question\": \"Setelah melakukan order, cara untuk bayarnya gimana ya?\",\n",
    "        \"answer\": \"Bagaimana cara melakukan pembayaran melalui MOSPay?\",\n",
    "    },\n",
    "    {\n",
    "        \"question\": \"koq orderan saya blm sampai, padahal sudah melakukan pemesanan seminggu yg lalu?\",\n",
    "        \"answer\": \"Kapan orderan dikirim?\",\n",
    "    },\n",
    "    {\n",
    "        \"question\": \"Jika lupa username dan password, cara gantinya gimana ya?\",\n",
    "        \"answer\": \"Bagaimana cara mengganti password?\",\n",
    "    }\n",
    "    \n",
    "]\n",
    "\n",
    "# function for few shot question\n",
    "def few_shot(question):\n",
    "    \n",
    "    example_prompt = ChatPromptTemplate.from_messages(\n",
    "        [\n",
    "            (\"human\", \"{question}\"),\n",
    "            (\"ai\", \"{answer}\")\n",
    "        ]\n",
    "    )\n",
    "\n",
    "    few_shot_prompt = FewShotChatMessagePromptTemplate(\n",
    "        example_prompt=example_prompt,\n",
    "        examples=examples,\n",
    "    )\n",
    "\n",
    "    final_prompt = ChatPromptTemplate.from_messages(\n",
    "        [\n",
    "            (\"system\", system_rewrite),\n",
    "            few_shot_prompt,\n",
    "            (\"human\", \"{question}\")\n",
    "        ]\n",
    "    )\n",
    "\n",
    "    few_chain = LLMChain(llm=llm, prompt=final_prompt)\n",
    "\n",
    "    expanded_queries = few_chain.invoke({\n",
    "        \"question\": question\n",
    "    })\n",
    "    \n",
    "    return expanded_queries[\"text\"].split(\"\\n\")"
   ]
  },
  {
   "cell_type": "code",
   "execution_count": 61,
   "metadata": {},
   "outputs": [
    {
     "name": "stdout",
     "output_type": "stream",
     "text": [
      "['1. Bagaimana cara menukarkan poin di Tokopedia?', '2. Langkah-langkah untuk menukar poin di Tokopedia.', '3. Proses penukaran poin pada akun Tokopedia.']\n"
     ]
    }
   ],
   "source": [
    "# check the zero shot rewrite\n",
    "question = \"cara menukarkan point di tokopedia\"\n",
    "result = few_shot(question)\n",
    "\n",
    "print(result)"
   ]
  },
  {
   "cell_type": "code",
   "execution_count": 62,
   "metadata": {},
   "outputs": [
    {
     "name": "stdout",
     "output_type": "stream",
     "text": [
      "['1. Kenapa orderan saya belum tiba meskipun sudah seminggu sejak pemesanan? Username saya: kiki_012', '2. Sudah seminggu sejak saya pesan, tapi orderan belum sampai. Apa yang harus saya lakukan? Username: kiki_012', '3. Order saya belum diterima meski sudah dipesan seminggu lalu. Bisa cek statusnya? Username saya: kiki_012']\n"
     ]
    }
   ],
   "source": [
    "# check the zero shot rewrite\n",
    "question = \"halo min, koq orderan saya blm sampai, padahal sudah melakukan pemesanan seminggu yg lalu. Username saya:kiki_012\"\n",
    "result = few_shot(question)\n",
    "\n",
    "print(result)"
   ]
  },
  {
   "cell_type": "code",
   "execution_count": 63,
   "metadata": {},
   "outputs": [],
   "source": [
    "def generate_response_few_shot_with_summary(question):\n",
    "    cached_response = llmcache.check(prompt=question)\n",
    "    if cached_response:\n",
    "        #found in cache\n",
    "        return cached_response[0]['response']\n",
    "    else:\n",
    "        # Generate expanded questions using zero_shot \n",
    "        expanded_question = few_shot(question)\n",
    "        \n",
    "    # Generate expanded questions using zero_shot \n",
    "    expanded_question = few_shot(question)\n",
    "    \n",
    "    # Adding memory for conversation history\n",
    "    message_history = ChatMessageHistory()\n",
    "    \n",
    "    all_responses = []\n",
    "    \n",
    "    for query in expanded_question:\n",
    "        # Add each expanded query to the message history\n",
    "        message_history.add_message(HumanMessage(content=query))\n",
    "        \n",
    "        # Retrieve the answer from a vector store (e.g., Milvus)\n",
    "        answers = retrieve_from_milvus(query, collection_name=\"emos_collection\", k=5)\n",
    "        \n",
    "        # Combine the retrieved answers as context\n",
    "        docs = [Document(page_content=answer) for answer in answers]\n",
    "        context = \"\\n\".join([doc.page_content for doc in docs])\n",
    "        \n",
    "        # Generate a response using the document chain\n",
    "        response = document_chain.invoke({\n",
    "            \"messages\": message_history.messages,\n",
    "            \"context\": context\n",
    "        })\n",
    "        \n",
    "        # Collect each response\n",
    "        all_responses.append(response[\"text\"])\n",
    "    \n",
    "    # Concatenate all responses into a single string for summarization\n",
    "    combined_responses = \"\\n\".join(all_responses)\n",
    "    \n",
    "    # Summarize the combined responses\n",
    "    summary = summarization_chain.invoke({\n",
    "        \"responses\": combined_responses\n",
    "    })\n",
    "    llmcache.store(\n",
    "            prompt=question,\n",
    "            response=summary[\"text\"],\n",
    "            metadata={}\n",
    "        )\n",
    "    \n",
    "    return summary[\"text\"]\n"
   ]
  },
  {
   "cell_type": "code",
   "execution_count": 64,
   "metadata": {},
   "outputs": [
    {
     "name": "stdout",
     "output_type": "stream",
     "text": [
      "Untuk mengubah password, ikuti langkah-langkah berikut:\n",
      "\n",
      "1. Masuk ke menu Profil.\n",
      "2. Pilih opsi \"Ubah Password.\"\n",
      "3. Masukkan password baru.\n",
      "4. Masukkan kembali password baru untuk konfirmasi.\n",
      "5. Klik \"Submit.\"\n",
      "\n",
      "Jika Anda lupa password, klik \"lupa password\" di aplikasi dan pastikan nomor HP yang terdaftar aktif untuk menerima kode autentikasi.\n"
     ]
    }
   ],
   "source": [
    "# query\n",
    "question = \"cara ganti password gimana ya?\"\n",
    "response = generate_response_few_shot_with_summary(question)\n",
    "\n",
    "print(response)"
   ]
  },
  {
   "cell_type": "code",
   "execution_count": 65,
   "metadata": {},
   "outputs": [
    {
     "name": "stdout",
     "output_type": "stream",
     "text": [
      "Untuk mengubah password, ikuti langkah-langkah berikut:\n",
      "\n",
      "1. Masuk ke menu Profil.\n",
      "2. Pilih opsi \"Ubah Password.\"\n",
      "3. Masukkan password baru.\n",
      "4. Masukkan kembali password baru untuk konfirmasi.\n",
      "5. Klik \"Submit.\"\n",
      "\n",
      "Jika Anda lupa password, klik \"lupa password\" di aplikasi dan pastikan nomor HP yang terdaftar aktif untuk menerima kode autentikasi.\n"
     ]
    }
   ],
   "source": [
    "# query\n",
    "question = \"cara ganti password gimana ya?\"\n",
    "response = generate_response_few_shot_with_summary(question)\n",
    "\n",
    "print(response)"
   ]
  },
  {
   "cell_type": "code",
   "execution_count": 66,
   "metadata": {},
   "outputs": [
    {
     "name": "stdout",
     "output_type": "stream",
     "text": [
      "Untuk memastikan akses ke layanan EMOS, ikuti langkah-langkah berikut:\n",
      "\n",
      "- Pastikan Anda adalah pelanggan Enseval dengan nomor pelanggan yang aktif.\n",
      "- Verifikasi bahwa akun Anda telah diaktivasi oleh distributor mitra.\n",
      "- Pastikan username, password, dan nomor pelanggan Anda benar.\n",
      "- Periksa bahwa jaringan internet Anda stabil dan status pelanggan Anda aktif.\n",
      "- Pastikan tidak ada masalah perizinan atau piutang yang belum dibayar.\n",
      "- Hubungi EMOS Care untuk bantuan lebih lanjut atau jika ada masalah dengan status pelanggan yang sementara tidak aktif.\n",
      "- Jika Anda mengganti perangkat atau memperbarui OS Android, hubungi Supervisor atau Salesman untuk pengecekan lebih lanjut.\n"
     ]
    }
   ],
   "source": [
    "question = \"Gak bisa registrasi, munculnya ‘customer number not found’, itu kenapa ya?\"\n",
    "response =  generate_response_few_shot_with_summary(question)\n",
    "\n",
    "\n",
    "print(response)"
   ]
  },
  {
   "cell_type": "code",
   "execution_count": 67,
   "metadata": {},
   "outputs": [
    {
     "name": "stdout",
     "output_type": "stream",
     "text": [
      "Hmm, saya tidak tahu jawabannya, itu di luar sumber daya saya.\n"
     ]
    }
   ],
   "source": [
    "question = \"cara menukarkan point di tokopedia?\"\n",
    "response = generate_response_few_shot_with_summary(question)\n",
    "\n",
    "print(response)"
   ]
  },
  {
   "cell_type": "code",
   "execution_count": 68,
   "metadata": {},
   "outputs": [
    {
     "name": "stdout",
     "output_type": "stream",
     "text": [
      "- Masuk ke menu Status Order.\n",
      "- Pastikan order tidak ter-cancel dan sudah mendapatkan Nomor Faktur.\n",
      "- Pastikan order sudah mendapatkan SJ (Surat Jalan).\n",
      "- Pastikan order Anda sudah sampai tahap akhir dengan konfirmasi Order Sukses diproses.\n",
      "- Pastikan jaringan internet stabil dan status customer aktif.\n",
      "- Jika masalah tetap terjadi meskipun status customer aktif, hubungi EMOS Care.\n"
     ]
    }
   ],
   "source": [
    "question = \"halo min, koq orderan saya blm sampai, padahal sudah melakukan pemesanan seminggu yg lalu. Username saya:kiki_012\"\n",
    "response = generate_response_few_shot_with_summary(question)\n",
    "\n",
    "print(response)"
   ]
  },
  {
   "cell_type": "code",
   "execution_count": 69,
   "metadata": {},
   "outputs": [
    {
     "name": "stdout",
     "output_type": "stream",
     "text": [
      "Untuk mengubah password, ikuti langkah-langkah berikut:\n",
      "\n",
      "1. Masuk ke menu Profil.\n",
      "2. Pilih opsi \"Ubah Password.\"\n",
      "3. Masukkan password baru.\n",
      "4. Masukkan kembali password baru untuk konfirmasi.\n",
      "5. Klik \"Submit.\"\n",
      "\n",
      "Jika Anda lupa password, klik \"lupa password\" di aplikasi dan pastikan nomor HP yang terdaftar aktif untuk menerima kode autentikasi.\n"
     ]
    }
   ],
   "source": [
    "# query\n",
    "question = \"cara ganti password gimana ya?\"\n",
    "response = generate_response_few_shot_with_summary(question)\n",
    "\n",
    "print(response)"
   ]
  },
  {
   "cell_type": "code",
   "execution_count": 75,
   "metadata": {},
   "outputs": [
    {
     "name": "stdout",
     "output_type": "stream",
     "text": [
      "- Pastikan order Anda sudah diproses dan menjadi faktur dengan memeriksa menu Status Order.\n",
      "- Masuk ke menu history redeem poin atau koin untuk memastikan statusnya sukses.\n",
      "- Hubungi EMOS Care jika ada masalah dengan order atau faktur.\n",
      "- Akses hanya diberikan untuk 1 username per 1 handphone.\n",
      "\n",
      "Hmm, saya tidak tahu jawabannya, itu di luar sumber daya saya.\n"
     ]
    }
   ],
   "source": [
    "# query\n",
    "question = \"kenapa jaringan di hp saya tidak muncul\"\n",
    "response = generate_response_few_shot_with_summary(question)\n",
    "\n",
    "print(response)"
   ]
  },
  {
   "cell_type": "markdown",
   "metadata": {},
   "source": [
    "NOTE \n",
    "- Avg latency faster than zero shot\n",
    "- after implement zero shot and comparing it with few shot, there is no significant difference \n",
    "- The generated output still inconsistent but better, just inconsistent in ambiguous question "
   ]
  },
  {
   "cell_type": "markdown",
   "metadata": {},
   "source": [
    "# Evaluation "
   ]
  },
  {
   "cell_type": "code",
   "execution_count": 47,
   "metadata": {},
   "outputs": [],
   "source": [
    "for datas in data:\n",
    "    datas.metadata['filename'] = datas.metadata.get('source', '')"
   ]
  },
  {
   "cell_type": "code",
   "execution_count": 48,
   "metadata": {},
   "outputs": [
    {
     "name": "stderr",
     "output_type": "stream",
     "text": [
      "d:\\KALBE\\EMA_CHATBOT\\emos-mobile-assistant\\.venv\\lib\\site-packages\\tqdm\\auto.py:21: TqdmWarning: IProgress not found. Please update jupyter and ipywidgets. See https://ipywidgets.readthedocs.io/en/stable/user_install.html\n",
      "  from .autonotebook import tqdm as notebook_tqdm\n",
      "Generating: 100%|██████████| 10/10 [00:22<00:00,  2.30s/it]     \n"
     ]
    }
   ],
   "source": [
    "# generate test data\n",
    "from ragas.testset.generator import TestsetGenerator\n",
    "from ragas.testset.evolutions import simple, reasoning, multi_context\n",
    "from langchain_openai import ChatOpenAI, OpenAIEmbeddings\n",
    "from langchain.schema import Document\n",
    "\n",
    "# generator with openai models\n",
    "generator_llm = ChatOpenAI(model=\"gpt-4o\")\n",
    "critic_llm = ChatOpenAI(model=\"gpt-4o\")\n",
    "embeddings = OpenAIEmbeddings()\n",
    "\n",
    "generator = TestsetGenerator.from_langchain(\n",
    "    generator_llm,\n",
    "    critic_llm,\n",
    "    embeddings\n",
    ")\n",
    "\n",
    "# generate testset\n",
    "datates = generator.generate_with_langchain_docs(data, test_size=10, distributions={simple: 0.5, reasoning: 0.25, multi_context: 0.25})\n"
   ]
  },
  {
   "cell_type": "code",
   "execution_count": 49,
   "metadata": {},
   "outputs": [
    {
     "data": {
      "text/html": [
       "<div>\n",
       "<style scoped>\n",
       "    .dataframe tbody tr th:only-of-type {\n",
       "        vertical-align: middle;\n",
       "    }\n",
       "\n",
       "    .dataframe tbody tr th {\n",
       "        vertical-align: top;\n",
       "    }\n",
       "\n",
       "    .dataframe thead th {\n",
       "        text-align: right;\n",
       "    }\n",
       "</style>\n",
       "<table border=\"1\" class=\"dataframe\">\n",
       "  <thead>\n",
       "    <tr style=\"text-align: right;\">\n",
       "      <th></th>\n",
       "      <th>question</th>\n",
       "      <th>contexts</th>\n",
       "      <th>ground_truth</th>\n",
       "      <th>evolution_type</th>\n",
       "      <th>metadata</th>\n",
       "      <th>episode_done</th>\n",
       "    </tr>\n",
       "  </thead>\n",
       "  <tbody>\n",
       "    <tr>\n",
       "      <th>0</th>\n",
       "      <td>Why does the list of Virtual Accounts not appe...</td>\n",
       "      <td>[question: Kenapa list Virtual Account tidak m...</td>\n",
       "      <td>The answer to given question is not present in...</td>\n",
       "      <td>simple</td>\n",
       "      <td>[{'source': 'D:/KALBE/EMA_CHATBOT/emos-mobile-...</td>\n",
       "      <td>True</td>\n",
       "    </tr>\n",
       "    <tr>\n",
       "      <th>1</th>\n",
       "      <td>How can you register for EMOS after downloadin...</td>\n",
       "      <td>[question: Bagaimana cara registrasi EMOS?\\nan...</td>\n",
       "      <td>After downloading the EMOS application, you ca...</td>\n",
       "      <td>simple</td>\n",
       "      <td>[{'source': 'D:/KALBE/EMA_CHATBOT/emos-mobile-...</td>\n",
       "      <td>True</td>\n",
       "    </tr>\n",
       "    <tr>\n",
       "      <th>2</th>\n",
       "      <td>How can you cancel an order placed through EMO...</td>\n",
       "      <td>[question: Bagaimana cara meng-cancel orderan ...</td>\n",
       "      <td>You can cancel an order placed through EMOS by...</td>\n",
       "      <td>simple</td>\n",
       "      <td>[{'source': 'D:/KALBE/EMA_CHATBOT/emos-mobile-...</td>\n",
       "      <td>True</td>\n",
       "    </tr>\n",
       "    <tr>\n",
       "      <th>3</th>\n",
       "      <td>Why does the message 'Shipto not active' appea...</td>\n",
       "      <td>[question: Kenapa saat saya log in muncul kete...</td>\n",
       "      <td>Hal tersebut dikarenakan status Customer Anda ...</td>\n",
       "      <td>simple</td>\n",
       "      <td>[{'source': 'D:/KALBE/EMA_CHATBOT/emos-mobile-...</td>\n",
       "      <td>True</td>\n",
       "    </tr>\n",
       "    <tr>\n",
       "      <th>4</th>\n",
       "      <td>Apakah saya bisa menambahkan atau mengurangi p...</td>\n",
       "      <td>[question: Apakah saya bisa menambahkan atau m...</td>\n",
       "      <td>Untuk saat ini tidak bisa.</td>\n",
       "      <td>simple</td>\n",
       "      <td>[{'source': 'D:/KALBE/EMA_CHATBOT/emos-mobile-...</td>\n",
       "      <td>True</td>\n",
       "    </tr>\n",
       "    <tr>\n",
       "      <th>5</th>\n",
       "      <td>What's restricted if order changes aren't allo...</td>\n",
       "      <td>[question: Apakah saya bisa menambahkan atau m...</td>\n",
       "      <td>The answer to given question is not present in...</td>\n",
       "      <td>reasoning</td>\n",
       "      <td>[{'source': 'D:/KALBE/EMA_CHATBOT/emos-mobile-...</td>\n",
       "      <td>True</td>\n",
       "    </tr>\n",
       "    <tr>\n",
       "      <th>6</th>\n",
       "      <td>Who helps cancel an EMOS order and what do the...</td>\n",
       "      <td>[question: Bagaimana cara meng-cancel orderan ...</td>\n",
       "      <td>The answer to given question is not present in...</td>\n",
       "      <td>reasoning</td>\n",
       "      <td>[{'source': 'D:/KALBE/EMA_CHATBOT/emos-mobile-...</td>\n",
       "      <td>True</td>\n",
       "    </tr>\n",
       "    <tr>\n",
       "      <th>7</th>\n",
       "      <td>How to regain access if login details are forg...</td>\n",
       "      <td>[question: Bagaimana jika saya lupa PIN?\\nansw...</td>\n",
       "      <td>To regain access if login details are forgotte...</td>\n",
       "      <td>multi_context</td>\n",
       "      <td>[{'source': 'D:/KALBE/EMA_CHATBOT/emos-mobile-...</td>\n",
       "      <td>True</td>\n",
       "    </tr>\n",
       "    <tr>\n",
       "      <th>8</th>\n",
       "      <td>What to do if customer status is inactive and ...</td>\n",
       "      <td>[question: Kenapa saat saya log in muncul kete...</td>\n",
       "      <td>If the customer status is inactive and order d...</td>\n",
       "      <td>multi_context</td>\n",
       "      <td>[{'source': 'D:/KALBE/EMA_CHATBOT/emos-mobile-...</td>\n",
       "      <td>True</td>\n",
       "    </tr>\n",
       "    <tr>\n",
       "      <th>9</th>\n",
       "      <td>Can an order be changed considering stock and ...</td>\n",
       "      <td>[question: Kenapa Saat order stock produk ters...</td>\n",
       "      <td>The answer to given question is not present in...</td>\n",
       "      <td>multi_context</td>\n",
       "      <td>[{'source': 'D:/KALBE/EMA_CHATBOT/emos-mobile-...</td>\n",
       "      <td>True</td>\n",
       "    </tr>\n",
       "  </tbody>\n",
       "</table>\n",
       "</div>"
      ],
      "text/plain": [
       "                                            question  \\\n",
       "0  Why does the list of Virtual Accounts not appe...   \n",
       "1  How can you register for EMOS after downloadin...   \n",
       "2  How can you cancel an order placed through EMO...   \n",
       "3  Why does the message 'Shipto not active' appea...   \n",
       "4  Apakah saya bisa menambahkan atau mengurangi p...   \n",
       "5  What's restricted if order changes aren't allo...   \n",
       "6  Who helps cancel an EMOS order and what do the...   \n",
       "7  How to regain access if login details are forg...   \n",
       "8  What to do if customer status is inactive and ...   \n",
       "9  Can an order be changed considering stock and ...   \n",
       "\n",
       "                                            contexts  \\\n",
       "0  [question: Kenapa list Virtual Account tidak m...   \n",
       "1  [question: Bagaimana cara registrasi EMOS?\\nan...   \n",
       "2  [question: Bagaimana cara meng-cancel orderan ...   \n",
       "3  [question: Kenapa saat saya log in muncul kete...   \n",
       "4  [question: Apakah saya bisa menambahkan atau m...   \n",
       "5  [question: Apakah saya bisa menambahkan atau m...   \n",
       "6  [question: Bagaimana cara meng-cancel orderan ...   \n",
       "7  [question: Bagaimana jika saya lupa PIN?\\nansw...   \n",
       "8  [question: Kenapa saat saya log in muncul kete...   \n",
       "9  [question: Kenapa Saat order stock produk ters...   \n",
       "\n",
       "                                        ground_truth evolution_type  \\\n",
       "0  The answer to given question is not present in...         simple   \n",
       "1  After downloading the EMOS application, you ca...         simple   \n",
       "2  You can cancel an order placed through EMOS by...         simple   \n",
       "3  Hal tersebut dikarenakan status Customer Anda ...         simple   \n",
       "4                         Untuk saat ini tidak bisa.         simple   \n",
       "5  The answer to given question is not present in...      reasoning   \n",
       "6  The answer to given question is not present in...      reasoning   \n",
       "7  To regain access if login details are forgotte...  multi_context   \n",
       "8  If the customer status is inactive and order d...  multi_context   \n",
       "9  The answer to given question is not present in...  multi_context   \n",
       "\n",
       "                                            metadata  episode_done  \n",
       "0  [{'source': 'D:/KALBE/EMA_CHATBOT/emos-mobile-...          True  \n",
       "1  [{'source': 'D:/KALBE/EMA_CHATBOT/emos-mobile-...          True  \n",
       "2  [{'source': 'D:/KALBE/EMA_CHATBOT/emos-mobile-...          True  \n",
       "3  [{'source': 'D:/KALBE/EMA_CHATBOT/emos-mobile-...          True  \n",
       "4  [{'source': 'D:/KALBE/EMA_CHATBOT/emos-mobile-...          True  \n",
       "5  [{'source': 'D:/KALBE/EMA_CHATBOT/emos-mobile-...          True  \n",
       "6  [{'source': 'D:/KALBE/EMA_CHATBOT/emos-mobile-...          True  \n",
       "7  [{'source': 'D:/KALBE/EMA_CHATBOT/emos-mobile-...          True  \n",
       "8  [{'source': 'D:/KALBE/EMA_CHATBOT/emos-mobile-...          True  \n",
       "9  [{'source': 'D:/KALBE/EMA_CHATBOT/emos-mobile-...          True  "
      ]
     },
     "execution_count": 49,
     "metadata": {},
     "output_type": "execute_result"
    }
   ],
   "source": [
    "df = datates.to_pandas()\n",
    "df"
   ]
  },
  {
   "cell_type": "code",
   "execution_count": 50,
   "metadata": {},
   "outputs": [
    {
     "data": {
      "text/html": [
       "<div>\n",
       "<style scoped>\n",
       "    .dataframe tbody tr th:only-of-type {\n",
       "        vertical-align: middle;\n",
       "    }\n",
       "\n",
       "    .dataframe tbody tr th {\n",
       "        vertical-align: top;\n",
       "    }\n",
       "\n",
       "    .dataframe thead th {\n",
       "        text-align: right;\n",
       "    }\n",
       "</style>\n",
       "<table border=\"1\" class=\"dataframe\">\n",
       "  <thead>\n",
       "    <tr style=\"text-align: right;\">\n",
       "      <th></th>\n",
       "      <th>question</th>\n",
       "      <th>contexts</th>\n",
       "      <th>ground_truth</th>\n",
       "    </tr>\n",
       "  </thead>\n",
       "  <tbody>\n",
       "    <tr>\n",
       "      <th>0</th>\n",
       "      <td>Why does the list of Virtual Accounts not appe...</td>\n",
       "      <td>[question: Kenapa list Virtual Account tidak m...</td>\n",
       "      <td>The answer to given question is not present in...</td>\n",
       "    </tr>\n",
       "    <tr>\n",
       "      <th>1</th>\n",
       "      <td>How can you register for EMOS after downloadin...</td>\n",
       "      <td>[question: Bagaimana cara registrasi EMOS?\\nan...</td>\n",
       "      <td>After downloading the EMOS application, you ca...</td>\n",
       "    </tr>\n",
       "    <tr>\n",
       "      <th>2</th>\n",
       "      <td>How can you cancel an order placed through EMO...</td>\n",
       "      <td>[question: Bagaimana cara meng-cancel orderan ...</td>\n",
       "      <td>You can cancel an order placed through EMOS by...</td>\n",
       "    </tr>\n",
       "    <tr>\n",
       "      <th>3</th>\n",
       "      <td>Why does the message 'Shipto not active' appea...</td>\n",
       "      <td>[question: Kenapa saat saya log in muncul kete...</td>\n",
       "      <td>Hal tersebut dikarenakan status Customer Anda ...</td>\n",
       "    </tr>\n",
       "    <tr>\n",
       "      <th>4</th>\n",
       "      <td>Apakah saya bisa menambahkan atau mengurangi p...</td>\n",
       "      <td>[question: Apakah saya bisa menambahkan atau m...</td>\n",
       "      <td>Untuk saat ini tidak bisa.</td>\n",
       "    </tr>\n",
       "    <tr>\n",
       "      <th>5</th>\n",
       "      <td>What's restricted if order changes aren't allo...</td>\n",
       "      <td>[question: Apakah saya bisa menambahkan atau m...</td>\n",
       "      <td>The answer to given question is not present in...</td>\n",
       "    </tr>\n",
       "    <tr>\n",
       "      <th>6</th>\n",
       "      <td>Who helps cancel an EMOS order and what do the...</td>\n",
       "      <td>[question: Bagaimana cara meng-cancel orderan ...</td>\n",
       "      <td>The answer to given question is not present in...</td>\n",
       "    </tr>\n",
       "    <tr>\n",
       "      <th>7</th>\n",
       "      <td>How to regain access if login details are forg...</td>\n",
       "      <td>[question: Bagaimana jika saya lupa PIN?\\nansw...</td>\n",
       "      <td>To regain access if login details are forgotte...</td>\n",
       "    </tr>\n",
       "    <tr>\n",
       "      <th>8</th>\n",
       "      <td>What to do if customer status is inactive and ...</td>\n",
       "      <td>[question: Kenapa saat saya log in muncul kete...</td>\n",
       "      <td>If the customer status is inactive and order d...</td>\n",
       "    </tr>\n",
       "    <tr>\n",
       "      <th>9</th>\n",
       "      <td>Can an order be changed considering stock and ...</td>\n",
       "      <td>[question: Kenapa Saat order stock produk ters...</td>\n",
       "      <td>The answer to given question is not present in...</td>\n",
       "    </tr>\n",
       "  </tbody>\n",
       "</table>\n",
       "</div>"
      ],
      "text/plain": [
       "                                            question  \\\n",
       "0  Why does the list of Virtual Accounts not appe...   \n",
       "1  How can you register for EMOS after downloadin...   \n",
       "2  How can you cancel an order placed through EMO...   \n",
       "3  Why does the message 'Shipto not active' appea...   \n",
       "4  Apakah saya bisa menambahkan atau mengurangi p...   \n",
       "5  What's restricted if order changes aren't allo...   \n",
       "6  Who helps cancel an EMOS order and what do the...   \n",
       "7  How to regain access if login details are forg...   \n",
       "8  What to do if customer status is inactive and ...   \n",
       "9  Can an order be changed considering stock and ...   \n",
       "\n",
       "                                            contexts  \\\n",
       "0  [question: Kenapa list Virtual Account tidak m...   \n",
       "1  [question: Bagaimana cara registrasi EMOS?\\nan...   \n",
       "2  [question: Bagaimana cara meng-cancel orderan ...   \n",
       "3  [question: Kenapa saat saya log in muncul kete...   \n",
       "4  [question: Apakah saya bisa menambahkan atau m...   \n",
       "5  [question: Apakah saya bisa menambahkan atau m...   \n",
       "6  [question: Bagaimana cara meng-cancel orderan ...   \n",
       "7  [question: Bagaimana jika saya lupa PIN?\\nansw...   \n",
       "8  [question: Kenapa saat saya log in muncul kete...   \n",
       "9  [question: Kenapa Saat order stock produk ters...   \n",
       "\n",
       "                                        ground_truth  \n",
       "0  The answer to given question is not present in...  \n",
       "1  After downloading the EMOS application, you ca...  \n",
       "2  You can cancel an order placed through EMOS by...  \n",
       "3  Hal tersebut dikarenakan status Customer Anda ...  \n",
       "4                         Untuk saat ini tidak bisa.  \n",
       "5  The answer to given question is not present in...  \n",
       "6  The answer to given question is not present in...  \n",
       "7  To regain access if login details are forgotte...  \n",
       "8  If the customer status is inactive and order d...  \n",
       "9  The answer to given question is not present in...  "
      ]
     },
     "execution_count": 50,
     "metadata": {},
     "output_type": "execute_result"
    }
   ],
   "source": [
    "df = pd.DataFrame(df)\n",
    "df.drop(columns=['evolution_type', 'metadata', 'episode_done'], inplace=True)\n",
    "df"
   ]
  },
  {
   "cell_type": "markdown",
   "metadata": {},
   "source": [
    "# Evaluation for zero shot "
   ]
  },
  {
   "cell_type": "code",
   "execution_count": 51,
   "metadata": {},
   "outputs": [],
   "source": [
    "# generate answer \n",
    "question = df['question'].tolist()\n",
    "ground_truth = df[\"ground_truth\"].tolist()\n",
    "answers = []\n",
    "contexts = []\n",
    "\n",
    "for query in question:\n",
    "    response = generate_response_zero_shot_with_summary(query) #change this with agent \n",
    "    answers.append(response)  \n",
    "    retrieved_docs = retrieve_from_milvus(query, collection_name, k=5)\n",
    "    contexts.append(retrieved_docs)"
   ]
  },
  {
   "cell_type": "code",
   "execution_count": 52,
   "metadata": {},
   "outputs": [
    {
     "name": "stdout",
     "output_type": "stream",
     "text": [
      "Dataset({\n",
      "    features: ['question', 'answer', 'contexts', 'ground_truth'],\n",
      "    num_rows: 10\n",
      "})\n"
     ]
    }
   ],
   "source": [
    "from datasets import Dataset \n",
    "\n",
    "data = {\n",
    "    \"question\": df[\"question\"].tolist(),\n",
    "    \"answer\": answers,\n",
    "    \"contexts\": contexts,\n",
    "    \"ground_truth\": df[\"ground_truth\"].tolist(),\n",
    "}\n",
    "\n",
    "dataset_zero = Dataset.from_dict(data)\n",
    "\n",
    "print(dataset_zero)"
   ]
  },
  {
   "cell_type": "code",
   "execution_count": 53,
   "metadata": {},
   "outputs": [
    {
     "data": {
      "text/html": [
       "<div>\n",
       "<style scoped>\n",
       "    .dataframe tbody tr th:only-of-type {\n",
       "        vertical-align: middle;\n",
       "    }\n",
       "\n",
       "    .dataframe tbody tr th {\n",
       "        vertical-align: top;\n",
       "    }\n",
       "\n",
       "    .dataframe thead th {\n",
       "        text-align: right;\n",
       "    }\n",
       "</style>\n",
       "<table border=\"1\" class=\"dataframe\">\n",
       "  <thead>\n",
       "    <tr style=\"text-align: right;\">\n",
       "      <th></th>\n",
       "      <th>question</th>\n",
       "      <th>answer</th>\n",
       "      <th>contexts</th>\n",
       "      <th>ground_truth</th>\n",
       "    </tr>\n",
       "  </thead>\n",
       "  <tbody>\n",
       "    <tr>\n",
       "      <th>0</th>\n",
       "      <td>Why does the list of Virtual Accounts not appe...</td>\n",
       "      <td>1. Pastikan jaringan internet stabil dan gunak...</td>\n",
       "      <td>[Pastikan jaringan internet Anda dalam keadaan...</td>\n",
       "      <td>The answer to given question is not present in...</td>\n",
       "    </tr>\n",
       "    <tr>\n",
       "      <th>1</th>\n",
       "      <td>How can you register for EMOS after downloadin...</td>\n",
       "      <td>Untuk menggunakan aplikasi EMOS, ikuti langkah...</td>\n",
       "      <td>[1. Download Aplikasi EMOS di Google Play Stor...</td>\n",
       "      <td>After downloading the EMOS application, you ca...</td>\n",
       "    </tr>\n",
       "    <tr>\n",
       "      <th>2</th>\n",
       "      <td>How can you cancel an order placed through EMO...</td>\n",
       "      <td>Silakan hubungi salah satu dari berikut ini:\\n...</td>\n",
       "      <td>[Silakan menghubungi Salesman atau Supervisor ...</td>\n",
       "      <td>You can cancel an order placed through EMOS by...</td>\n",
       "    </tr>\n",
       "    <tr>\n",
       "      <th>3</th>\n",
       "      <td>Why does the message 'Shipto not active' appea...</td>\n",
       "      <td>Status Customer Anda sedang dinonaktifkan seme...</td>\n",
       "      <td>[Hal tersebut dikarenakan status Customer Anda...</td>\n",
       "      <td>Hal tersebut dikarenakan status Customer Anda ...</td>\n",
       "    </tr>\n",
       "    <tr>\n",
       "      <th>4</th>\n",
       "      <td>Apakah saya bisa menambahkan atau mengurangi p...</td>\n",
       "      <td>Untuk saat ini, proses tidak bisa dilakukan. B...</td>\n",
       "      <td>[Untuk saat ini tidak bisa., Silahkan klik tom...</td>\n",
       "      <td>Untuk saat ini tidak bisa.</td>\n",
       "    </tr>\n",
       "    <tr>\n",
       "      <th>5</th>\n",
       "      <td>What's restricted if order changes aren't allo...</td>\n",
       "      <td>- Proses order berdasarkan urutan masuk dan ke...</td>\n",
       "      <td>[Sistem proses berdasarkan orderan yang masuk ...</td>\n",
       "      <td>The answer to given question is not present in...</td>\n",
       "    </tr>\n",
       "    <tr>\n",
       "      <th>6</th>\n",
       "      <td>Who helps cancel an EMOS order and what do the...</td>\n",
       "      <td>Silakan ikuti langkah berikut:\\n\\n- Hubungi Sa...</td>\n",
       "      <td>[Silakan menghubungi Salesman atau Supervisor ...</td>\n",
       "      <td>The answer to given question is not present in...</td>\n",
       "    </tr>\n",
       "    <tr>\n",
       "      <th>7</th>\n",
       "      <td>How to regain access if login details are forg...</td>\n",
       "      <td>- Klik \"forget password\" atau \"lupa password\" ...</td>\n",
       "      <td>[Silakan klik forget password atau lupa passwo...</td>\n",
       "      <td>To regain access if login details are forgotte...</td>\n",
       "    </tr>\n",
       "    <tr>\n",
       "      <th>8</th>\n",
       "      <td>What to do if customer status is inactive and ...</td>\n",
       "      <td>Untuk memastikan pesanan Anda diproses dengan ...</td>\n",
       "      <td>[Silahkan klik tombol refresh yang ada di menu...</td>\n",
       "      <td>If the customer status is inactive and order d...</td>\n",
       "    </tr>\n",
       "    <tr>\n",
       "      <th>9</th>\n",
       "      <td>Can an order be changed considering stock and ...</td>\n",
       "      <td>- Sistem memproses pesanan berdasarkan urutan ...</td>\n",
       "      <td>[Untuk saat ini tidak bisa., Sistem proses ber...</td>\n",
       "      <td>The answer to given question is not present in...</td>\n",
       "    </tr>\n",
       "  </tbody>\n",
       "</table>\n",
       "</div>"
      ],
      "text/plain": [
       "                                            question  \\\n",
       "0  Why does the list of Virtual Accounts not appe...   \n",
       "1  How can you register for EMOS after downloadin...   \n",
       "2  How can you cancel an order placed through EMO...   \n",
       "3  Why does the message 'Shipto not active' appea...   \n",
       "4  Apakah saya bisa menambahkan atau mengurangi p...   \n",
       "5  What's restricted if order changes aren't allo...   \n",
       "6  Who helps cancel an EMOS order and what do the...   \n",
       "7  How to regain access if login details are forg...   \n",
       "8  What to do if customer status is inactive and ...   \n",
       "9  Can an order be changed considering stock and ...   \n",
       "\n",
       "                                              answer  \\\n",
       "0  1. Pastikan jaringan internet stabil dan gunak...   \n",
       "1  Untuk menggunakan aplikasi EMOS, ikuti langkah...   \n",
       "2  Silakan hubungi salah satu dari berikut ini:\\n...   \n",
       "3  Status Customer Anda sedang dinonaktifkan seme...   \n",
       "4  Untuk saat ini, proses tidak bisa dilakukan. B...   \n",
       "5  - Proses order berdasarkan urutan masuk dan ke...   \n",
       "6  Silakan ikuti langkah berikut:\\n\\n- Hubungi Sa...   \n",
       "7  - Klik \"forget password\" atau \"lupa password\" ...   \n",
       "8  Untuk memastikan pesanan Anda diproses dengan ...   \n",
       "9  - Sistem memproses pesanan berdasarkan urutan ...   \n",
       "\n",
       "                                            contexts  \\\n",
       "0  [Pastikan jaringan internet Anda dalam keadaan...   \n",
       "1  [1. Download Aplikasi EMOS di Google Play Stor...   \n",
       "2  [Silakan menghubungi Salesman atau Supervisor ...   \n",
       "3  [Hal tersebut dikarenakan status Customer Anda...   \n",
       "4  [Untuk saat ini tidak bisa., Silahkan klik tom...   \n",
       "5  [Sistem proses berdasarkan orderan yang masuk ...   \n",
       "6  [Silakan menghubungi Salesman atau Supervisor ...   \n",
       "7  [Silakan klik forget password atau lupa passwo...   \n",
       "8  [Silahkan klik tombol refresh yang ada di menu...   \n",
       "9  [Untuk saat ini tidak bisa., Sistem proses ber...   \n",
       "\n",
       "                                        ground_truth  \n",
       "0  The answer to given question is not present in...  \n",
       "1  After downloading the EMOS application, you ca...  \n",
       "2  You can cancel an order placed through EMOS by...  \n",
       "3  Hal tersebut dikarenakan status Customer Anda ...  \n",
       "4                         Untuk saat ini tidak bisa.  \n",
       "5  The answer to given question is not present in...  \n",
       "6  The answer to given question is not present in...  \n",
       "7  To regain access if login details are forgotte...  \n",
       "8  If the customer status is inactive and order d...  \n",
       "9  The answer to given question is not present in...  "
      ]
     },
     "execution_count": 53,
     "metadata": {},
     "output_type": "execute_result"
    }
   ],
   "source": [
    "new_data_zero = dataset_zero.to_pandas()\n",
    "new_data_zero"
   ]
  },
  {
   "cell_type": "code",
   "execution_count": 54,
   "metadata": {},
   "outputs": [],
   "source": [
    "from ragas.metrics import (\n",
    "    answer_relevancy,\n",
    "    faithfulness,\n",
    "    context_recall,\n",
    "    context_precision,\n",
    ")"
   ]
  },
  {
   "cell_type": "code",
   "execution_count": 55,
   "metadata": {},
   "outputs": [
    {
     "name": "stderr",
     "output_type": "stream",
     "text": [
      "Evaluating: 100%|██████████| 40/40 [00:22<00:00,  1.74it/s]\n"
     ]
    },
    {
     "data": {
      "text/plain": [
       "{'context_precision': 0.4583, 'faithfulness': 0.6785, 'answer_relevancy': 0.5714, 'context_recall': 0.8000}"
      ]
     },
     "execution_count": 55,
     "metadata": {},
     "output_type": "execute_result"
    }
   ],
   "source": [
    "from ragas import evaluate\n",
    "\n",
    "result = evaluate(\n",
    "    dataset_zero,\n",
    "    metrics=[\n",
    "        context_precision,\n",
    "        faithfulness,\n",
    "        answer_relevancy,\n",
    "        context_recall,\n",
    "    ],\n",
    ")\n",
    "\n",
    "result"
   ]
  },
  {
   "cell_type": "code",
   "execution_count": 56,
   "metadata": {},
   "outputs": [
    {
     "data": {
      "text/html": [
       "<div>\n",
       "<style scoped>\n",
       "    .dataframe tbody tr th:only-of-type {\n",
       "        vertical-align: middle;\n",
       "    }\n",
       "\n",
       "    .dataframe tbody tr th {\n",
       "        vertical-align: top;\n",
       "    }\n",
       "\n",
       "    .dataframe thead th {\n",
       "        text-align: right;\n",
       "    }\n",
       "</style>\n",
       "<table border=\"1\" class=\"dataframe\">\n",
       "  <thead>\n",
       "    <tr style=\"text-align: right;\">\n",
       "      <th></th>\n",
       "      <th>question</th>\n",
       "      <th>answer</th>\n",
       "      <th>contexts</th>\n",
       "      <th>ground_truth</th>\n",
       "      <th>context_precision</th>\n",
       "      <th>faithfulness</th>\n",
       "      <th>answer_relevancy</th>\n",
       "      <th>context_recall</th>\n",
       "    </tr>\n",
       "  </thead>\n",
       "  <tbody>\n",
       "    <tr>\n",
       "      <th>0</th>\n",
       "      <td>Why does the list of Virtual Accounts not appe...</td>\n",
       "      <td>1. Pastikan jaringan internet stabil dan gunak...</td>\n",
       "      <td>[Pastikan jaringan internet Anda dalam keadaan...</td>\n",
       "      <td>The answer to given question is not present in...</td>\n",
       "      <td>0.000000</td>\n",
       "      <td>0.666667</td>\n",
       "      <td>0.789716</td>\n",
       "      <td>1.0</td>\n",
       "    </tr>\n",
       "    <tr>\n",
       "      <th>1</th>\n",
       "      <td>How can you register for EMOS after downloadin...</td>\n",
       "      <td>Untuk menggunakan aplikasi EMOS, ikuti langkah...</td>\n",
       "      <td>[1. Download Aplikasi EMOS di Google Play Stor...</td>\n",
       "      <td>After downloading the EMOS application, you ca...</td>\n",
       "      <td>1.000000</td>\n",
       "      <td>0.866667</td>\n",
       "      <td>0.000000</td>\n",
       "      <td>1.0</td>\n",
       "    </tr>\n",
       "    <tr>\n",
       "      <th>2</th>\n",
       "      <td>How can you cancel an order placed through EMO...</td>\n",
       "      <td>Silakan hubungi salah satu dari berikut ini:\\n...</td>\n",
       "      <td>[Silakan menghubungi Salesman atau Supervisor ...</td>\n",
       "      <td>You can cancel an order placed through EMOS by...</td>\n",
       "      <td>1.000000</td>\n",
       "      <td>0.000000</td>\n",
       "      <td>0.000000</td>\n",
       "      <td>0.0</td>\n",
       "    </tr>\n",
       "    <tr>\n",
       "      <th>3</th>\n",
       "      <td>Why does the message 'Shipto not active' appea...</td>\n",
       "      <td>Status Customer Anda sedang dinonaktifkan seme...</td>\n",
       "      <td>[Hal tersebut dikarenakan status Customer Anda...</td>\n",
       "      <td>Hal tersebut dikarenakan status Customer Anda ...</td>\n",
       "      <td>0.750000</td>\n",
       "      <td>1.000000</td>\n",
       "      <td>0.840395</td>\n",
       "      <td>1.0</td>\n",
       "    </tr>\n",
       "    <tr>\n",
       "      <th>4</th>\n",
       "      <td>Apakah saya bisa menambahkan atau mengurangi p...</td>\n",
       "      <td>Untuk saat ini, proses tidak bisa dilakukan. B...</td>\n",
       "      <td>[Untuk saat ini tidak bisa., Silahkan klik tom...</td>\n",
       "      <td>Untuk saat ini tidak bisa.</td>\n",
       "      <td>1.000000</td>\n",
       "      <td>0.583333</td>\n",
       "      <td>0.000000</td>\n",
       "      <td>1.0</td>\n",
       "    </tr>\n",
       "    <tr>\n",
       "      <th>5</th>\n",
       "      <td>What's restricted if order changes aren't allo...</td>\n",
       "      <td>- Proses order berdasarkan urutan masuk dan ke...</td>\n",
       "      <td>[Sistem proses berdasarkan orderan yang masuk ...</td>\n",
       "      <td>The answer to given question is not present in...</td>\n",
       "      <td>0.000000</td>\n",
       "      <td>0.727273</td>\n",
       "      <td>0.813250</td>\n",
       "      <td>1.0</td>\n",
       "    </tr>\n",
       "    <tr>\n",
       "      <th>6</th>\n",
       "      <td>Who helps cancel an EMOS order and what do the...</td>\n",
       "      <td>Silakan ikuti langkah berikut:\\n\\n- Hubungi Sa...</td>\n",
       "      <td>[Silakan menghubungi Salesman atau Supervisor ...</td>\n",
       "      <td>The answer to given question is not present in...</td>\n",
       "      <td>0.000000</td>\n",
       "      <td>1.000000</td>\n",
       "      <td>0.768562</td>\n",
       "      <td>1.0</td>\n",
       "    </tr>\n",
       "    <tr>\n",
       "      <th>7</th>\n",
       "      <td>How to regain access if login details are forg...</td>\n",
       "      <td>- Klik \"forget password\" atau \"lupa password\" ...</td>\n",
       "      <td>[Silakan klik forget password atau lupa passwo...</td>\n",
       "      <td>To regain access if login details are forgotte...</td>\n",
       "      <td>0.833333</td>\n",
       "      <td>0.500000</td>\n",
       "      <td>0.869051</td>\n",
       "      <td>1.0</td>\n",
       "    </tr>\n",
       "    <tr>\n",
       "      <th>8</th>\n",
       "      <td>What to do if customer status is inactive and ...</td>\n",
       "      <td>Untuk memastikan pesanan Anda diproses dengan ...</td>\n",
       "      <td>[Silahkan klik tombol refresh yang ada di menu...</td>\n",
       "      <td>If the customer status is inactive and order d...</td>\n",
       "      <td>0.000000</td>\n",
       "      <td>0.714286</td>\n",
       "      <td>0.792929</td>\n",
       "      <td>0.0</td>\n",
       "    </tr>\n",
       "    <tr>\n",
       "      <th>9</th>\n",
       "      <td>Can an order be changed considering stock and ...</td>\n",
       "      <td>- Sistem memproses pesanan berdasarkan urutan ...</td>\n",
       "      <td>[Untuk saat ini tidak bisa., Sistem proses ber...</td>\n",
       "      <td>The answer to given question is not present in...</td>\n",
       "      <td>0.000000</td>\n",
       "      <td>0.727273</td>\n",
       "      <td>0.840074</td>\n",
       "      <td>1.0</td>\n",
       "    </tr>\n",
       "  </tbody>\n",
       "</table>\n",
       "</div>"
      ],
      "text/plain": [
       "                                            question  \\\n",
       "0  Why does the list of Virtual Accounts not appe...   \n",
       "1  How can you register for EMOS after downloadin...   \n",
       "2  How can you cancel an order placed through EMO...   \n",
       "3  Why does the message 'Shipto not active' appea...   \n",
       "4  Apakah saya bisa menambahkan atau mengurangi p...   \n",
       "5  What's restricted if order changes aren't allo...   \n",
       "6  Who helps cancel an EMOS order and what do the...   \n",
       "7  How to regain access if login details are forg...   \n",
       "8  What to do if customer status is inactive and ...   \n",
       "9  Can an order be changed considering stock and ...   \n",
       "\n",
       "                                              answer  \\\n",
       "0  1. Pastikan jaringan internet stabil dan gunak...   \n",
       "1  Untuk menggunakan aplikasi EMOS, ikuti langkah...   \n",
       "2  Silakan hubungi salah satu dari berikut ini:\\n...   \n",
       "3  Status Customer Anda sedang dinonaktifkan seme...   \n",
       "4  Untuk saat ini, proses tidak bisa dilakukan. B...   \n",
       "5  - Proses order berdasarkan urutan masuk dan ke...   \n",
       "6  Silakan ikuti langkah berikut:\\n\\n- Hubungi Sa...   \n",
       "7  - Klik \"forget password\" atau \"lupa password\" ...   \n",
       "8  Untuk memastikan pesanan Anda diproses dengan ...   \n",
       "9  - Sistem memproses pesanan berdasarkan urutan ...   \n",
       "\n",
       "                                            contexts  \\\n",
       "0  [Pastikan jaringan internet Anda dalam keadaan...   \n",
       "1  [1. Download Aplikasi EMOS di Google Play Stor...   \n",
       "2  [Silakan menghubungi Salesman atau Supervisor ...   \n",
       "3  [Hal tersebut dikarenakan status Customer Anda...   \n",
       "4  [Untuk saat ini tidak bisa., Silahkan klik tom...   \n",
       "5  [Sistem proses berdasarkan orderan yang masuk ...   \n",
       "6  [Silakan menghubungi Salesman atau Supervisor ...   \n",
       "7  [Silakan klik forget password atau lupa passwo...   \n",
       "8  [Silahkan klik tombol refresh yang ada di menu...   \n",
       "9  [Untuk saat ini tidak bisa., Sistem proses ber...   \n",
       "\n",
       "                                        ground_truth  context_precision  \\\n",
       "0  The answer to given question is not present in...           0.000000   \n",
       "1  After downloading the EMOS application, you ca...           1.000000   \n",
       "2  You can cancel an order placed through EMOS by...           1.000000   \n",
       "3  Hal tersebut dikarenakan status Customer Anda ...           0.750000   \n",
       "4                         Untuk saat ini tidak bisa.           1.000000   \n",
       "5  The answer to given question is not present in...           0.000000   \n",
       "6  The answer to given question is not present in...           0.000000   \n",
       "7  To regain access if login details are forgotte...           0.833333   \n",
       "8  If the customer status is inactive and order d...           0.000000   \n",
       "9  The answer to given question is not present in...           0.000000   \n",
       "\n",
       "   faithfulness  answer_relevancy  context_recall  \n",
       "0      0.666667          0.789716             1.0  \n",
       "1      0.866667          0.000000             1.0  \n",
       "2      0.000000          0.000000             0.0  \n",
       "3      1.000000          0.840395             1.0  \n",
       "4      0.583333          0.000000             1.0  \n",
       "5      0.727273          0.813250             1.0  \n",
       "6      1.000000          0.768562             1.0  \n",
       "7      0.500000          0.869051             1.0  \n",
       "8      0.714286          0.792929             0.0  \n",
       "9      0.727273          0.840074             1.0  "
      ]
     },
     "execution_count": 56,
     "metadata": {},
     "output_type": "execute_result"
    }
   ],
   "source": [
    "df_eval = result.to_pandas()\n",
    "df_eval"
   ]
  },
  {
   "cell_type": "markdown",
   "metadata": {},
   "source": [
    "# Evaluation for few shot"
   ]
  },
  {
   "cell_type": "code",
   "execution_count": 57,
   "metadata": {},
   "outputs": [],
   "source": [
    "# generate answer \n",
    "question = df['question'].tolist()\n",
    "ground_truth = df[\"ground_truth\"].tolist()\n",
    "answers = []\n",
    "contexts = []\n",
    "\n",
    "for query in question:\n",
    "    response = generate_response_few_shot_with_summary(query) #change this with agent \n",
    "    answers.append(response)  \n",
    "    retrieved_docs = retrieve_from_milvus(query, collection_name, k=5)\n",
    "    contexts.append(retrieved_docs)"
   ]
  },
  {
   "cell_type": "code",
   "execution_count": 58,
   "metadata": {},
   "outputs": [
    {
     "name": "stdout",
     "output_type": "stream",
     "text": [
      "Dataset({\n",
      "    features: ['question', 'answer', 'contexts', 'ground_truth'],\n",
      "    num_rows: 10\n",
      "})\n"
     ]
    }
   ],
   "source": [
    "from datasets import Dataset \n",
    "\n",
    "data = {\n",
    "    \"question\": df[\"question\"].tolist(),\n",
    "    \"answer\": answers,\n",
    "    \"contexts\": contexts,\n",
    "    \"ground_truth\": df[\"ground_truth\"].tolist(),\n",
    "}\n",
    "\n",
    "dataset_few = Dataset.from_dict(data)\n",
    "\n",
    "print(dataset_few)"
   ]
  },
  {
   "cell_type": "code",
   "execution_count": 59,
   "metadata": {},
   "outputs": [
    {
     "data": {
      "text/html": [
       "<div>\n",
       "<style scoped>\n",
       "    .dataframe tbody tr th:only-of-type {\n",
       "        vertical-align: middle;\n",
       "    }\n",
       "\n",
       "    .dataframe tbody tr th {\n",
       "        vertical-align: top;\n",
       "    }\n",
       "\n",
       "    .dataframe thead th {\n",
       "        text-align: right;\n",
       "    }\n",
       "</style>\n",
       "<table border=\"1\" class=\"dataframe\">\n",
       "  <thead>\n",
       "    <tr style=\"text-align: right;\">\n",
       "      <th></th>\n",
       "      <th>question</th>\n",
       "      <th>answer</th>\n",
       "      <th>contexts</th>\n",
       "      <th>ground_truth</th>\n",
       "    </tr>\n",
       "  </thead>\n",
       "  <tbody>\n",
       "    <tr>\n",
       "      <th>0</th>\n",
       "      <td>Why does the list of Virtual Accounts not appe...</td>\n",
       "      <td>- Pastikan jaringan internet stabil dan gunaka...</td>\n",
       "      <td>[Pastikan jaringan internet Anda dalam keadaan...</td>\n",
       "      <td>The answer to given question is not present in...</td>\n",
       "    </tr>\n",
       "    <tr>\n",
       "      <th>1</th>\n",
       "      <td>How can you register for EMOS after downloadin...</td>\n",
       "      <td>- Unduh aplikasi EMOS di Google Play Store.\\n-...</td>\n",
       "      <td>[1. Download Aplikasi EMOS di Google Play Stor...</td>\n",
       "      <td>After downloading the EMOS application, you ca...</td>\n",
       "    </tr>\n",
       "    <tr>\n",
       "      <th>2</th>\n",
       "      <td>How can you cancel an order placed through EMO...</td>\n",
       "      <td>Hubungi salah satu dari berikut ini untuk mend...</td>\n",
       "      <td>[Silakan menghubungi Salesman atau Supervisor ...</td>\n",
       "      <td>You can cancel an order placed through EMOS by...</td>\n",
       "    </tr>\n",
       "    <tr>\n",
       "      <th>3</th>\n",
       "      <td>Why does the message 'Shipto not active' appea...</td>\n",
       "      <td>- Pastikan status customer Anda aktif. Jika ti...</td>\n",
       "      <td>[Hal tersebut dikarenakan status Customer Anda...</td>\n",
       "      <td>Hal tersebut dikarenakan status Customer Anda ...</td>\n",
       "    </tr>\n",
       "    <tr>\n",
       "      <th>4</th>\n",
       "      <td>Apakah saya bisa menambahkan atau mengurangi p...</td>\n",
       "      <td>- Saat ini, sistem tidak bisa memproses order....</td>\n",
       "      <td>[Untuk saat ini tidak bisa., Silahkan klik tom...</td>\n",
       "      <td>Untuk saat ini tidak bisa.</td>\n",
       "    </tr>\n",
       "    <tr>\n",
       "      <th>5</th>\n",
       "      <td>What's restricted if order changes aren't allo...</td>\n",
       "      <td>- Sistem memproses berdasarkan urutan order ya...</td>\n",
       "      <td>[Sistem proses berdasarkan orderan yang masuk ...</td>\n",
       "      <td>The answer to given question is not present in...</td>\n",
       "    </tr>\n",
       "    <tr>\n",
       "      <th>6</th>\n",
       "      <td>Who helps cancel an EMOS order and what do the...</td>\n",
       "      <td>Hubungi salah satu dari berikut ini untuk mend...</td>\n",
       "      <td>[Silakan menghubungi Salesman atau Supervisor ...</td>\n",
       "      <td>The answer to given question is not present in...</td>\n",
       "    </tr>\n",
       "    <tr>\n",
       "      <th>7</th>\n",
       "      <td>How to regain access if login details are forg...</td>\n",
       "      <td>- Klik \"forget password\" atau \"lupa password\" ...</td>\n",
       "      <td>[Silakan klik forget password atau lupa passwo...</td>\n",
       "      <td>To regain access if login details are forgotte...</td>\n",
       "    </tr>\n",
       "    <tr>\n",
       "      <th>8</th>\n",
       "      <td>What to do if customer status is inactive and ...</td>\n",
       "      <td>Untuk memastikan orderan Anda diproses dengan ...</td>\n",
       "      <td>[Silahkan klik tombol refresh yang ada di menu...</td>\n",
       "      <td>If the customer status is inactive and order d...</td>\n",
       "    </tr>\n",
       "    <tr>\n",
       "      <th>9</th>\n",
       "      <td>Can an order be changed considering stock and ...</td>\n",
       "      <td>Untuk memastikan orderan Anda diproses dengan ...</td>\n",
       "      <td>[Untuk saat ini tidak bisa., Sistem proses ber...</td>\n",
       "      <td>The answer to given question is not present in...</td>\n",
       "    </tr>\n",
       "  </tbody>\n",
       "</table>\n",
       "</div>"
      ],
      "text/plain": [
       "                                            question  \\\n",
       "0  Why does the list of Virtual Accounts not appe...   \n",
       "1  How can you register for EMOS after downloadin...   \n",
       "2  How can you cancel an order placed through EMO...   \n",
       "3  Why does the message 'Shipto not active' appea...   \n",
       "4  Apakah saya bisa menambahkan atau mengurangi p...   \n",
       "5  What's restricted if order changes aren't allo...   \n",
       "6  Who helps cancel an EMOS order and what do the...   \n",
       "7  How to regain access if login details are forg...   \n",
       "8  What to do if customer status is inactive and ...   \n",
       "9  Can an order be changed considering stock and ...   \n",
       "\n",
       "                                              answer  \\\n",
       "0  - Pastikan jaringan internet stabil dan gunaka...   \n",
       "1  - Unduh aplikasi EMOS di Google Play Store.\\n-...   \n",
       "2  Hubungi salah satu dari berikut ini untuk mend...   \n",
       "3  - Pastikan status customer Anda aktif. Jika ti...   \n",
       "4  - Saat ini, sistem tidak bisa memproses order....   \n",
       "5  - Sistem memproses berdasarkan urutan order ya...   \n",
       "6  Hubungi salah satu dari berikut ini untuk mend...   \n",
       "7  - Klik \"forget password\" atau \"lupa password\" ...   \n",
       "8  Untuk memastikan orderan Anda diproses dengan ...   \n",
       "9  Untuk memastikan orderan Anda diproses dengan ...   \n",
       "\n",
       "                                            contexts  \\\n",
       "0  [Pastikan jaringan internet Anda dalam keadaan...   \n",
       "1  [1. Download Aplikasi EMOS di Google Play Stor...   \n",
       "2  [Silakan menghubungi Salesman atau Supervisor ...   \n",
       "3  [Hal tersebut dikarenakan status Customer Anda...   \n",
       "4  [Untuk saat ini tidak bisa., Silahkan klik tom...   \n",
       "5  [Sistem proses berdasarkan orderan yang masuk ...   \n",
       "6  [Silakan menghubungi Salesman atau Supervisor ...   \n",
       "7  [Silakan klik forget password atau lupa passwo...   \n",
       "8  [Silahkan klik tombol refresh yang ada di menu...   \n",
       "9  [Untuk saat ini tidak bisa., Sistem proses ber...   \n",
       "\n",
       "                                        ground_truth  \n",
       "0  The answer to given question is not present in...  \n",
       "1  After downloading the EMOS application, you ca...  \n",
       "2  You can cancel an order placed through EMOS by...  \n",
       "3  Hal tersebut dikarenakan status Customer Anda ...  \n",
       "4                         Untuk saat ini tidak bisa.  \n",
       "5  The answer to given question is not present in...  \n",
       "6  The answer to given question is not present in...  \n",
       "7  To regain access if login details are forgotte...  \n",
       "8  If the customer status is inactive and order d...  \n",
       "9  The answer to given question is not present in...  "
      ]
     },
     "execution_count": 59,
     "metadata": {},
     "output_type": "execute_result"
    }
   ],
   "source": [
    "new_data_few = dataset_few.to_pandas()\n",
    "new_data_few"
   ]
  },
  {
   "cell_type": "code",
   "execution_count": 60,
   "metadata": {},
   "outputs": [
    {
     "name": "stderr",
     "output_type": "stream",
     "text": [
      "Evaluating:   2%|▎         | 1/40 [00:02<01:39,  2.55s/it]No statements were generated from the answer.\n",
      "Evaluating:  28%|██▊       | 11/40 [00:10<00:19,  1.46it/s]No statements were generated from the answer.\n",
      "Evaluating: 100%|██████████| 40/40 [00:29<00:00,  1.35it/s]\n"
     ]
    },
    {
     "data": {
      "text/plain": [
       "{'context_precision': 0.4783, 'faithfulness': 0.7708, 'answer_relevancy': 0.5906, 'context_recall': 0.8000}"
      ]
     },
     "execution_count": 60,
     "metadata": {},
     "output_type": "execute_result"
    }
   ],
   "source": [
    "from ragas import evaluate\n",
    "\n",
    "result = evaluate(\n",
    "    dataset_few,\n",
    "    metrics=[\n",
    "        context_precision,\n",
    "        faithfulness,\n",
    "        answer_relevancy,\n",
    "        context_recall,\n",
    "    ],\n",
    ")\n",
    "\n",
    "result"
   ]
  },
  {
   "cell_type": "code",
   "execution_count": 61,
   "metadata": {},
   "outputs": [
    {
     "data": {
      "text/html": [
       "<div>\n",
       "<style scoped>\n",
       "    .dataframe tbody tr th:only-of-type {\n",
       "        vertical-align: middle;\n",
       "    }\n",
       "\n",
       "    .dataframe tbody tr th {\n",
       "        vertical-align: top;\n",
       "    }\n",
       "\n",
       "    .dataframe thead th {\n",
       "        text-align: right;\n",
       "    }\n",
       "</style>\n",
       "<table border=\"1\" class=\"dataframe\">\n",
       "  <thead>\n",
       "    <tr style=\"text-align: right;\">\n",
       "      <th></th>\n",
       "      <th>question</th>\n",
       "      <th>answer</th>\n",
       "      <th>contexts</th>\n",
       "      <th>ground_truth</th>\n",
       "      <th>context_precision</th>\n",
       "      <th>faithfulness</th>\n",
       "      <th>answer_relevancy</th>\n",
       "      <th>context_recall</th>\n",
       "    </tr>\n",
       "  </thead>\n",
       "  <tbody>\n",
       "    <tr>\n",
       "      <th>0</th>\n",
       "      <td>Why does the list of Virtual Accounts not appe...</td>\n",
       "      <td>- Pastikan jaringan internet stabil dan gunaka...</td>\n",
       "      <td>[Pastikan jaringan internet Anda dalam keadaan...</td>\n",
       "      <td>The answer to given question is not present in...</td>\n",
       "      <td>0.000000</td>\n",
       "      <td>1.000000</td>\n",
       "      <td>0.000000</td>\n",
       "      <td>1.0</td>\n",
       "    </tr>\n",
       "    <tr>\n",
       "      <th>1</th>\n",
       "      <td>How can you register for EMOS after downloadin...</td>\n",
       "      <td>- Unduh aplikasi EMOS di Google Play Store.\\n-...</td>\n",
       "      <td>[1. Download Aplikasi EMOS di Google Play Stor...</td>\n",
       "      <td>After downloading the EMOS application, you ca...</td>\n",
       "      <td>1.000000</td>\n",
       "      <td>1.000000</td>\n",
       "      <td>0.946204</td>\n",
       "      <td>1.0</td>\n",
       "    </tr>\n",
       "    <tr>\n",
       "      <th>2</th>\n",
       "      <td>How can you cancel an order placed through EMO...</td>\n",
       "      <td>Hubungi salah satu dari berikut ini untuk mend...</td>\n",
       "      <td>[Silakan menghubungi Salesman atau Supervisor ...</td>\n",
       "      <td>You can cancel an order placed through EMOS by...</td>\n",
       "      <td>1.000000</td>\n",
       "      <td>NaN</td>\n",
       "      <td>0.000000</td>\n",
       "      <td>0.0</td>\n",
       "    </tr>\n",
       "    <tr>\n",
       "      <th>3</th>\n",
       "      <td>Why does the message 'Shipto not active' appea...</td>\n",
       "      <td>- Pastikan status customer Anda aktif. Jika ti...</td>\n",
       "      <td>[Hal tersebut dikarenakan status Customer Anda...</td>\n",
       "      <td>Hal tersebut dikarenakan status Customer Anda ...</td>\n",
       "      <td>0.750000</td>\n",
       "      <td>0.500000</td>\n",
       "      <td>0.866160</td>\n",
       "      <td>1.0</td>\n",
       "    </tr>\n",
       "    <tr>\n",
       "      <th>4</th>\n",
       "      <td>Apakah saya bisa menambahkan atau mengurangi p...</td>\n",
       "      <td>- Saat ini, sistem tidak bisa memproses order....</td>\n",
       "      <td>[Untuk saat ini tidak bisa., Silahkan klik tom...</td>\n",
       "      <td>Untuk saat ini tidak bisa.</td>\n",
       "      <td>1.000000</td>\n",
       "      <td>0.625000</td>\n",
       "      <td>0.795195</td>\n",
       "      <td>1.0</td>\n",
       "    </tr>\n",
       "    <tr>\n",
       "      <th>5</th>\n",
       "      <td>What's restricted if order changes aren't allo...</td>\n",
       "      <td>- Sistem memproses berdasarkan urutan order ya...</td>\n",
       "      <td>[Sistem proses berdasarkan orderan yang masuk ...</td>\n",
       "      <td>The answer to given question is not present in...</td>\n",
       "      <td>0.000000</td>\n",
       "      <td>0.625000</td>\n",
       "      <td>0.788073</td>\n",
       "      <td>1.0</td>\n",
       "    </tr>\n",
       "    <tr>\n",
       "      <th>6</th>\n",
       "      <td>Who helps cancel an EMOS order and what do the...</td>\n",
       "      <td>Hubungi salah satu dari berikut ini untuk mend...</td>\n",
       "      <td>[Silakan menghubungi Salesman atau Supervisor ...</td>\n",
       "      <td>The answer to given question is not present in...</td>\n",
       "      <td>0.000000</td>\n",
       "      <td>NaN</td>\n",
       "      <td>0.000000</td>\n",
       "      <td>1.0</td>\n",
       "    </tr>\n",
       "    <tr>\n",
       "      <th>7</th>\n",
       "      <td>How to regain access if login details are forg...</td>\n",
       "      <td>- Klik \"forget password\" atau \"lupa password\" ...</td>\n",
       "      <td>[Silakan klik forget password atau lupa passwo...</td>\n",
       "      <td>To regain access if login details are forgotte...</td>\n",
       "      <td>0.833333</td>\n",
       "      <td>1.000000</td>\n",
       "      <td>0.859013</td>\n",
       "      <td>1.0</td>\n",
       "    </tr>\n",
       "    <tr>\n",
       "      <th>8</th>\n",
       "      <td>What to do if customer status is inactive and ...</td>\n",
       "      <td>Untuk memastikan orderan Anda diproses dengan ...</td>\n",
       "      <td>[Silahkan klik tombol refresh yang ada di menu...</td>\n",
       "      <td>If the customer status is inactive and order d...</td>\n",
       "      <td>0.200000</td>\n",
       "      <td>0.750000</td>\n",
       "      <td>0.813145</td>\n",
       "      <td>0.0</td>\n",
       "    </tr>\n",
       "    <tr>\n",
       "      <th>9</th>\n",
       "      <td>Can an order be changed considering stock and ...</td>\n",
       "      <td>Untuk memastikan orderan Anda diproses dengan ...</td>\n",
       "      <td>[Untuk saat ini tidak bisa., Sistem proses ber...</td>\n",
       "      <td>The answer to given question is not present in...</td>\n",
       "      <td>0.000000</td>\n",
       "      <td>0.666667</td>\n",
       "      <td>0.838329</td>\n",
       "      <td>1.0</td>\n",
       "    </tr>\n",
       "  </tbody>\n",
       "</table>\n",
       "</div>"
      ],
      "text/plain": [
       "                                            question  \\\n",
       "0  Why does the list of Virtual Accounts not appe...   \n",
       "1  How can you register for EMOS after downloadin...   \n",
       "2  How can you cancel an order placed through EMO...   \n",
       "3  Why does the message 'Shipto not active' appea...   \n",
       "4  Apakah saya bisa menambahkan atau mengurangi p...   \n",
       "5  What's restricted if order changes aren't allo...   \n",
       "6  Who helps cancel an EMOS order and what do the...   \n",
       "7  How to regain access if login details are forg...   \n",
       "8  What to do if customer status is inactive and ...   \n",
       "9  Can an order be changed considering stock and ...   \n",
       "\n",
       "                                              answer  \\\n",
       "0  - Pastikan jaringan internet stabil dan gunaka...   \n",
       "1  - Unduh aplikasi EMOS di Google Play Store.\\n-...   \n",
       "2  Hubungi salah satu dari berikut ini untuk mend...   \n",
       "3  - Pastikan status customer Anda aktif. Jika ti...   \n",
       "4  - Saat ini, sistem tidak bisa memproses order....   \n",
       "5  - Sistem memproses berdasarkan urutan order ya...   \n",
       "6  Hubungi salah satu dari berikut ini untuk mend...   \n",
       "7  - Klik \"forget password\" atau \"lupa password\" ...   \n",
       "8  Untuk memastikan orderan Anda diproses dengan ...   \n",
       "9  Untuk memastikan orderan Anda diproses dengan ...   \n",
       "\n",
       "                                            contexts  \\\n",
       "0  [Pastikan jaringan internet Anda dalam keadaan...   \n",
       "1  [1. Download Aplikasi EMOS di Google Play Stor...   \n",
       "2  [Silakan menghubungi Salesman atau Supervisor ...   \n",
       "3  [Hal tersebut dikarenakan status Customer Anda...   \n",
       "4  [Untuk saat ini tidak bisa., Silahkan klik tom...   \n",
       "5  [Sistem proses berdasarkan orderan yang masuk ...   \n",
       "6  [Silakan menghubungi Salesman atau Supervisor ...   \n",
       "7  [Silakan klik forget password atau lupa passwo...   \n",
       "8  [Silahkan klik tombol refresh yang ada di menu...   \n",
       "9  [Untuk saat ini tidak bisa., Sistem proses ber...   \n",
       "\n",
       "                                        ground_truth  context_precision  \\\n",
       "0  The answer to given question is not present in...           0.000000   \n",
       "1  After downloading the EMOS application, you ca...           1.000000   \n",
       "2  You can cancel an order placed through EMOS by...           1.000000   \n",
       "3  Hal tersebut dikarenakan status Customer Anda ...           0.750000   \n",
       "4                         Untuk saat ini tidak bisa.           1.000000   \n",
       "5  The answer to given question is not present in...           0.000000   \n",
       "6  The answer to given question is not present in...           0.000000   \n",
       "7  To regain access if login details are forgotte...           0.833333   \n",
       "8  If the customer status is inactive and order d...           0.200000   \n",
       "9  The answer to given question is not present in...           0.000000   \n",
       "\n",
       "   faithfulness  answer_relevancy  context_recall  \n",
       "0      1.000000          0.000000             1.0  \n",
       "1      1.000000          0.946204             1.0  \n",
       "2           NaN          0.000000             0.0  \n",
       "3      0.500000          0.866160             1.0  \n",
       "4      0.625000          0.795195             1.0  \n",
       "5      0.625000          0.788073             1.0  \n",
       "6           NaN          0.000000             1.0  \n",
       "7      1.000000          0.859013             1.0  \n",
       "8      0.750000          0.813145             0.0  \n",
       "9      0.666667          0.838329             1.0  "
      ]
     },
     "execution_count": 61,
     "metadata": {},
     "output_type": "execute_result"
    }
   ],
   "source": [
    "df_eval = result.to_pandas()\n",
    "df_eval"
   ]
  }
 ],
 "metadata": {
  "kernelspec": {
   "display_name": "venv",
   "language": "python",
   "name": "python3"
  },
  "language_info": {
   "codemirror_mode": {
    "name": "ipython",
    "version": 3
   },
   "file_extension": ".py",
   "mimetype": "text/x-python",
   "name": "python",
   "nbconvert_exporter": "python",
   "pygments_lexer": "ipython3",
   "version": "3.11.8"
  }
 },
 "nbformat": 4,
 "nbformat_minor": 2
}
