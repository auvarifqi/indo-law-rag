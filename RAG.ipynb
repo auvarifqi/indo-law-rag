{
 "cells": [
  {
   "cell_type": "markdown",
   "metadata": {},
   "source": [
    "RAG\n",
    "notes:\n",
    "- conda env: rag-ta, requirements-rag.txt"
   ]
  },
  {
   "cell_type": "markdown",
   "metadata": {},
   "source": [
    "# Import Library"
   ]
  },
  {
   "cell_type": "code",
   "execution_count": 2,
   "metadata": {},
   "outputs": [
    {
     "name": "stderr",
     "output_type": "stream",
     "text": [
      "/Users/auva/anaconda3/envs/rag-ta/lib/python3.10/site-packages/tqdm/auto.py:21: TqdmWarning: IProgress not found. Please update jupyter and ipywidgets. See https://ipywidgets.readthedocs.io/en/stable/user_install.html\n",
      "  from .autonotebook import tqdm as notebook_tqdm\n"
     ]
    }
   ],
   "source": [
    "import json\n",
    "import os\n",
    "from typing import List\n",
    "import numpy as np\n",
    "\n",
    "\n",
    "from pymilvus import connections, FieldSchema, CollectionSchema, DataType, Collection, utility\n",
    "from sentence_transformers import SentenceTransformer\n",
    "\n",
    "\n",
    "from langchain_community.document_loaders import JSONLoader\n",
    "from langchain_core.documents import Document\n",
    "from langchain.text_splitter import RecursiveCharacterTextSplitter\n",
    "\n",
    "from pymilvus import Collection, AnnSearchRequest, WeightedRanker\n",
    "from langchain.chains.combine_documents import create_stuff_documents_chain\n",
    "from langchain_core.prompts import ChatPromptTemplate, MessagesPlaceholder\n",
    "from langchain_core.messages import HumanMessage\n",
    "from langchain_community.chat_message_histories import ChatMessageHistory\n",
    "import re"
   ]
  },
  {
   "cell_type": "markdown",
   "metadata": {},
   "source": [
    "# Initiate variable"
   ]
  },
  {
   "cell_type": "code",
   "execution_count": 3,
   "metadata": {},
   "outputs": [],
   "source": [
    "dataset_path = \"dataset_3sample_json\"\n",
    "\n",
    "model_name = \"gpt-4o-mini\"\n",
    "temperature = 0.1"
   ]
  },
  {
   "cell_type": "markdown",
   "metadata": {},
   "source": [
    "# Load Dataset XML to JSON"
   ]
  },
  {
   "cell_type": "code",
   "execution_count": 4,
   "metadata": {},
   "outputs": [],
   "source": [
    "# import os\n",
    "# import xml.etree.ElementTree as ET\n",
    "# import json\n",
    "# from tqdm import tqdm\n",
    "\n",
    "# # Fungsi untuk mengonversi elemen XML ke dictionary\n",
    "# def xml_to_dict(element):\n",
    "#     result = {}\n",
    "#     # Tambahkan atribut elemen ke dictionary\n",
    "#     result.update(element.attrib)\n",
    "#     # Tambahkan elemen anak ke dictionary\n",
    "#     for child in element:\n",
    "#         if len(child):  # Jika elemen memiliki anak\n",
    "#             result[child.tag] = xml_to_dict(child)\n",
    "#         else:  # Jika elemen tidak memiliki anak\n",
    "#             result[child.tag] = child.text.strip() if child.text else None\n",
    "#     return result\n",
    "\n",
    "# # Fungsi untuk mengonversi file XML ke JSON dengan progress bar\n",
    "# def convert_xml_to_json(input_folder, output_folder):\n",
    "#     # Pastikan folder output ada\n",
    "#     if not os.path.exists(output_folder):\n",
    "#         os.makedirs(output_folder)\n",
    "\n",
    "#     # Dapatkan daftar file XML di folder input\n",
    "#     xml_files = [f for f in os.listdir(input_folder) if f.endswith(\".xml\")]\n",
    "\n",
    "#     # Inisialisasi progress bar\n",
    "#     with tqdm(total=len(xml_files), desc=\"Processing Files\", unit=\"file\") as pbar:\n",
    "#         for filename in xml_files:\n",
    "#             file_path = os.path.join(input_folder, filename)\n",
    "#             try:\n",
    "#                 # Parse file XML\n",
    "#                 tree = ET.parse(file_path)\n",
    "#                 root = tree.getroot()\n",
    "\n",
    "#                 # Konversi ke dictionary\n",
    "#                 data_dict = xml_to_dict(root)\n",
    "\n",
    "#                 # Nama file JSON\n",
    "#                 json_filename = os.path.splitext(filename)[0] + \".json\"\n",
    "#                 json_path = os.path.join(output_folder, json_filename)\n",
    "\n",
    "#                 # Simpan sebagai file JSON\n",
    "#                 with open(json_path, 'w', encoding='utf-8') as json_file:\n",
    "#                     json.dump(data_dict, json_file, indent=4, ensure_ascii=False)\n",
    "\n",
    "#                 pbar.set_postfix({\"Current File\": filename})\n",
    "#             except Exception as e:\n",
    "#                 pbar.set_postfix({\"Error\": str(e)})\n",
    "            \n",
    "#             # Update progress bar\n",
    "#             pbar.update(1)\n"
   ]
  },
  {
   "cell_type": "code",
   "execution_count": 5,
   "metadata": {},
   "outputs": [],
   "source": [
    "# # Folder input dan output\n",
    "# input_folder = \"/Users/auva/Documents/GitHub/indo-law-rag/dataset\"  # Ganti dengan path folder input\n",
    "# output_folder = \"/Users/auva/Documents/GitHub/indo-law-rag/dataset_json\"  # Ganti dengan path folder output\n",
    "\n",
    "# # Jalankan konversi\n",
    "# convert_xml_to_json(input_folder, output_folder)"
   ]
  },
  {
   "cell_type": "markdown",
   "metadata": {},
   "source": [
    "# Chunk docs"
   ]
  },
  {
   "cell_type": "code",
   "execution_count": 6,
   "metadata": {},
   "outputs": [],
   "source": [
    "def load_json_documents(folder_path: str) -> List[Document]:\n",
    "    \"\"\"\n",
    "    Load all JSON files from a folder recursively using JSONLoader\n",
    "    \n",
    "    Args:\n",
    "        folder_path (str): Path to the folder containing JSON files\n",
    "        \n",
    "    Returns:\n",
    "        List[Document]: List of loaded documents\n",
    "    \"\"\"\n",
    "    all_documents = []\n",
    "    \n",
    "    # Walk through all files in directory and subdirectories\n",
    "    for root, dirs, files in os.walk(folder_path):\n",
    "        for file in files:\n",
    "            if file.endswith('.json'):\n",
    "                file_path = os.path.join(root, file)\n",
    "                try:\n",
    "                    # Initialize JSONLoader for each file\n",
    "                    loader = JSONLoader(\n",
    "                        file_path=file_path,\n",
    "                        jq_schema='.',  # You might need to adjust this based on your JSON structure\n",
    "                        text_content=False\n",
    "                    )\n",
    "                    \n",
    "                    # Load documents from the file\n",
    "                    documents = loader.load()\n",
    "                    all_documents.extend(documents)\n",
    "                    \n",
    "                    print(f\"Successfully loaded: {file_path}\")\n",
    "                except Exception as e:\n",
    "                    print(f\"Error loading {file_path}: {str(e)}\")\n",
    "    \n",
    "    return all_documents\n"
   ]
  },
  {
   "cell_type": "code",
   "execution_count": 7,
   "metadata": {},
   "outputs": [
    {
     "name": "stdout",
     "output_type": "stream",
     "text": [
      "Successfully loaded: dataset_3sample_json/0a0b31d91c24aa455fcc6848702b507c.json\n",
      "Successfully loaded: dataset_3sample_json/0a0e54aa47236640faa91000e271aa0d.json\n",
      "\n",
      "Total documents loaded: 2\n"
     ]
    }
   ],
   "source": [
    "documents = load_json_documents(dataset_path)\n",
    "# Print total number of documents loaded\n",
    "print(f\"\\nTotal documents loaded: {len(documents)}\")"
   ]
  },
  {
   "cell_type": "code",
   "execution_count": 8,
   "metadata": {},
   "outputs": [
    {
     "data": {
      "text/plain": [
       "'{\"amar\": \"pidana\", \"amar_lainnya\": \"hukum\", \"id\": \"0a0e54aa47236640faa91000e271aa0d\", \"klasifikasi\": \"pidana-khusus\", \"lama_hukuman\": \"720\", \"lembaga_peradilan\": \"pn-cirebon\", \"provinsi\": \"jabar\", \"status\": \"berkekuatan-hukum-tetap\", \"sub_klasifikasi\": \"narkotika-dan-psikotropika\", \"url\": \"https://putusan3.mahkamahagung.go.id/direktori/putusan/0a0e54aa47236640faa91000e271aa0d.html\", \"kepala_putusan\": \"putusan\\\\nnomor 110 pid sus 2018 pn cbn\\\\ndemi keadilan berdasarkan ketuhanan yang maha esa\\\\npengadilan negeri cirebon yang mengadili perkara pidana dengan acara pemeriksaan biasa dalam tingkat pertama menjatuhkan putusan sebagai berikut dalam perkara terdakwa\", \"identitas\": \"nama lengkap 1 adi daswadi bin wasdam\\\\ntempat lahir 2 indramayu\\\\numur tanggal lahir 3 30 tahun 20 november 1988\\\\njenis kelamin 4 laki laki\\\\nkebangsaan 5 indonesia\\\\ntempat tinggal 6 desa santing blok ujung jaya rt 11 rw 02 kecamatan losarang kabupaten indramayu\\\\nagama 7 islam\\\\npekerjaan 8 buruh\", \"riwayat_penahanan\": \"terdakwa ditangkap pada tanggal 17 maret 2018\\\\nterdakwa ditahan dalam tahanan rumah tahanan negara oleh\\\\n1 penyidik sejak tanggal 18 maret 2018 sampai dengan tanggal 6 april 2018\\\\n2 perpanjangan oleh penuntut umum sejak tanggal 7 april 2018 sampai dengan tanggal 16 mei 2018\\\\n3 perpanjangan pertama oleh ketua pengadilan negeri cirebon sejak tanggal 17 mei 2018 sampai dengan tanggal 15 juni 2018\\\\n4 perpanjangan kedua oleh ketua pengadilan negeri cirebon sejak tanggal 16 juni 2018 sampai dengan tanggal 15 juli 2018\\\\n5 penuntut umum sejak tanggal 22 juni 2018 sampai dengan tanggal 11 juli 2018\\\\n6 majelis hakim pengadilan negeri cirebon sejak tanggal 5 juli 2018 sampai dengan tanggal 3 agustus 2018\\\\n7 perpanjangan ketua pengadilan negeri cirebon sejak tanggal 4 agustus 2018 sampai dengan tanggal 2 oktober 2018\", \"riwayat_perkara\": \"terdakwa didampingi oleh penasihat hukum sdr ermanto s h penasihat hukum pada posbakum pengadilan negeri cirebon di jalan dr wahidin sudirohusodo no 18 kota cirebon berdasarkan surat penetapan tanggal 11 juli 2018 nomor 110 pid sus 2018 pn cbn\\\\npengadilan negeri tersebut\\\\nsetelah membaca\\\\npenetapan ketua pengadilan negeri cirebon nomor 110 pen pid sus 2018 pn cbn tanggal 5 juli 2018 tentang penunjukan majelis hakim\\\\npenetapan majelis hakim nomor 110 pid sus 2018 pn cbn tanggal tentang penetapan hari sidang\\\\nberkas perkara dan surat surat lain yang bersangkutan\\\\nsetelah mendengar keterangan saksi saksi dan terdakwa serta memperhatikan bukti surat yang diajukan di persidangan\", \"riwayat_tuntutan\": \"setelah mendengar pembacaan tuntutan pidana yang diajukan oleh penuntut umum yang pada poko knya sebagai berikut\\\\n1 menyatakan terdakwa adi daswadi bin wasdam bersalah melakukan tindak pidana telah menggunakan narkotika golongan i bagi diri sendiri sebagaimana diatur dan diancam pidana dalam pasal 127 ayat 1 huruf a uu no 35 tahun 2009 tentang narkotika jo pasal 84 ayat 2 kuhap sebagaimana dalam dakwaan kedua\\\\n2 menjatuhkan pidana terhadap terdakwa adi daswadi bin wasdam dengan pidana penjara selama 2 dua tahun dan 6 enam bulan dikurangi selama terdakwa beradadalam tahanan sementara dengan perintah terdakwa tetap di tahan\\\\n3 menetapkan barang bukti berupa\\\\n1 satu paket narkotika jenis daun ganja kering yang dibungkus kertas koran dengan berat bruto kurang lebih 5 40 gram setelah dilakukan pemeriksaan uji laboratorium sisa seberat 3 5499 gram\\\\n1 satu linting daun ganja kering yang menggunakan kertas papir warna putih dengan bruto 0 64 gram setelah dilakukan pemeriksaan uji laboratorium sisa seberat 0 2694 gram\\\\n4 empat lembar kertas papir warna putih\\\\n1 satu buah tas kecil warna hitam\\\\ndirampas untuk dimusnahkan 4 menetapkan agar terdakwa membayar biaya perkara sebesar rph 000 lima ribu rupiah\\\\nsetelah mendengar nota pembelaan penasihat hukum terdakwa yang pada pokoknya sebagai berikut\\\\nsetelah penasihat hukum terdakwa mempelajari dan memahami dari keterangan para saksi keterangan terdakwa dan tuntutan jaksa penuntut umum tersebut di atas penasihat hukum terdakwa adi daswadi bin wasdam mohon majelis hakim dalam putusannya memutuskan\\\\nmenjatuhkan pemidanaan terhadap terdakwa adi daswadi bin wasdam dengan memberikan hukuman seringan ringannya dikarenakan\\\\n1 terdakwa berlaku sopan dalam persidangan\\\\n2 terdakwa memberikan keterangan dengan jelas dan tidak berbelit belit\\\\n3 terdakwa mengakui semua perbuatannya dan menyesali serta berjanji tidak akan mengulangi lagi\\\\n4 terdakwa belum pernah dihukum\\\\nsetelah mendengar permohonan terdakwa secara tertulis yang pada pokoknya menyatakan mohon keringanan hukuman\\\\nsetelah mendengar tanggapan penuntut umum terhadap nota pembelaan terdakwa dan terdakwa yang pada pokoknya tetap pada tuntutannya\\\\nsetelah mendengar tanggapan penasihat hukum terdakwa dan terdakwa terhadap tanggapan penuntut umum yang pada pokoknya masing masing tetap pada permohonannya\", \"riwayat_dakwaan\": \"menimbang bahwa terdakwa diajukan ke persidangan oleh penuntut umum didakwa berdasarkan surat dakwaan sebagai berikut\\\\nkesatu\\\\nbahwa terdakwa adi daswadi bin wasdam pada hari sabtu tanggal 17 maret 2018 sekitar pukul 17 00 wib atau setidak tidaknya pada suatu waktu lain bulan maret 2018 bertempat di dekat gapura arah jalan masuk stadion bima kota cirebon kelurahan sunyaragi kecamatan kesambi kota cirebon atau setidak tidaknya pada suatu tempat lain yang masih termasuk dalam daerah hukum pengadilan negeri cirebon yang berwenang memeriksa dan mengadili perkara ini telah tanpa hak atau melawan hukum memiliki menyimpan menguasai atau menyediakan narkotika golongan i dalam bentuk tanaman perbuatan terdakwa dilakukan dengan cara sebagai berikut\\\\nbahwa awalnya pada saat event konser band slank di mako korem cirebon kelurahan sunyaragi kecamatan kesambi kota cirebon saksi dadang bersama sama dengan saksi yono melihat seorang laki laki yangmencurigakan tingkah lakunya yang sedang duduk didekat gapura arah stadion bima kota cirebon kemudian saksi dadang bersama sama dengan saksi yono melakukan penangkapan dan penggledahan badan terhadap terdakwa yang mencurigakan tersebut setelah dilakukan penggeledahan terhadap terdakwa ditemukan barang bukti berupa 1 satu paket narkotika jenis daun ganja kering yang dibungkus kertas koran 1 satu linting narkotika jenis daun ganja kering yang menggunakan kertas papir warna putih dan 4 empat lembar kertas papir warna putih yang semuanya berada di dalam tas kecil warna hitam yang sedang dipakai oleh terdakwa\\\\nselanjutnya terdakwa dan barang bukti di bawa ke sat res narkoba polres cirebon kota untuk dilakukan penyidikan lebih lanjut\\\\nbahwa terdakwa membeli narkotika jenis daun ganja kering dengan harga sebesar rp 100 000 seratus ribu rupiah pada hari jumat tanggal 16 maret 2018 sekitar pukul 11 30 wib di rumah sdr wa ebod dpo daerah bongas kabupaten indramayu dengan cara terdakwa langsung datang ke rumah sdr wa ebod dengan tujuan untuk mendapatkan narkotika jenis daun ganja kering lalu terdakwa menyerahkan uang sebesar rp 100 000 seratus ribu rupiah kepada sdr wa ebod setelah itu terdakwa disuruh menunggu sampai sdr wa ebod datang membawa paketan narkotika jenis daun ganja kering kemudian sdr wa ebod datang dan menyerahkan narkotika jenis daun ganja kering tersebut kepada terdakwa\\\\nbahwa berdasarkan berita acara pemeriksaan laboratoris kriminalistik no lab\\\\n1826 nnf 2018 tanggal 16 april 2018 dalam kesimpulannya bahwa barang bukti berupa daun daun kering tersebut adalah benar mengandung ganja yang terdaftar dalam golongan i nomor urut 8 lampiran undang undang ri no 35 tahun 2009 tentang narkotika\\\\nbahwa terdakwa memiliki menyimpan menguasai narkotika golongan i bentuk tanaman tidak ada ijin dari yang berwenang\\\\nperbuatan terdakwa adi daswadi bin wasdam sebagaimana diatur dan diancam pidana dalam pasal 111 ayat 1 uu ri no 35 tahun 2009 tentang narkotika\\\\natau\\\\nkedua\\\\nbahwa terdakwa adi daswadi bin wasdam pada hari sabtu tanggal 17 maret 2018 sekitar pukul 17 00 wib atau setidak tidaknya pada suatu waktu lain bulan maret 2018 bertempat di kamar rumah terdakwa desa santing blok ujung jaya rt 11 rw 02 kecamatan losarang kabupaten indramayu atausetidak tidaknya berdasarkan pasal 84 ayat 2 kuhap sebagian besar saksi yang dipanggil lebih dekat dengan pengadilan negeri cirebon sehingga pengadilan negeri cirebon yang berwenang memeriksa dan mengadili perkara ini telah tanpa hak atau melawan hukum menggunakan narkotika golongan 1 bagi diri sendiri perbuatan terdakwa lakukan dengan cara sebagai berikut\\\\nbahwa awalnya pada saat event konser band slank di mako korem cirebon kelurahan sunyaragi kecamatan kesambi kota cirebon saksi dadang bersama sama dengan saksi yono melihat seorang laki laki yang mencurigakan tingkah lakunya yang sedang duduk didekat gapura arah stadion bima kota cirebon kemudian saksi dadang bersama sama dengan saksi yono melakukan penangkapan dan penggledahan badan terhadap terdakwa yang mencurigakan tersebut setelah dilakukan penggeledahan terhadap terdakwa ditemukan barang bukti berupa 1 satu paket narkotika jenis daun ganja kering yang dibungkus kertas koran 1 satu linting narkotika jenis daun ganja kering yang menggunakan kertas papir warna putih dan 4 empat lembar kertas papir warna putih yang semuanya berada di dalam tas kecil warna hitam yang sedang dipakai oleh terdakwa\\\\nselanjutnya terdakwa dan barang bukti di bawa ke sat res narkoba polres cirebon kota untuk dilakukan penyidikan lebih lanjut\\\\nbahwa pada hari sabtu tanggal 17 maret 2018 sekitar pukul 12 00 wib terdakwa mengkonsumsi 1 satu linting narkotika jenis daun ganja kering dirumah terdakwa desa santing blok ujung jaya rt 11 rw 02 kecamatan losarang kabupaten indramayu sebelum terdakwa berangkat nonton konser slank di cirebon dan setelah terdakwa mengkonsumsi narkotika jenis daun ganja kering efeknya membuat lebih energi dan tidak cepat capek\\\\nbahwa berdasarkan berita acara pemeriksaan laboratoris kriminalistik no lab\\\\n1826 nnf 2018 tanggal 16 april 2018 dalam kesimpulannya bahwa barang bukti berupa daun daun kering tersebut adalah benar mengandung ganja yang terdaftar dalam golongan i nomor urut 8 lampiran undang undang ri no 35 tahun 2009 tentang narkotika\\\\nbahwa berdasarkan surat keterangan pemeriksaan narkoba nopol\\\\nr 20 iii 2018 dokkes tanggal 17 maret 2018 telah dilaksanakan pemeriksaan tes urine dengan hasil pemeriksaan dan hasilnya sebagai berikut positif golongan marijuana\\\\nbahwa terdakwa menggunakan narkotika golongan i bagi diri sendiri tidak ada ijin dari yang berwenang\\\\nperbuatan terdakwa adi daswadi bin wasdam sebagaimana diatur dan diancam pidana dalam pasal 127 ayat 1 huruf a uu ri no 35 tahun 2009 tentang narkotika jo pasal 84 ayat 2 kuhap\\\\nmenimbang bahwa terhadap dakwaan penuntut umum terdakwa atau penasihat hukum terdakwa tidak mengajukan keberatan\", \"fakta\": \"menimbang bahwa untuk membuktikan dakwaannya penuntut umum telah mengajukan saksi saksi sebagai berikut\\\\n1 saksi dadang hermanto dibawah sumpah pada pokoknya menerangkan sebagai berikut\\\\nbahwa saksi pernah diperiksa penyidik dan membenarkan keterangannya dalam bap penyidik\\\\nbahwa saksi dihadirkan di persidangan ini untuk memberikan keterangan sehubungan saksi bersama rekan kerja saksi yang bernama sdr briptu yono telah melakukan penangkapan terhadap terdakwa pada hari sabtu tanggal 17 maret 2018 sekitar pukul 17 00 wib di dekat gapura masuk stadion bima kelurahan sunyaragi kecamatan kesambi kota cirebon yang patut diduga telah membawa narkotika\\\\nbahwa pada saat itu sedang berlangsung konser musik slank di stadion bima kemudian ada kerusuhan pada saat saksi dan rekan rekan saksi mengamankan kerusuhan tersebut saksi melihat tingkah laku terdakwa dan teman temannya mencurigakan\\\\nbahwa ketika saksi dan rekan rekan saksi mendekatinya mereka melarikan diri kemudian saksi dan rekan rekan saksi berhasil menangkap terdakwa\\\\nbahwa ketika saksi dan rekan rekan saksi melakukan penggeledahan saksi menemukan barang bukti berupa 1 satu paket narkotika jenis daun ganja kering yang dibungkus kertas koran 1 satu linting narkotika jenis daun ganja kering yang dibungkus kertas papir warna putih 4 empat lembar kertas papir warna putih semuanya tersimpan dalam tas kecil warna hitam yang dipegang oleh terdakwa\\\\nbahwa barang bukti tersebut menurut pengakuan terdakwa akan digunakan untuk dikonsumsi sendiri\\\\nbahwa saat saksi menangkap terdakwa terdakwa dalam keadaan duduk bersama teman temannya dan tidak sedang mabuk terdakwa tidak melakukan perlawanan ketika ditangkap sedangkan teman teman terdakwa melarikan diri dan tidak tertangkap\\\\nbahwa setelah saksi melakukan penangkapan terhadap terdakwa dan menemukan barang bukti berupa narkotika maka selanjutnya saksi menyerahkan terdakwa ke unit narkoba untuk dilakukan pemeriksaan lebih lanjut\\\\nbahwa saksi tidak melakukan test urine terhadap terdakwa\\\\nbahwa menurut pengakuan terdakwa terdakwa memperoleh narkotika jenis daun ganja kering dengan cara membeli dari sdr wa ebod seharga _unk_ 000 00 seratus ribu rupiah per paket\\\\nbahwa terdakwa bukana merupakan to atau dpo dan terdakwa tidak melakukan perlawanan ketika ditangkap\\\\nbahwa saksi tidak melakukan test urine terhadap terdakwa karena langsung saksi serahkan ke unit narkoba\\\\nbahwa terdakwa tidak mempunyai ijin untuk membawa memiliki menyimpan dan mengusai narkotika jenis daun ganja kering tersebut\\\\nbahwa saksi membenarkan barang bukti yang diajukan ke persidangan merupakan ganja yang saksi temukan berada di dalam tas kecil warna hitam yang dipegang oleh terdakwa pada saat ditangkap saksi\\\\nterhadap keterangan saksi terdakwa memberikan pendapat keterangan saksi benar dan terdakwa tidak keberatan\\\\n2 saksi yono di bawah sumpah pada pokoknya menerangkan sebagai berikut\\\\nbahwa saksi pernah diperiksa penyidik dan membenarkan keterangannya dalam bap penyidik\\\\nbahwa saksi dihadirkan di persidangan ini untuk memberikan keterangan sehubungan saksi bersama rekan kerja saksi yang bernama sdr aiptu dadang hermanto telah melakukan penangkapan terhadap terdakwa pada hari sabtu tanggal 17 maret 2018 sekitar pukul 17 00 wib di dekat gapura masuk stadion bima kelurahan sunyaragi kecamatan kesambi kota cirebon yang patut diduga telah membawa narkotika\\\\nbahwa pada saat itu sedang berlangsung konser musik slank di stadion bima kemudian ada kerusuhan pada saat saksi dan rekan rekan saksi mengamankan kerusuhan tersebut saksi melihat tingkah laku terdakwa dan teman temannya mencurigakan\\\\nbahwa ketika saksi dan rekan rekan saksi mendekatinya mereka melarikan diri kemudian saksi dan rekan rekan saksi berhasil menangkap terdakwa\\\\nbahwa ketika saksi dan rekan rekan saksi melakukan penggeledahan saksi menemukan barang bukti berupa 1 satu paket narkotika jenis daun ganja kering yang dibungkus kertas koran 1 satu linting narkotika jenis daun ganja kering yang dibungkus kertas papir warna putih 4 empat lembar kertas papir warna putih semuanya tersimpan dalam tas kecil warna hitam yang dipegang oleh terdakwa\\\\nbahwa barang bukti tersebut menurut pengakuan terdakwa akan digunakan untuk dikonsumsi sendiri\\\\nbahwa saat saksi menangkap terdakwa terdakwa dalam keadaan duduk bersama teman temannya dan tidak sedang mabuk terdakwa tidak melakukan perlawanan ketika ditangkap sedangkan teman teman terdakwa melarikan diri dan tidak tertangkap\\\\nbahwa setelah saksi melakukan penangkapan terhadap terdakwa dan menemukan barang bukti berupa narkotika maka selanjutnya saksi menyerahkan terdakwa ke unit narkoba untuk dilakukan pemeriksaan lebih lanjut\\\\nbahwa saksi tidak melakukan test urine terhadap terdakwa\\\\nbahwa menurut pengakuan terdakwa terdakwa memperoleh narkotika jenis daun ganja kering dengan cara membeli dari sdr wa ebod seharga _unk_ 000 00 seratus ribu rupiah per paket\\\\nbahwa terdakwa bukana merupakan to atau dpo dan terdakwa tidak melakukan perlawanan ketika ditangkap\\\\nbahwa saksi tidak melakukan test urine terhadap terdakwa karena langsung saksi serahkan ke unit narkoba\\\\nbahwa terdakwa tidak mempunyai ijin untuk membawa memiliki menyimpan dan mengusai narkotika jenis daun ganja kering tersebut\\\\nbahwa saksi membenarkan barang bukti yang diajukan ke persidangan merupakan ganja yang saksi temukan berada di dalam tas kecil warna hitam yang dipegang oleh terdakwa pada saat ditangkap saksi\\\\nterhadap keterangan saksi terdakwa memberikan pendapat keterangan saksi benar dan terdakwa tidak keberatan\\\\nmenimbang bahwa dalam persidangan penuntut umum mengajukan bukti surat sebagai berikut\\\\n1 berita acara pemeriksaan laboratoris kriminalistik no lab\\\\n1826 nnf 2018 tanggal 16 april 2018 dalam kesimpulannya bahwa barang bukti berupa daun daun kering tersebut adalah benar mengandung ganja yang terdaftar dalam golongan i nomor urut 8 lampiran undang undang ri no 35 tahun 2009 tentang narkotika\\\\n2 surat keterangan pemeriksaan narkoba no pol r 20 iii 2018 dokkes tanggal 17 maret 2018 atas nama adi daswadi bin alm wasdam yang dibuat dan ditandatangani oleh jarnadi paur kes pada polresta cirebon dengan hasil pemeriksaan sebagai berikut\\\\ntelah dilaksanakan pemeriksaan anamesia fisik serta tes urine terhadap narkoba pada hari jumat tanggal 17 maret 2018 dengan jenis pemeriksaan dan hasilnya sebagai berikut\\\\ngolongan marijuana positif\\\\nmenimbang bahwa terdakwa di persidangan telah memberikan keterangan yang pada pokoknya sebagai berikut\\\\nbahwa awalnya saat itu hari sabtu tanggal 17 maret 2018 sekitar pukul 15 00 wib terdakwa bersama teman teman terdakwa berlima berangkat dari indramayu menuju cirebon naik bis dengan maksud untuk menghadiri konser musik slank di stadion bima cirebon\\\\nbahwa sebelum berangkat terdakwa dan teman teman terdakwa mengkonsumsi jenis daun ganja kering kemudian sesampai di gapura stadion bima terdakwa dan teman teman terdakwa duduk duduk\\\\nbahwa tiba tiba sekitar pukul 17 00 wib banyak orang berlari dan terdakwa bersama teman teman juga ikut berlari kemudian terdakwa tertangkap dan digeledah oleh 2 dua orang petugas buser kota cirebon\\\\nbahwa petugas tersebut menemukan barang bukti daun ganja kering di tas hitam yang dipegang terdakwa kemudian terdakwa ditangkap dan dibawa ke kantor polisi\\\\nbahwa terdakwa berasal dari indramayu terdakwa mengkonsumsi ganja tersebut ketika masih di indramayu sebelum naik bis menuju cirebon lalu terdakwa tertangkap sebelum menyaksikan konser musik\\\\nbahwa terdakwa mengkonsumsi ganja bersama teman teman terdakwa saat masih di indramayu di rumah terdakwa di sarang sebelum naik bis menuju cirebon teman teman terdakwa juga mengkonsumsi ganja satu linting ganja untuk ramai ramai\\\\nbahwa terdakwa memperoleh ganja dari sdr wa ebod di daerah bongas terdakwa sudah dua kali membeli ganja dari sdr wa ebod terdakwa membeli ganja sebanyak 1 satu paket seharga rp 100 000 00 seratus ribu rupiah\\\\nbahwa satu paket ganja tersebut kemudian dilinting oleh terdakwa menjadi beberapa bagian dengan menggunakan kertas papir\\\\nbahwa terdakwa membeli ganja hanya untuk dikonsumsi sendiri dan tidak untuk dijual lagi terdakwa memakai ganja sudah selama sekitar 3 tiga bulan\\\\nbahwa cara terdakwa mengkonsumsi ganja tersebut yaitu awalnya dari satu paket ganja terdakwa linting menggunakan kertas papir menjadi beberapa linting dan terdakwa campur dengan rokok kemudian dihisap seperti merokok\\\\nbahwa terdakwa memakai satu paket ganja selama satu minggu satu linting ganja dipakai terdakwa untuk sehari terdakwa mengkonsumsi ganja tiga kali dalam seminggu\\\\nbahwa tujuan terdakwa membawa ganja ke konser hanya untuk pegangan saja tidak ada rencana untuk dipakai di tempat konser tadinya mau disimpan saja\\\\nbahwa dari satu paket ganja tersebuat sudah ada yang dipakai terdakwa harga satu paket ganja sejumlah _unk_ 000 00 seratus ribu rupiah ketika terdakwa membeli paket ganja tersebut paket ganja tersebut dibungkus kertas koran\\\\nbahwa untuk pemakaiannya bisa juga satu hari habis satu linting ganja apabila pembelian ganja tersebut secara patungan maka memakainya juga ramai ramai dengan teman\\\\nbahwa efek yang dirasakan terdakwa dari mengkonsumsi ganja yaitu terasa tenang dan percaya diri\\\\nbahwa sehari hari terdakwa bekerja jualan cilok goreng tidak ada hubungannya dengan ganja\\\\nbahwa terdakwa mengkonsumsi ganja sekitar tiga bulan orang tua terdakwa tidak mengetahui kalau terdakwa mengkonsumsi ganja\\\\nbahwa terdakwa belum pernah dihukum\\\\nbahwa terdakwa tidak mempunyai ijin membawa memiliki menjual atau menguasai ganja\\\\nmenimbang bahwa terdakwa tidak mengajukan saksi yang meringankan a de charge\\\\nmenimbang bahwa penuntut umum mengajukan barang bukti sebagai berikut\\\\n1 1 satu paket narkotika jenis daun ganja kering yang dibungkus kertas koran dengan berat bruto kurang lebih 5 40 gram setelah dilakukan pemeriksaan uji laboratorium sisa seberat 3 5499 gram\\\\n2 1 satu linting daun ganja kering yang menggunakan kertas papir warna putih dengan bruto 0 64 gram setelah dilakukan pemeriksaan uji laboratorium sisa seberat 0 2694 gram\\\\n3 4 empat lembar kertas papir warna putih\\\\n4 1 satu buah tas kecil warna hitam\", \"fakta_hukum\": \"menimbang bahwa berdasarkan alat bukti dan barang bukti yang diajukan diperoleh fakta fakta hukum sebagai berikut\\\\nbahwa pada hari sabtu tanggal 17 maret 2018 sekitar pukul 17 00 wib bertempat di dekat gapura masuk stadion bima kelurahan sunyaragi kecamatan kesambi kota cirebon terdakwa telah ditangkap oleh saksi aiptu dadang hermanto dan saksi briptu yono karena terdakwa telah membawa narkotika jenis daun ganja kering\\\\nbahwa awalnya saat itu hari sabtu tanggal 17 maret 2018 sekitar pukul 15 00 wib terdakwa bersama teman teman terdakwa berlima berangkat dari indramayu menuju cirebon naik bis dengan maksud untuk menghadiri konser musik slank di stadion bima cirebon\\\\nbahwa sebelum berangkat pada saat masih berada di indramayu di rumah terdakwa di sarang terdakwa dan teman teman terdakwa mengkonsumsi narkotika jenis daun ganja kering satu linting ganja untuk ramai ramai\\\\nbahwa kemudian sesampai di gapura stadion bima terdakwa dan teman teman terdakwa duduk duduk\\\\nbahwa tiba tiba sekitar pukul 17 00 wib terjadi kerusuhan pada saat konser tersebut sedang berlangsung kemudian pada saat saksi aiptu dadang hermanto dan saksi briptu yono mengamankan konser tersebut para saksi melihat melihat tingkah laku terdakwa dan teman temannya mencurigakan ketika saksi dan rekan rekan saksi mendekatinya mereka melarikan diri\\\\nbahwa kemudian saksi aiptu dadang hermanto dan saksi briptu yono berhasil menangkap terdakwa\\\\nbahwa pada saat dilakukan penggeledahan saksi aiptu dadang hermanto dan saksi briptu yono menemukan barang bukti berupa satu paket narkotika jenis daun ganja kering yang dibungkus kertas koran 1 satu linting narkotika jenis daun ganja kering yang dibungkus kertas papir warna putih 4 empat lembar kertas papir warna putih semuanya tersimpan dalam tas kecil warna hitam yang dipegang oleh terdakwa\\\\nbahwa kemudian terdakwa ditangkap dan dibawa ke kantor polisi\\\\nbahwa terdakwa memperoleh ganja tersebut dari sdr wa ebod di daerah bongas dengan cara membelinya seharga _unk_ 000 00 seratus ribu rupiah untuk 1 satu paket terdakwa sudah 2 dua kali membeli ganja dari sdr wa ebod ketika terdakwa membeli paket ganja tersebut paket ganja tersebut dibungkus menggunakan kertas koran\\\\nbahwa satu paket ganja tersebut kemudian dilinting oleh terdakwa menjadi beberapa bagian dengan menggunakan kertas papir\\\\nbahwa terdakwa membeli ganja hanya untuk dikonsumsi sendiri dan tidak untuk dijual lagi terdakwa memakai ganja sudah selama sekitar 3 tiga bulan\\\\nbahwa cara terdakwa mengkonsumsi ganja tersebut yaitu awalnya dari 1 satu paket ganja terdakwa linting menggunakan kertas papir menjadi beberapa linting dan terdakwa campur dengan rokok kemudian dihisap seperti merokok\\\\nbahwa untuk 1 satu paket ganja terdakwa memakainya selama satu minggu 1 satu linting ganja dipakai terdakwa untuk sehari terdakwa mengkonsumsi ganja tiga kali dalam seminggu\\\\nbahwa tujuan terdakwa membawa ganja ke konser hanya untuk pegangan saja tidak ada rencana untuk dipakai di tempat konser dan mau disimpan saja\\\\nbahwa untuk pemakaiannya bisa juga satu hari habis satu linting ganja apabila pembelian ganja tersebut secara patungan maka memakainya juga ramai ramai dengan teman terdakwa\\\\nbahwa efek yang dirasakan terdakwa dari mengkonsumsi ganja yaitu terasa tenang dan percaya diri\\\\nbahwa sehari hari terdakwa bekerja jualan cilok goreng tidak ada hubungannya dengan ganja\\\\nbahwa berdasarkan bukti surat yang diajukan ke persidangan yaitu\\\\n1 berita acara pemeriksaan laboratoris kriminalistik no lab\\\\n1826 nnf 2018 tanggal 16 april 2018 dalam kesimpulannya bahwa barang bukti berupa daun daun kering tersebut adalah benar mengandung ganja yang terdaftar dalam golongan i nomor urut 8 lampiran undang undang ri no 35 tahun 2009 tentang narkotika\\\\n2 surat keterangan pemeriksaan narkoba no pol r 20 iii 2018 dokkes tanggal 17 maret 2018 atas nama adi daswadi bin alm wasdam yang dibuat dan ditandatangani oleh jarnadi paur kes pada polresta cirebon dengan hasil pemeriksaan sebagai berikut\\\\ntelah dilaksanakan pemeriksaan anamesia fisik serta tes urine terhadap narkoba pada hari jumat tanggal 17 maret 2018 dengan jenis pemeriksaan dan hasilnya sebagai berikut\\\\ngolongan marijuana positif\\\\nbahwa terdakwa tidak mempunyai ijin membawa memiliki atau menguasai ganja\", \"pertimbangan_hukum\": \"menimbang bahwa selanjutnya majelis hakim akan mempertimbangkan apakah berdasarkan fakta fakta hukum tersebut di atas terdakwa dapat dinyatakan telah melakukan tindak pidana yang didakwakan kepadanya\\\\nmenimbang bahwa terdakwa telah didakwa oleh penuntut umum dengan dakwaan yang berbentuk alternatif sehingga majelis hakim dengan memperhatikan fakta fakta hukum tersebut di atas memilih langsung dakwaan alternatif kedua sebagaimana diatur dalam pasal 127 ayat 1 huruf a uu ri no 35 tahun 2009 tentang narkotika jo paahwa berdasarkan fakta yang terungkap di persidangan pada hari sabtu tanggal 17 maret 2018 sekitar pukul 17 00 wib bertempat di dekat gapura masuk stadion bima kelurahan sunyaragi kecamatan kesambi kota cirebon terdakwa telah ditangkap oleh saksi aiptu dadang hermanto dan saksi briptu yono karena terdakwa telah membawa narkotika jenis daun ganja kering awalnya saat itu hari sabtu tanggal 17 maret 2018 sekitar pukul 15 00 wib terdakwa bersama teman teman terdakwa berlima berangkat dari indramayu menuju cirebon naik bis dengan maksud untuk menghadiri konser musik slank di stadion bima cirebon\\\\nmenimbang bahwa sebelum berangkat pada saat masih berada di indramayu di rumah terdakwa di sarang terdakwa dan teman teman terdakwa mengkonsumsi narkotika jenis daun ganja kering satu linting ganja untuk ramai ramai kemudian sesampai di gapura stadion bima terdakwa dan teman teman terdakwa duduk duduk tiba tiba sekitar pukul 17 00 wib terjadi kerusuhan pada saat konser tersebut sedang berlangsung kemudian pada saat saksi aiptu dadang hermanto dan saksi briptu yono mengamankan konser tersebut para saksi melihat melihat tingkah laku terdakwa dan teman temannya mencurigakan ketika saksi dan rekan rekan saksi mendekatinya mereka melarikan diri kemudian saksi aiptu dadang hermanto dan saksi briptu yono berhasil menangkap terdakwa\\\\nmenimbang bahwa pada saat dilakukan penggeledahan saksi aiptu dadang hermanto dan saksi briptu yono menemukan barang bukti berupa 1 satu paket narkotika jenis daun ganja kering yang dibungkus kertas korangani oleh jarnadi paur kes pada polresta cirebon dengan hasil pemeriksaan sebagai berikut\\\\ntelah dilaksanakan pemeriksaan anamesia fisik serta tes urine terhadap narkoba pada hari jumat tanggal 17 maret 2018 dengan jenis pemeriksaan dan hasilnya sebagai berikut\\\\ngolongan marijuana positif\\\\nmenimbang bahwa sehari hari terdakwa bekerja jualan cilok goreng tidak ada hubungannya dengan ganja terdakwa tidak mempunyai ijin membawa memiliki atau menguasai ganja\\\\nmenimbang bahwa berdasarkan fakta sebagaimana terurai di atas terdakwa telah membeli 1 satu paket daun ganja kering dari sdr wa ebod seharga _unk_ 000 00 seratus ribu rupiah yang dimaksudkan untuk digunakan sendiri oleh terdakwa dan sudah sempat dipergunakan oleh terdakwa terdakwa telah mengkonsumsi daun ganja kering tersebut sudah selama sekitar 3 tiga bulan sedangkan terdakwa sebenarnya tidak berhak menggunakan daun ganja kering tersebut di mana apabila dihubungkan dengan bukti surat yaitu berita acara pemeriksaan laboratoris kriminalistik sebagaimana tersebut di atas di dalam daun ganja kering tersebut mengandung ganja yang terdaftar dalam golongan i nomor urut 8 lampiran undang undang ri no 35 tahun 2009 tentang narkotika dan surat keterangan pemeriksaan narkoba sebagaimana tersebut di atas hasil tes urine terdakwa mengandung marijuana sehingga perbuatan terdakwa tersebut merupakan perbuatan melawan hukum dengan demikian unsur yang menggunakan narkotika golongan i tanpa hak atau melawan hukum bagi diri sendiri telah terpenuhi\\\\nmenimbang bahwa pada dakwaan penuntut umum di dalamnya terdapat pasal 84 ayat 2 kuhap di mana dalam ketentuan tersebut mengatur mengenai pengadilan negeri cirebon berwenang mengadili perkara ini dikarenakan sebagian besar saksi tinggal di wilayah hukum pengadilan negeri cirebon dan tidak terkandung unsur tambahan atas perbuatan terdakwa\\\\nmeni\", \"amar_putusan\": \"mengadili\\\\n1 menyatakan terdakwa adi daswadi bin wasdam tersebut di atas terbukti secara sah dan meyakinkan bersalah melakukan tindak pidana sebagai penyalahguna narkotika golongan i bagi diri sendiri sebagaimana dalam dakwaan alternatif kedua\\\\n2 menjatuhkan pidana kepada terdakwa oleh karena itu dengan pidana penjara selama 2 dua tahun\\\\n3 menetapkan masa penangkapan dan penahanan yang telah dijalani terdakwa dikurangkan seluruhnya dari pidana yang dijatuhkan\\\\n4 menetapkan terdakwa tetap ditahan\\\\n5 menetapkan barang bukti berupa\\\\n1 satu paket narkotika jenis daun ganja kering yang dibungkus kertas koran dengan berat bruto kurang lebih 5 40 gram setelah dilakukan pemeriksaan uji laboratorium sisa seberat 3 5499 gram\\\\n1 satu linting daun ganja kering yang menggunakan kertas papir warna putih dengan bruto 0 64 gram setelah dilakukan pemeriksaan uji laboratorium sisa seberat 0 2694 gram\\\\n4 empat lembar kertas papir warna putih\\\\n1 satu buah tas kecil warna hitam\\\\ndimusnahkan\\\\n6 membebankan kepada terdakwa membayar biaya perkara sejumlah rp 5 000 00 lima ribu rupiah\", \"penutup\": \"demikian diputuskan dalam rapat permusyawaratan majelis hakim pengadilan negeri cirebon pada hari rabu tanggal 15 agustus 2018 oleh edi junaedi s h m h sebagai hakim ketua asyrotun mugiastuti s h m h dan aryo widiatmoko s h masing masing sebagai hakim anggota yang diucapkan dalam sidang terbuka untuk umum pada hari dan tanggal itu juga oleh hakim ketua dengan didampingi hakim hakim anggota tersebut dibantu oleh sugi purwanti s h panitera pengganti pada pengadilan negeri cirebon serta dihadiri oleh dian lestari s h m h penuntut umum dan terdakwa didampingi penasihat hukum nya\\\\nhakim anggota hakim ketua 1 asyrotun mugiastuti s h m h edi junaedi s h m h\\\\n2 aryo widiatmoko s h\\\\npanitera pengganti\\\\nsugi purwanti s h\"}'"
      ]
     },
     "execution_count": 8,
     "metadata": {},
     "output_type": "execute_result"
    }
   ],
   "source": [
    "documents[1].page_content"
   ]
  },
  {
   "cell_type": "code",
   "execution_count": 9,
   "metadata": {},
   "outputs": [
    {
     "data": {
      "text/plain": [
       "[Document(metadata={'source': '/Users/auva/Documents/GitHub/indo-law-rag/dataset_3sample_json/0a0b31d91c24aa455fcc6848702b507c.json', 'seq_num': 1}, page_content='{\"amar\": \"pidana\", \"amar_lainnya\": \"hukum\", \"id\": \"0a0b31d91c24aa455fcc6848702b507c\", \"klasifikasi\": \"pidana-umum\", \"lama_hukuman\": \"420\", \"lembaga_peradilan\": \"pn-klaten\", \"provinsi\": \"jateng\", \"status\": \"berkekuatan-hukum-tetap\", \"sub_klasifikasi\": \"penggelapan\", \"url\": \"https://putusan3.mahkamahagung.go.id/direktori/putusan/0a0b31d91c24aa455fcc6848702b507c.html\", \"kepala_putusan\": \"putusan\\\\nnomor 28 pid b 2017 pn kln\\\\ndemi keadilan berdasarkan ketuhanan yang maha esa\\\\npengadilan negeri klaten yang mengadili perkara pidana dengan acara pemeriksaan biasa dalam tingkat pertama menjatuhkan putusan sebagai berikut dalam perkara terdakwa\", \"identitas\": \"1 nama lengkap ahmad samsudin bin marsadi\\\\n2 tempat lahir klaten\", \"riwayat_penahanan\": \"terdakwa ditangkap pada tanggal 6 desember 2016 oleh polres klaten\\\\nterdakwa ditahan dengan jenis penahanan rutan oleh\\\\n1 penyidik sejak tanggal 7 desember 2016 sampai dengan tanggal 26 desember 2016\\\\n2 perpanjangan penuntut umum sejak tanggal 27 desember 2016 sampai dengan tanggal 4 februari 2017\", \"riwayat_perkara\": \"terdakwa di persidangan tidak didampingi oleh penasihat hukum\\\\npengadilan negeri tersebut\", \"riwayat_tuntutan\": \"setelah mendengar pembacaan tuntutan pidana yang diajukan oleh penuntut umum yang pada pokoknya sebagai berikut\\\\n1 menyatakan terdakwa ahmad samsudin bin marsadi terbukti secara sah dan meyakinkan melakukan tindak pidana penggelapan dalam jabatan sebagaimana diatur dan diancam pidana dalam pasal 374 kuhp dalam dakwaan kesatu penuntut umum\\\\n2yesal serta berjanji tidak akan mengulanginya lagi\", \"riwayat_dakwaan\": \"menimbang bahwa terdakwa diajukan ke persidangan oleh penuntut umum didakwa berdasarkan surat dakwaan sebagai berikut\\\\nbahwa terdakwa ahmad samsudin bin marsadi pada tanggal 11 oktober 2016 sampai dengan tanggal 26 november 2016 atau setidak tidaknya pada waktu waktu lain masih dalam tahun 2015 sampai dengan november 2016 bertempat di ksu manunggal harta pedan yang terletak di dukuh kergan rt 3 rw 10 desa tambakboyo kecamatan pedan kabupaten klaten atau setidak tidaknya pada suatu tempat tertentu yang masih termasuk didaerah hukum pengadilan negeri klaten barang siapa dengan sengaja dan melawan hukum memiliki barang sesuatu yang seluruhnya atau sebagian adalah kepunyaan orang lain tetapi yang ada dalam kekuasaannya bukan karena kejahatan yang dilakukan oleh orang yang penguasaannya terhadap barang disebabkan karena ada hubungan kerja atau karena pencarian atau karena mendapat upah untuk itu yang dilakukan terdakwa dengan cara sebagai berikut\\\\nal harta pedan maka\", \"fakta\": \"menimbang bahwa dalam persidangan telah didengar keterangan saksi saksi yaitu\\\\n1 suparman yang pada pokoknya menerangkan sebagai berikut\", \"fakta_hukum\": \"menimbang bahwa berdasarkan keterangan saksi saksi dan keterangan terdakwa yang satu dengan lainnya saling bersesuaian serta setelah dicocokkan dengan barang bukti maka dapatlah diperoleh fakta fakta hukum sebagai berikut\\\\nbahwa terdakwa bekerja di ksu manunggal harta yang beralamat di dukuh kergan rt 3 rw 10 desa tambakboyo kecamatan pedan kabupaten klaten sebagai petugas dinas lapangan\", \"amar_putusan\": \"mengadili\\\\n dua ribu rupiah\", \"penutup\": \"demikian diputuskan dalam sidang permusyawaratan majelis hakim pengadilan negeri klaten pada hari rabu tanggal 22 maret 2017 oleh novi wijayanti s h sebagai hakim ketua wahyu setioadi s h dan ira wati s h m kn masing masing sebagai hakim anggota yang diucapkan dalam sidang terbuka untuk umum pada hari kamis tanggal 30 maret 2017 oleh hakim ketua dengan didampingi para hakim anggota tersebut dibantu oleh tri lestari fitriana s h panitera pengganti pada pengadilan negeri klaten serta dihadiri oleh renny aryani s h penuntut umum dan terdakwa\\\\nhakim ketua ttd\\\\nhakim hakim anggota ttd wahyu setioadi s h novi wijayanti s h ttd ira wati s h m kn panitera pengganti ttd\\\\ntri lestari fitriana s h\"}'),\n",
       " Document(metadata={'source': '/Users/auva/Documents/GitHub/indo-law-rag/dataset_3sample_json/0a0e54aa47236640faa91000e271aa0d.json', 'seq_num': 1}, page_content='{\"amar\": \"pidana\", \"amar_lainnya\": \"hukum\", \"id\": \"0a0e54aa47236640faa91000e271aa0d\", \"klasifikasi\": \"pidana-khusus\", \"lama_hukuman\": \"720\", \"lembaga_peradilan\": \"pn-cirebon\", \"provinsi\": \"jabar\", \"status\": \"berkekuatan-hukum-tetap\", \"sub_klasifikasi\": \"narkotika-dan-psikotropika\", \"url\": \"https://putusan3.mahkamahagung.go.id/direktori/putusan/0a0e54aa47236640faa91000e271aa0d.html\", \"kepala_putusan\": \"putusan\\\\nnomor 110 pid sus 2018 pn cbn\\\\ndemi keadilan berdasarkan ketuhanan yang maha esa\\\\npengadilan negeri cirebon yang mengadili perkara pidana dengan acara pemeriksaan biasa dalam tingkat pertama menjatuhkan putusan sebagai berikut dalam perkara terdakwa\", \"identitas\": \"nama lengkap 1 adi daswadi bin wasdam\\\\ntempat lahir 2 indramayu\\\\numur tanggal lahir 3 30 tahun 20 november 1988\\\\njenis kelamin 4 laki laki\\\\nkebangsaan 5 indonesia\\\\ntempat tinggal 6 desa santing blok ujung jaya rt 11 rw 02 kecamatan losarang kabupaten indramayu\\\\nagama 7 islam\\\\npekerjaan 8 buruh\", \"riwayat_penahanan\": \"terdakwa ditangkap pada tanggal 17 maret 2018\\\\nterdakwa ditahan dalam tahanan rumah tahanan negara oleh\\\\n1 penyidik sejak tanggal 18 maret 2018 sampai dengan tanggal 6 april 2018\\\\n2 perpanjangan oleh penuntut umum sejak tanggal 7 april 2018 sampai dengan tanggal 16 mei 2018\\\\n3 perpanjangan pertama oleh ketua pengadilan negeri cirebon sejak tanggal 17 mei 2018 sampai dengan tanggal 15 juni 2018\\\\n4 perpanjangan kedua oleh ketua pengadilan negeri cirebon sejak tanggal 16 juni 2018 sampai dengan tanggal 15 juli 2018\\\\n5 penuntut umum sejak tanggal 22 juni 2018 sampai dengan tanggal 11 juli 2018\\\\n6 majelis hakim pengadilan negeri cirebon sejak tanggal 5 juli 2018 sampai dengan tanggal 3 agustus 2018\\\\n7 perpanjangan ketua pengadilan negeri cirebon sejak tanggal 4 agustus 2018 sampai dengan tanggal 2 oktober 2018\", \"riwayat_perkara\": \"terdakwa didampingi oleh penasihat hukum sdr ermanto s h penasihat hukum pada posbakum pengadilan negeri cirebon di jalan dr wahidin sudirohusodo no 18 kota cirebon berdasarkan surat penetapan tanggal 11 juli 2018 nomor 110 pid sus 2018 pn cbn\\\\npengadilan negeri tersebut\\\\nsetelah membaca\\\\npenetapan ketua pengadilan negeri cirebon nomor 110 pen pid sus 2018 pn cbn tanggal 5 juli 2018 tentang penunjukan majelis hakim\\\\npenetapan majelis hakim nomor 110 pid sus 2018 pn cbn tanggal tentang penetapan hari sidang\\\\nberkas perkara dan surat surat lain yang bersangkutan\\\\nsetelah mendengar keterangan saksi saksi dan terdakwa serta memperhatikan bukti surat yang diajukan di persidangan\", \"riwayat_tuntutan\": \"setelah mendengar pembacaan tuntutan pidana yang diajukan oleh penuntut umum yang pada poko knya sebagai berikut\\\\n1 menyatakan terdakwa adi daswadi bin wasdam bersalah melakukan tindak pidana telah menggunakan narkotika golongan i bagi diri sendiri sebagaimana diatur dan diancam pidana dalam pasal 127 ayat 1 huruf a uu no 35 tahun 2009 tentang narkotika jo pasal 84 ayat 2 kuhap sebagaimana dalam dakwaan kedua\\\\n2 menjatuhkan pidana terhadap terdakwa adi daswadi bin wasdam dengan pidana penjara selama 2 dua tahun dan 6 enam bulan dikurangi selama terdakwa beradadalam tahanan sementara dengan perintah terdakwa tetap di tahan\\\\n3 menetapkan barang bukti berupa\\\\n1 satu paket narkotika jenis daun ganja kering yang dibungkus kertas koran dengan berat bruto kurang lebih 5 40 gram setelah dilakukan pemeriksaan uji laboratorium sisa seberat 3 5499 gram\\\\n1 satu linting daun ganja kering yang menggunakan kertas papir warna putih dengan bruto 0 64 gram setelah dilakukan pemeriksaan uji laboratorium sisa seberat 0 2694 gram\\\\n4 empat lembar kertas papir warna putih\\\\n1 satu buah tas kecil warna hitam\\\\ndirampas untuk dimusnahkan 4 menetapkan agar terdakwa membayar biaya perkara sebesar rph 000 lima ribu rupiah\\\\nsetelah mendengar nota pembelaan penasihat hukum terdakwa yang pada pokoknya sebagai berikut\\\\nsetelah penasihat hukum terdakwa mempelajari dan memahami dari keterangan para saksi keterangan terdakwa dan tuntutan jaksa penuntut umum tersebut di atas penasihat hukum terdakwa adi daswadi bin wasdam mohon majelis hakim dalam putusannya memutuskan\\\\nmenjatuhkan pemidanaan terhadap terdakwa adi daswadi bin wasdam dengan memberikan hukuman seringan ringannya dikarenakan\\\\n1 terdakwa berlaku sopan dalam persidangan\\\\n2 terdakwa memberikan keterangan dengan jelas dan tidak berbelit belit\\\\n3 terdakwa mengakui semua perbuatannya dan menyesali serta berjanji tidak akan mengulangi lagi\\\\n4 terdakwa belum pernah dihukum\\\\nsetelah mendengar permohonan terdakwa secara tertulis yang pada pokoknya menyatakan mohon keringanan hukuman\\\\nsetelah mendengar tanggapan penuntut umum terhadap nota pembelaan terdakwa dan terdakwa yang pada pokoknya tetap pada tuntutannya\\\\nsetelah mendengar tanggapan penasihat hukum terdakwa dan terdakwa terhadap tanggapan penuntut umum yang pada pokoknya masing masing tetap pada permohonannya\", \"riwayat_dakwaan\": \"menimbang bahwa terdakwa diajukan ke persidangan oleh penuntut umum didakwa berdasarkan surat dakwaan sebagai berikut\\\\nkesatu\\\\nbahwa terdakwa adi daswadi bin wasdam pada hari sabtu tanggal 17 maret 2018 sekitar pukul 17 00 wib atau setidak tidaknya pada suatu waktu lain bulan maret 2018 bertempat di dekat gapura arah jalan masuk stadion bima kota cirebon kelurahan sunyaragi kecamatan kesambi kota cirebon atau setidak tidaknya pada suatu tempat lain yang masih termasuk dalam daerah hukum pengadilan negeri cirebon yang berwenang memeriksa dan mengadili perkara ini telah tanpa hak atau melawan hukum memiliki menyimpan menguasai atau menyediakan narkotika golongan i dalam bentuk tanaman perbuatan terdakwa dilakukan dengan cara sebagai berikut\\\\nbahwa awalnya pada saat event konser band slank di mako korem cirebon kelurahan sunyaragi kecamatan kesambi kota cirebon saksi dadang bersama sama dengan saksi yono melihat seorang laki laki yangmencurigakan tingkah lakunya yang sedang duduk didekat gapura arah stadion bima kota cirebon kemudian saksi dadang bersama sama dengan saksi yono melakukan penangkapan dan penggledahan badan terhadap terdakwa yang mencurigakan tersebut setelah dilakukan penggeledahan terhadap terdakwa ditemukan barang bukti berupa 1 satu paket narkotika jenis daun ganja kering yang dibungkus kertas koran 1 satu linting narkotika jenis daun ganja kering yang menggunakan kertas papir warna putih dan 4 empat lembar kertas papir warna putih yang semuanya berada di dalam tas kecil warna hitam yang sedang dipakai oleh terdakwa\\\\nselanjutnya terdakwa dan barang bukti di bawa ke sat res narkoba polres cirebon kota untuk dilakukan penyidikan lebih lanjut\\\\nbahwa terdakwa membeli narkotika jenis daun ganja kering dengan harga sebesar rp 100 000 seratus ribu rupiah pada hari jumat tanggal 16 maret 2018 sekitar pukul 11 30 wib di rumah sdr wa ebod dpo daerah bongas kabupaten indramayu dengan cara terdakwa langsung datang ke rumah sdr wa ebod dengan tujuan untuk mendapatkan narkotika jenis daun ganja kering lalu terdakwa menyerahkan uang sebesar rp 100 000 seratus ribu rupiah kepada sdr wa ebod setelah itu terdakwa disuruh menunggu sampai sdr wa ebod datang membawa paketan narkotika jenis daun ganja kering kemudian sdr wa ebod datang dan menyerahkan narkotika jenis daun ganja kering tersebut kepada terdakwa\\\\nbahwa berdasarkan berita acara pemeriksaan laboratoris kriminalistik no lab\\\\n1826 nnf 2018 tanggal 16 april 2018 dalam kesimpulannya bahwa barang bukti berupa daun daun kering tersebut adalah benar mengandung ganja yang terdaftar dalam golongan i nomor urut 8 lampiran undang undang ri no 35 tahun 2009 tentang narkotika\\\\nbahwa terdakwa memiliki menyimpan menguasai narkotika golongan i bentuk tanaman tidak ada ijin dari yang berwenang\\\\nperbuatan terdakwa adi daswadi bin wasdam sebagaimana diatur dan diancam pidana dalam pasal 111 ayat 1 uu ri no 35 tahun 2009 tentang narkotika\\\\natau\\\\nkedua\\\\nbahwa terdakwa adi daswadi bin wasdam pada hari sabtu tanggal 17 maret 2018 sekitar pukul 17 00 wib atau setidak tidaknya pada suatu waktu lain bulan maret 2018 bertempat di kamar rumah terdakwa desa santing blok ujung jaya rt 11 rw 02 kecamatan losarang kabupaten indramayu atausetidak tidaknya berdasarkan pasal 84 ayat 2 kuhap sebagian besar saksi yang dipanggil lebih dekat dengan pengadilan negeri cirebon sehingga pengadilan negeri cirebon yang berwenang memeriksa dan mengadili perkara ini telah tanpa hak atau melawan hukum menggunakan narkotika golongan 1 bagi diri sendiri perbuatan terdakwa lakukan dengan cara sebagai berikut\\\\nbahwa awalnya pada saat event konser band slank di mako korem cirebon kelurahan sunyaragi kecamatan kesambi kota cirebon saksi dadang bersama sama dengan saksi yono melihat seorang laki laki yang mencurigakan tingkah lakunya yang sedang duduk didekat gapura arah stadion bima kota cirebon kemudian saksi dadang bersama sama dengan saksi yono melakukan penangkapan dan penggledahan badan terhadap terdakwa yang mencurigakan tersebut setelah dilakukan penggeledahan terhadap terdakwa ditemukan barang bukti berupa 1 satu paket narkotika jenis daun ganja kering yang dibungkus kertas koran 1 satu linting narkotika jenis daun ganja kering yang menggunakan kertas papir warna putih dan 4 empat lembar kertas papir warna putih yang semuanya berada di dalam tas kecil warna hitam yang sedang dipakai oleh terdakwa\\\\nselanjutnya terdakwa dan barang bukti di bawa ke sat res narkoba polres cirebon kota untuk dilakukan penyidikan lebih lanjut\\\\nbahwa pada hari sabtu tanggal 17 maret 2018 sekitar pukul 12 00 wib terdakwa mengkonsumsi 1 satu linting narkotika jenis daun ganja kering dirumah terdakwa desa santing blok ujung jaya rt 11 rw 02 kecamatan losarang kabupaten indramayu sebelum terdakwa berangkat nonton konser slank di cirebon dan setelah terdakwa mengkonsumsi narkotika jenis daun ganja kering efeknya membuat lebih energi dan tidak cepat capek\\\\nbahwa berdasarkan berita acara pemeriksaan laboratoris kriminalistik no lab\\\\n1826 nnf 2018 tanggal 16 april 2018 dalam kesimpulannya bahwa barang bukti berupa daun daun kering tersebut adalah benar mengandung ganja yang terdaftar dalam golongan i nomor urut 8 lampiran undang undang ri no 35 tahun 2009 tentang narkotika\\\\nbahwa berdasarkan surat keterangan pemeriksaan narkoba nopol\\\\nr 20 iii 2018 dokkes tanggal 17 maret 2018 telah dilaksanakan pemeriksaan tes urine dengan hasil pemeriksaan dan hasilnya sebagai berikut positif golongan marijuana\\\\nbahwa terdakwa menggunakan narkotika golongan i bagi diri sendiri tidak ada ijin dari yang berwenang\\\\nperbuatan terdakwa adi daswadi bin wasdam sebagaimana diatur dan diancam pidana dalam pasal 127 ayat 1 huruf a uu ri no 35 tahun 2009 tentang narkotika jo pasal 84 ayat 2 kuhap\\\\nmenimbang bahwa terhadap dakwaan penuntut umum terdakwa atau penasihat hukum terdakwa tidak mengajukan keberatan\", \"fakta\": \"menimbang bahwa untuk membuktikan dakwaannya penuntut umum telah mengajukan saksi saksi sebagai berikut\\\\n1 saksi dadang hermanto dibawah sumpah pada pokoknya menerangkan sebagai berikut\\\\nbahwa saksi pernah diperiksa penyidik dan membenarkan keterangannya dalam bap penyidik\\\\nbahwa saksi dihadirkan di persidangan ini untuk memberikan keterangan sehubungan saksi bersama rekan kerja saksi yang bernama sdr briptu yono telah melakukan penangkapan terhadap terdakwa pada hari sabtu tanggal 17 maret 2018 sekitar pukul 17 00 wib di dekat gapura masuk stadion bima kelurahan sunyaragi kecamatan kesambi kota cirebon yang patut diduga telah membawa narkotika\\\\nbahwa pada saat itu sedang berlangsung konser musik slank di stadion bima kemudian ada kerusuhan pada saat saksi dan rekan rekan saksi mengamankan kerusuhan tersebut saksi melihat tingkah laku terdakwa dan teman temannya mencurigakan\\\\nbahwa ketika saksi dan rekan rekan saksi mendekatinya mereka melarikan diri kemudian saksi dan rekan rekan saksi berhasil menangkap terdakwa\\\\nbahwa ketika saksi dan rekan rekan saksi melakukan penggeledahan saksi menemukan barang bukti berupa 1 satu paket narkotika jenis daun ganja kering yang dibungkus kertas koran 1 satu linting narkotika jenis daun ganja kering yang dibungkus kertas papir warna putih 4 empat lembar kertas papir warna putih semuanya tersimpan dalam tas kecil warna hitam yang dipegang oleh terdakwa\\\\nbahwa barang bukti tersebut menurut pengakuan terdakwa akan digunakan untuk dikonsumsi sendiri\\\\nbahwa saat saksi menangkap terdakwa terdakwa dalam keadaan duduk bersama teman temannya dan tidak sedang mabuk terdakwa tidak melakukan perlawanan ketika ditangkap sedangkan teman teman terdakwa melarikan diri dan tidak tertangkap\\\\nbahwa setelah saksi melakukan penangkapan terhadap terdakwa dan menemukan barang bukti berupa narkotika maka selanjutnya saksi menyerahkan terdakwa ke unit narkoba untuk dilakukan pemeriksaan lebih lanjut\\\\nbahwa saksi tidak melakukan test urine terhadap terdakwa\\\\nbahwa menurut pengakuan terdakwa terdakwa memperoleh narkotika jenis daun ganja kering dengan cara membeli dari sdr wa ebod seharga _unk_ 000 00 seratus ribu rupiah per paket\\\\nbahwa terdakwa bukana merupakan to atau dpo dan terdakwa tidak melakukan perlawanan ketika ditangkap\\\\nbahwa saksi tidak melakukan test urine terhadap terdakwa karena langsung saksi serahkan ke unit narkoba\\\\nbahwa terdakwa tidak mempunyai ijin untuk membawa memiliki menyimpan dan mengusai narkotika jenis daun ganja kering tersebut\\\\nbahwa saksi membenarkan barang bukti yang diajukan ke persidangan merupakan ganja yang saksi temukan berada di dalam tas kecil warna hitam yang dipegang oleh terdakwa pada saat ditangkap saksi\\\\nterhadap keterangan saksi terdakwa memberikan pendapat keterangan saksi benar dan terdakwa tidak keberatan\\\\n2 saksi yono di bawah sumpah pada pokoknya menerangkan sebagai berikut\\\\nbahwa saksi pernah diperiksa penyidik dan membenarkan keterangannya dalam bap penyidik\\\\nbahwa saksi dihadirkan di persidangan ini untuk memberikan keterangan sehubungan saksi bersama rekan kerja saksi yang bernama sdr aiptu dadang hermanto telah melakukan penangkapan terhadap terdakwa pada hari sabtu tanggal 17 maret 2018 sekitar pukul 17 00 wib di dekat gapura masuk stadion bima kelurahan sunyaragi kecamatan kesambi kota cirebon yang patut diduga telah membawa narkotika\\\\nbahwa pada saat itu sedang berlangsung konser musik slank di stadion bima kemudian ada kerusuhan pada saat saksi dan rekan rekan saksi mengamankan kerusuhan tersebut saksi melihat tingkah laku terdakwa dan teman temannya mencurigakan\\\\nbahwa ketika saksi dan rekan rekan saksi mendekatinya mereka melarikan diri kemudian saksi dan rekan rekan saksi berhasil menangkap terdakwa\\\\nbahwa ketika saksi dan rekan rekan saksi melakukan penggeledahan saksi menemukan barang bukti berupa 1 satu paket narkotika jenis daun ganja kering yang dibungkus kertas koran 1 satu linting narkotika jenis daun ganja kering yang dibungkus kertas papir warna putih 4 empat lembar kertas papir warna putih semuanya tersimpan dalam tas kecil warna hitam yang dipegang oleh terdakwa\\\\nbahwa barang bukti tersebut menurut pengakuan terdakwa akan digunakan untuk dikonsumsi sendiri\\\\nbahwa saat saksi menangkap terdakwa terdakwa dalam keadaan duduk bersama teman temannya dan tidak sedang mabuk terdakwa tidak melakukan perlawanan ketika ditangkap sedangkan teman teman terdakwa melarikan diri dan tidak tertangkap\\\\nbahwa setelah saksi melakukan penangkapan terhadap terdakwa dan menemukan barang bukti berupa narkotika maka selanjutnya saksi menyerahkan terdakwa ke unit narkoba untuk dilakukan pemeriksaan lebih lanjut\\\\nbahwa saksi tidak melakukan test urine terhadap terdakwa\\\\nbahwa menurut pengakuan terdakwa terdakwa memperoleh narkotika jenis daun ganja kering dengan cara membeli dari sdr wa ebod seharga _unk_ 000 00 seratus ribu rupiah per paket\\\\nbahwa terdakwa bukana merupakan to atau dpo dan terdakwa tidak melakukan perlawanan ketika ditangkap\\\\nbahwa saksi tidak melakukan test urine terhadap terdakwa karena langsung saksi serahkan ke unit narkoba\\\\nbahwa terdakwa tidak mempunyai ijin untuk membawa memiliki menyimpan dan mengusai narkotika jenis daun ganja kering tersebut\\\\nbahwa saksi membenarkan barang bukti yang diajukan ke persidangan merupakan ganja yang saksi temukan berada di dalam tas kecil warna hitam yang dipegang oleh terdakwa pada saat ditangkap saksi\\\\nterhadap keterangan saksi terdakwa memberikan pendapat keterangan saksi benar dan terdakwa tidak keberatan\\\\nmenimbang bahwa dalam persidangan penuntut umum mengajukan bukti surat sebagai berikut\\\\n1 berita acara pemeriksaan laboratoris kriminalistik no lab\\\\n1826 nnf 2018 tanggal 16 april 2018 dalam kesimpulannya bahwa barang bukti berupa daun daun kering tersebut adalah benar mengandung ganja yang terdaftar dalam golongan i nomor urut 8 lampiran undang undang ri no 35 tahun 2009 tentang narkotika\\\\n2 surat keterangan pemeriksaan narkoba no pol r 20 iii 2018 dokkes tanggal 17 maret 2018 atas nama adi daswadi bin alm wasdam yang dibuat dan ditandatangani oleh jarnadi paur kes pada polresta cirebon dengan hasil pemeriksaan sebagai berikut\\\\ntelah dilaksanakan pemeriksaan anamesia fisik serta tes urine terhadap narkoba pada hari jumat tanggal 17 maret 2018 dengan jenis pemeriksaan dan hasilnya sebagai berikut\\\\ngolongan marijuana positif\\\\nmenimbang bahwa terdakwa di persidangan telah memberikan keterangan yang pada pokoknya sebagai berikut\\\\nbahwa awalnya saat itu hari sabtu tanggal 17 maret 2018 sekitar pukul 15 00 wib terdakwa bersama teman teman terdakwa berlima berangkat dari indramayu menuju cirebon naik bis dengan maksud untuk menghadiri konser musik slank di stadion bima cirebon\\\\nbahwa sebelum berangkat terdakwa dan teman teman terdakwa mengkonsumsi jenis daun ganja kering kemudian sesampai di gapura stadion bima terdakwa dan teman teman terdakwa duduk duduk\\\\nbahwa tiba tiba sekitar pukul 17 00 wib banyak orang berlari dan terdakwa bersama teman teman juga ikut berlari kemudian terdakwa tertangkap dan digeledah oleh 2 dua orang petugas buser kota cirebon\\\\nbahwa petugas tersebut menemukan barang bukti daun ganja kering di tas hitam yang dipegang terdakwa kemudian terdakwa ditangkap dan dibawa ke kantor polisi\\\\nbahwa terdakwa berasal dari indramayu terdakwa mengkonsumsi ganja tersebut ketika masih di indramayu sebelum naik bis menuju cirebon lalu terdakwa tertangkap sebelum menyaksikan konser musik\\\\nbahwa terdakwa mengkonsumsi ganja bersama teman teman terdakwa saat masih di indramayu di rumah terdakwa di sarang sebelum naik bis menuju cirebon teman teman terdakwa juga mengkonsumsi ganja satu linting ganja untuk ramai ramai\\\\nbahwa terdakwa memperoleh ganja dari sdr wa ebod di daerah bongas terdakwa sudah dua kali membeli ganja dari sdr wa ebod terdakwa membeli ganja sebanyak 1 satu paket seharga rp 100 000 00 seratus ribu rupiah\\\\nbahwa satu paket ganja tersebut kemudian dilinting oleh terdakwa menjadi beberapa bagian dengan menggunakan kertas papir\\\\nbahwa terdakwa membeli ganja hanya untuk dikonsumsi sendiri dan tidak untuk dijual lagi terdakwa memakai ganja sudah selama sekitar 3 tiga bulan\\\\nbahwa cara terdakwa mengkonsumsi ganja tersebut yaitu awalnya dari satu paket ganja terdakwa linting menggunakan kertas papir menjadi beberapa linting dan terdakwa campur dengan rokok kemudian dihisap seperti merokok\\\\nbahwa terdakwa memakai satu paket ganja selama satu minggu satu linting ganja dipakai terdakwa untuk sehari terdakwa mengkonsumsi ganja tiga kali dalam seminggu\\\\nbahwa tujuan terdakwa membawa ganja ke konser hanya untuk pegangan saja tidak ada rencana untuk dipakai di tempat konser tadinya mau disimpan saja\\\\nbahwa dari satu paket ganja tersebuat sudah ada yang dipakai terdakwa harga satu paket ganja sejumlah _unk_ 000 00 seratus ribu rupiah ketika terdakwa membeli paket ganja tersebut paket ganja tersebut dibungkus kertas koran\\\\nbahwa untuk pemakaiannya bisa juga satu hari habis satu linting ganja apabila pembelian ganja tersebut secara patungan maka memakainya juga ramai ramai dengan teman\\\\nbahwa efek yang dirasakan terdakwa dari mengkonsumsi ganja yaitu terasa tenang dan percaya diri\\\\nbahwa sehari hari terdakwa bekerja jualan cilok goreng tidak ada hubungannya dengan ganja\\\\nbahwa terdakwa mengkonsumsi ganja sekitar tiga bulan orang tua terdakwa tidak mengetahui kalau terdakwa mengkonsumsi ganja\\\\nbahwa terdakwa belum pernah dihukum\\\\nbahwa terdakwa tidak mempunyai ijin membawa memiliki menjual atau menguasai ganja\\\\nmenimbang bahwa terdakwa tidak mengajukan saksi yang meringankan a de charge\\\\nmenimbang bahwa penuntut umum mengajukan barang bukti sebagai berikut\\\\n1 1 satu paket narkotika jenis daun ganja kering yang dibungkus kertas koran dengan berat bruto kurang lebih 5 40 gram setelah dilakukan pemeriksaan uji laboratorium sisa seberat 3 5499 gram\\\\n2 1 satu linting daun ganja kering yang menggunakan kertas papir warna putih dengan bruto 0 64 gram setelah dilakukan pemeriksaan uji laboratorium sisa seberat 0 2694 gram\\\\n3 4 empat lembar kertas papir warna putih\\\\n4 1 satu buah tas kecil warna hitam\", \"fakta_hukum\": \"menimbang bahwa berdasarkan alat bukti dan barang bukti yang diajukan diperoleh fakta fakta hukum sebagai berikut\\\\nbahwa pada hari sabtu tanggal 17 maret 2018 sekitar pukul 17 00 wib bertempat di dekat gapura masuk stadion bima kelurahan sunyaragi kecamatan kesambi kota cirebon terdakwa telah ditangkap oleh saksi aiptu dadang hermanto dan saksi briptu yono karena terdakwa telah membawa narkotika jenis daun ganja kering\\\\nbahwa awalnya saat itu hari sabtu tanggal 17 maret 2018 sekitar pukul 15 00 wib terdakwa bersama teman teman terdakwa berlima berangkat dari indramayu menuju cirebon naik bis dengan maksud untuk menghadiri konser musik slank di stadion bima cirebon\\\\nbahwa sebelum berangkat pada saat masih berada di indramayu di rumah terdakwa di sarang terdakwa dan teman teman terdakwa mengkonsumsi narkotika jenis daun ganja kering satu linting ganja untuk ramai ramai\\\\nbahwa kemudian sesampai di gapura stadion bima terdakwa dan teman teman terdakwa duduk duduk\\\\nbahwa tiba tiba sekitar pukul 17 00 wib terjadi kerusuhan pada saat konser tersebut sedang berlangsung kemudian pada saat saksi aiptu dadang hermanto dan saksi briptu yono mengamankan konser tersebut para saksi melihat melihat tingkah laku terdakwa dan teman temannya mencurigakan ketika saksi dan rekan rekan saksi mendekatinya mereka melarikan diri\\\\nbahwa kemudian saksi aiptu dadang hermanto dan saksi briptu yono berhasil menangkap terdakwa\\\\nbahwa pada saat dilakukan penggeledahan saksi aiptu dadang hermanto dan saksi briptu yono menemukan barang bukti berupa satu paket narkotika jenis daun ganja kering yang dibungkus kertas koran 1 satu linting narkotika jenis daun ganja kering yang dibungkus kertas papir warna putih 4 empat lembar kertas papir warna putih semuanya tersimpan dalam tas kecil warna hitam yang dipegang oleh terdakwa\\\\nbahwa kemudian terdakwa ditangkap dan dibawa ke kantor polisi\\\\nbahwa terdakwa memperoleh ganja tersebut dari sdr wa ebod di daerah bongas dengan cara membelinya seharga _unk_ 000 00 seratus ribu rupiah untuk 1 satu paket terdakwa sudah 2 dua kali membeli ganja dari sdr wa ebod ketika terdakwa membeli paket ganja tersebut paket ganja tersebut dibungkus menggunakan kertas koran\\\\nbahwa satu paket ganja tersebut kemudian dilinting oleh terdakwa menjadi beberapa bagian dengan menggunakan kertas papir\\\\nbahwa terdakwa membeli ganja hanya untuk dikonsumsi sendiri dan tidak untuk dijual lagi terdakwa memakai ganja sudah selama sekitar 3 tiga bulan\\\\nbahwa cara terdakwa mengkonsumsi ganja tersebut yaitu awalnya dari 1 satu paket ganja terdakwa linting menggunakan kertas papir menjadi beberapa linting dan terdakwa campur dengan rokok kemudian dihisap seperti merokok\\\\nbahwa untuk 1 satu paket ganja terdakwa memakainya selama satu minggu 1 satu linting ganja dipakai terdakwa untuk sehari terdakwa mengkonsumsi ganja tiga kali dalam seminggu\\\\nbahwa tujuan terdakwa membawa ganja ke konser hanya untuk pegangan saja tidak ada rencana untuk dipakai di tempat konser dan mau disimpan saja\\\\nbahwa untuk pemakaiannya bisa juga satu hari habis satu linting ganja apabila pembelian ganja tersebut secara patungan maka memakainya juga ramai ramai dengan teman terdakwa\\\\nbahwa efek yang dirasakan terdakwa dari mengkonsumsi ganja yaitu terasa tenang dan percaya diri\\\\nbahwa sehari hari terdakwa bekerja jualan cilok goreng tidak ada hubungannya dengan ganja\\\\nbahwa berdasarkan bukti surat yang diajukan ke persidangan yaitu\\\\n1 berita acara pemeriksaan laboratoris kriminalistik no lab\\\\n1826 nnf 2018 tanggal 16 april 2018 dalam kesimpulannya bahwa barang bukti berupa daun daun kering tersebut adalah benar mengandung ganja yang terdaftar dalam golongan i nomor urut 8 lampiran undang undang ri no 35 tahun 2009 tentang narkotika\\\\n2 surat keterangan pemeriksaan narkoba no pol r 20 iii 2018 dokkes tanggal 17 maret 2018 atas nama adi daswadi bin alm wasdam yang dibuat dan ditandatangani oleh jarnadi paur kes pada polresta cirebon dengan hasil pemeriksaan sebagai berikut\\\\ntelah dilaksanakan pemeriksaan anamesia fisik serta tes urine terhadap narkoba pada hari jumat tanggal 17 maret 2018 dengan jenis pemeriksaan dan hasilnya sebagai berikut\\\\ngolongan marijuana positif\\\\nbahwa terdakwa tidak mempunyai ijin membawa memiliki atau menguasai ganja\", \"pertimbangan_hukum\": \"menimbang bahwa selanjutnya majelis hakim akan mempertimbangkan apakah berdasarkan fakta fakta hukum tersebut di atas terdakwa dapat dinyatakan telah melakukan tindak pidana yang didakwakan kepadanya\\\\nmenimbang bahwa terdakwa telah didakwa oleh penuntut umum dengan dakwaan yang berbentuk alternatif sehingga majelis hakim dengan memperhatikan fakta fakta hukum tersebut di atas memilih langsung dakwaan alternatif kedua sebagaimana diatur dalam pasal 127 ayat 1 huruf a uu ri no 35 tahun 2009 tentang narkotika jo paahwa berdasarkan fakta yang terungkap di persidangan pada hari sabtu tanggal 17 maret 2018 sekitar pukul 17 00 wib bertempat di dekat gapura masuk stadion bima kelurahan sunyaragi kecamatan kesambi kota cirebon terdakwa telah ditangkap oleh saksi aiptu dadang hermanto dan saksi briptu yono karena terdakwa telah membawa narkotika jenis daun ganja kering awalnya saat itu hari sabtu tanggal 17 maret 2018 sekitar pukul 15 00 wib terdakwa bersama teman teman terdakwa berlima berangkat dari indramayu menuju cirebon naik bis dengan maksud untuk menghadiri konser musik slank di stadion bima cirebon\\\\nmenimbang bahwa sebelum berangkat pada saat masih berada di indramayu di rumah terdakwa di sarang terdakwa dan teman teman terdakwa mengkonsumsi narkotika jenis daun ganja kering satu linting ganja untuk ramai ramai kemudian sesampai di gapura stadion bima terdakwa dan teman teman terdakwa duduk duduk tiba tiba sekitar pukul 17 00 wib terjadi kerusuhan pada saat konser tersebut sedang berlangsung kemudian pada saat saksi aiptu dadang hermanto dan saksi briptu yono mengamankan konser tersebut para saksi melihat melihat tingkah laku terdakwa dan teman temannya mencurigakan ketika saksi dan rekan rekan saksi mendekatinya mereka melarikan diri kemudian saksi aiptu dadang hermanto dan saksi briptu yono berhasil menangkap terdakwa\\\\nmenimbang bahwa pada saat dilakukan penggeledahan saksi aiptu dadang hermanto dan saksi briptu yono menemukan barang bukti berupa 1 satu paket narkotika jenis daun ganja kering yang dibungkus kertas korangani oleh jarnadi paur kes pada polresta cirebon dengan hasil pemeriksaan sebagai berikut\\\\ntelah dilaksanakan pemeriksaan anamesia fisik serta tes urine terhadap narkoba pada hari jumat tanggal 17 maret 2018 dengan jenis pemeriksaan dan hasilnya sebagai berikut\\\\ngolongan marijuana positif\\\\nmenimbang bahwa sehari hari terdakwa bekerja jualan cilok goreng tidak ada hubungannya dengan ganja terdakwa tidak mempunyai ijin membawa memiliki atau menguasai ganja\\\\nmenimbang bahwa berdasarkan fakta sebagaimana terurai di atas terdakwa telah membeli 1 satu paket daun ganja kering dari sdr wa ebod seharga _unk_ 000 00 seratus ribu rupiah yang dimaksudkan untuk digunakan sendiri oleh terdakwa dan sudah sempat dipergunakan oleh terdakwa terdakwa telah mengkonsumsi daun ganja kering tersebut sudah selama sekitar 3 tiga bulan sedangkan terdakwa sebenarnya tidak berhak menggunakan daun ganja kering tersebut di mana apabila dihubungkan dengan bukti surat yaitu berita acara pemeriksaan laboratoris kriminalistik sebagaimana tersebut di atas di dalam daun ganja kering tersebut mengandung ganja yang terdaftar dalam golongan i nomor urut 8 lampiran undang undang ri no 35 tahun 2009 tentang narkotika dan surat keterangan pemeriksaan narkoba sebagaimana tersebut di atas hasil tes urine terdakwa mengandung marijuana sehingga perbuatan terdakwa tersebut merupakan perbuatan melawan hukum dengan demikian unsur yang menggunakan narkotika golongan i tanpa hak atau melawan hukum bagi diri sendiri telah terpenuhi\\\\nmenimbang bahwa pada dakwaan penuntut umum di dalamnya terdapat pasal 84 ayat 2 kuhap di mana dalam ketentuan tersebut mengatur mengenai pengadilan negeri cirebon berwenang mengadili perkara ini dikarenakan sebagian besar saksi tinggal di wilayah hukum pengadilan negeri cirebon dan tidak terkandung unsur tambahan atas perbuatan terdakwa\\\\nmeni\", \"amar_putusan\": \"mengadili\\\\n1 menyatakan terdakwa adi daswadi bin wasdam tersebut di atas terbukti secara sah dan meyakinkan bersalah melakukan tindak pidana sebagai penyalahguna narkotika golongan i bagi diri sendiri sebagaimana dalam dakwaan alternatif kedua\\\\n2 menjatuhkan pidana kepada terdakwa oleh karena itu dengan pidana penjara selama 2 dua tahun\\\\n3 menetapkan masa penangkapan dan penahanan yang telah dijalani terdakwa dikurangkan seluruhnya dari pidana yang dijatuhkan\\\\n4 menetapkan terdakwa tetap ditahan\\\\n5 menetapkan barang bukti berupa\\\\n1 satu paket narkotika jenis daun ganja kering yang dibungkus kertas koran dengan berat bruto kurang lebih 5 40 gram setelah dilakukan pemeriksaan uji laboratorium sisa seberat 3 5499 gram\\\\n1 satu linting daun ganja kering yang menggunakan kertas papir warna putih dengan bruto 0 64 gram setelah dilakukan pemeriksaan uji laboratorium sisa seberat 0 2694 gram\\\\n4 empat lembar kertas papir warna putih\\\\n1 satu buah tas kecil warna hitam\\\\ndimusnahkan\\\\n6 membebankan kepada terdakwa membayar biaya perkara sejumlah rp 5 000 00 lima ribu rupiah\", \"penutup\": \"demikian diputuskan dalam rapat permusyawaratan majelis hakim pengadilan negeri cirebon pada hari rabu tanggal 15 agustus 2018 oleh edi junaedi s h m h sebagai hakim ketua asyrotun mugiastuti s h m h dan aryo widiatmoko s h masing masing sebagai hakim anggota yang diucapkan dalam sidang terbuka untuk umum pada hari dan tanggal itu juga oleh hakim ketua dengan didampingi hakim hakim anggota tersebut dibantu oleh sugi purwanti s h panitera pengganti pada pengadilan negeri cirebon serta dihadiri oleh dian lestari s h m h penuntut umum dan terdakwa didampingi penasihat hukum nya\\\\nhakim anggota hakim ketua 1 asyrotun mugiastuti s h m h edi junaedi s h m h\\\\n2 aryo widiatmoko s h\\\\npanitera pengganti\\\\nsugi purwanti s h\"}')]"
      ]
     },
     "execution_count": 9,
     "metadata": {},
     "output_type": "execute_result"
    }
   ],
   "source": [
    "documents"
   ]
  },
  {
   "cell_type": "code",
   "execution_count": 10,
   "metadata": {},
   "outputs": [],
   "source": [
    "# text splitter\n",
    "text_splitter = RecursiveCharacterTextSplitter(\n",
    "    chunk_size=800, #max num of char \n",
    "    chunk_overlap=100,#overlap between chunks to maintain context \n",
    "    length_function=len,\n",
    "    is_separator_regex=False,\n",
    ")\n",
    "\n",
    "chunk_docs = text_splitter.split_documents(documents)"
   ]
  },
  {
   "cell_type": "markdown",
   "metadata": {},
   "source": [
    "# Define LLM"
   ]
  },
  {
   "cell_type": "code",
   "execution_count": 11,
   "metadata": {},
   "outputs": [
    {
     "name": "stderr",
     "output_type": "stream",
     "text": [
      "/var/folders/qd/ky38bvr55s3c8h2mv865st680000gn/T/ipykernel_39024/841411443.py:4: LangChainDeprecationWarning: The class `OpenAI` was deprecated in LangChain 0.0.10 and will be removed in 1.0. An updated version of the class exists in the :class:`~langchain-openai package and should be used instead. To use it run `pip install -U :class:`~langchain-openai` and import as `from :class:`~langchain_openai import OpenAI``.\n",
      "  llm = OpenAI(model=model_name, temperature=temperature)\n"
     ]
    }
   ],
   "source": [
    "from langchain.llms import OpenAI\n",
    "from langchain.chat_models import ChatOpenAI\n",
    "\n",
    "llm = OpenAI(model=model_name, temperature=temperature)"
   ]
  },
  {
   "cell_type": "code",
   "execution_count": 12,
   "metadata": {},
   "outputs": [],
   "source": [
    "from langchain_openai import OpenAIEmbeddings\n",
    "\n",
    "embeddings = OpenAIEmbeddings()\n",
    "embedding_dim = 1536"
   ]
  },
  {
   "cell_type": "markdown",
   "metadata": {},
   "source": [
    "# Milvus Preparation"
   ]
  },
  {
   "cell_type": "markdown",
   "metadata": {},
   "source": [
    "## Connect to Milvus"
   ]
  },
  {
   "cell_type": "code",
   "execution_count": 14,
   "metadata": {},
   "outputs": [
    {
     "name": "stdout",
     "output_type": "stream",
     "text": [
      "Successfully connected to Milvus\n"
     ]
    }
   ],
   "source": [
    "def connect_to_milvus():\n",
    "    \"\"\"Connect to Milvus standalone server\"\"\"\n",
    "    try:\n",
    "        connections.connect(\n",
    "            alias=\"default\",\n",
    "            host='127.0.0.1',\n",
    "            port='19530',\n",
    "            db_name='database_ta_testing'\n",
    "        )\n",
    "        print(\"Successfully connected to Milvus\")\n",
    "    except Exception as e:\n",
    "        print(f\"Failed to connect to Milvus: {e}\")\n",
    "        raise\n",
    "    \n",
    "connect_to_milvus()"
   ]
  },
  {
   "cell_type": "code",
   "execution_count": null,
   "metadata": {},
   "outputs": [],
   "source": [
    "# # only run once, for creating the db \n",
    "# # create database \n",
    "# database = db.create_database(\"database_ta_testing\")"
   ]
  },
  {
   "cell_type": "code",
   "execution_count": null,
   "metadata": {},
   "outputs": [],
   "source": [
    "from pymilvus import FieldSchema, DataType, CollectionSchema, Collection, Index\n",
    "from tqdm import tqdm\n",
    "import json"
   ]
  },
  {
   "cell_type": "markdown",
   "metadata": {},
   "source": [
    "## Create Schema"
   ]
  },
  {
   "cell_type": "code",
   "execution_count": null,
   "metadata": {},
   "outputs": [],
   "source": [
    "def create_legal_document_schema():\n",
    "    \"\"\"Create schema for legal document collection\"\"\"\n",
    "    \n",
    "    # Define fields\n",
    "    id_field = FieldSchema(\n",
    "        name=\"id\", \n",
    "        dtype=DataType.INT64, \n",
    "        is_primary=True, \n",
    "        description=\"primary id\"\n",
    "    )\n",
    "    \n",
    "    content_vector_field = FieldSchema(\n",
    "        name=\"content_vector\", \n",
    "        dtype=DataType.FLOAT_VECTOR, \n",
    "        dim=1536,  # Assuming using OpenAI embeddings\n",
    "        description=\"document content vector\"\n",
    "    )\n",
    "    \n",
    "    identitas_field = FieldSchema(\n",
    "        name=\"identitas\", \n",
    "        dtype=DataType.VARCHAR, \n",
    "        max_length=5000,\n",
    "        description=\"defendant identity information\"\n",
    "    )\n",
    "    \n",
    "    riwayat_perkara_field = FieldSchema(\n",
    "        name=\"riwayat_perkara\",\n",
    "        dtype=DataType.VARCHAR,\n",
    "        max_length=10000, \n",
    "        description=\"case history\"\n",
    "    )\n",
    "    \n",
    "    amar_putusan_field = FieldSchema(\n",
    "        name=\"amar_putusan\",\n",
    "        dtype=DataType.VARCHAR,\n",
    "        max_length=5000,\n",
    "        description=\"court decision\"\n",
    "    )\n",
    "    \n",
    "    pertimbangan_hukum_field = FieldSchema(\n",
    "        name=\"pertimbangan_hukum\",\n",
    "        dtype=DataType.VARCHAR, \n",
    "        max_length=10000,\n",
    "        description=\"legal considerations\"\n",
    "    )\n",
    "    \n",
    "    url_field = FieldSchema(\n",
    "        name=\"url\",\n",
    "        dtype=DataType.VARCHAR,\n",
    "        max_length=500,\n",
    "        description=\"source document URL\"\n",
    "    )\n",
    "    \n",
    "    # Create schema\n",
    "    schema = CollectionSchema(\n",
    "        fields=[\n",
    "            id_field,\n",
    "            content_vector_field, \n",
    "            identitas_field,\n",
    "            riwayat_perkara_field,\n",
    "            amar_putusan_field,\n",
    "            pertimbangan_hukum_field,\n",
    "            url_field\n",
    "        ],\n",
    "        auto_id=False,\n",
    "        enable_dynamic_field=True,\n",
    "        description=\"Collection for legal documents\"\n",
    "    )\n",
    "    \n",
    "    return schema"
   ]
  },
  {
   "cell_type": "markdown",
   "metadata": {},
   "source": [
    "## Create Collection and Index"
   ]
  },
  {
   "cell_type": "code",
   "execution_count": null,
   "metadata": {},
   "outputs": [],
   "source": [
    "def create_collection_and_index(collection_name=\"legal_documents\"):\n",
    "    \"\"\"Create collection and index\"\"\"\n",
    "    \n",
    "    # Create schema\n",
    "    schema = create_legal_document_schema()\n",
    "    \n",
    "    # Create collection\n",
    "    collection = Collection(\n",
    "        name=collection_name, \n",
    "        schema=schema, \n",
    "        using='default'\n",
    "    )\n",
    "    \n",
    "    # Create index parameters\n",
    "    index_params = {\n",
    "        \"index_type\": \"IVF_FLAT\",\n",
    "        \"metric_type\": \"COSINE\",\n",
    "        \"params\": {\"nlist\": 128}\n",
    "    }\n",
    "    \n",
    "    # Create index\n",
    "    index = Index(collection, \"content_vector\", index_params)\n",
    "    \n",
    "    # Flush collection\n",
    "    collection.flush()\n",
    "    \n",
    "    return collection"
   ]
  },
  {
   "cell_type": "markdown",
   "metadata": {},
   "source": [
    "## Load Documents to DB"
   ]
  },
  {
   "cell_type": "code",
   "execution_count": null,
   "metadata": {},
   "outputs": [],
   "source": [
    "def process_and_insert_documents(documents, embeddings_model, collection_name=\"legal_documents\"):\n",
    "    \"\"\"Process documents and insert into collection\"\"\"\n",
    "    \n",
    "    data_db = []\n",
    "    \n",
    "    def embed_text(text):\n",
    "        \"\"\"Generate embeddings for text\"\"\"\n",
    "        return embeddings_model.embed_query(text)\n",
    "    \n",
    "    # Process documents\n",
    "    for i, doc in tqdm(enumerate(documents), total=len(documents), desc=\"Processing Documents\"):\n",
    "        content = doc.page_content\n",
    "        metadata = doc.metadata\n",
    "        \n",
    "        # Parse JSON content\n",
    "        doc_data = json.loads(content)\n",
    "        \n",
    "        # Create combined text for embedding\n",
    "        combined_text = f\"{doc_data.get('identitas', '')} {doc_data.get('riwayat_perkara', '')} {doc_data.get('amar_putusan', '')} {doc_data.get('pertimbangan_hukum', '')}\"\n",
    "        \n",
    "        # Generate embedding\n",
    "        content_vector = embed_text(combined_text)\n",
    "        \n",
    "        # Create document entry\n",
    "        data_entry = {\n",
    "            \"id\": i,\n",
    "            \"content_vector\": content_vector,\n",
    "            \"identitas\": doc_data.get('identitas', ''),\n",
    "            \"riwayat_perkara\": doc_data.get('riwayat_perkara', ''),\n",
    "            \"amar_putusan\": doc_data.get('amar_putusan', ''),\n",
    "            \"pertimbangan_hukum\": doc_data.get('pertimbangan_hukum', ''),\n",
    "            \"url\": doc_data.get('url', '')\n",
    "        }\n",
    "        \n",
    "        data_db.append(data_entry)\n",
    "    \n",
    "    # Get collection\n",
    "    collection = Collection(collection_name)\n",
    "    \n",
    "    # Insert data\n",
    "    insert_result = collection.insert(data=data_db)\n",
    "    \n",
    "    # Flush to ensure data is written\n",
    "    collection.flush()\n",
    "    \n",
    "    # Load\n",
    "    collection.load()\n",
    "    \n",
    "    # Save as JSON backup\n",
    "    with open('legal_documents_vector.json', 'w') as f:\n",
    "        json.dump(data_db, f, indent=2)\n",
    "        \n",
    "    return insert_result"
   ]
  },
  {
   "cell_type": "code",
   "execution_count": null,
   "metadata": {},
   "outputs": [
    {
     "name": "stderr",
     "output_type": "stream",
     "text": [
      "Processing Documents: 100%|██████████| 2/2 [00:00<00:00,  2.35it/s]\n"
     ]
    }
   ],
   "source": [
    "# Create collection and index\n",
    "collection = create_collection_and_index()\n",
    "\n",
    "# Process and insert documents\n",
    "result = process_and_insert_documents(documents, embeddings)"
   ]
  },
  {
   "cell_type": "markdown",
   "metadata": {},
   "source": [
    "# Retriever"
   ]
  },
  {
   "cell_type": "code",
   "execution_count": 15,
   "metadata": {},
   "outputs": [
    {
     "data": {
      "text/plain": [
       "'\\ncollection_name = \"legal_documents\"\\nquery = \"apa rangkumannya\"\\nretrieved_docs = retrieve_from_milvus(query, collection_name, embeddings, k=5)\\npprint(retrieved_docs)\\n'"
      ]
     },
     "execution_count": 15,
     "metadata": {},
     "output_type": "execute_result"
    }
   ],
   "source": [
    "def retrieve_from_milvus(query, collection_name, embeddings, k=5):\n",
    "    \"\"\"Retrieve relevant documents from Milvus using hybrid search\"\"\"\n",
    "    \n",
    "    # Embed the query\n",
    "    embedded_query = embeddings.embed_query(query)\n",
    "    collection = Collection(name=collection_name)\n",
    "\n",
    "    # Set up ANN search parameters\n",
    "    search_param = {\n",
    "        \"data\": [embedded_query],\n",
    "        \"anns_field\": \"content_vector\",\n",
    "        \"param\": {\n",
    "            \"metric_type\": \"COSINE\",\n",
    "            \"params\": {\"nprobe\": 10}\n",
    "        },\n",
    "        \"limit\": k\n",
    "    }\n",
    "    request = AnnSearchRequest(**search_param)\n",
    "\n",
    "    # Perform hybrid search\n",
    "    results = collection.hybrid_search(\n",
    "        reqs=[request],\n",
    "        rerank=WeightedRanker(0.8),\n",
    "        limit=k,\n",
    "        output_fields=[\"identitas\", \"riwayat_perkara\", \"amar_putusan\", \"pertimbangan_hukum\", \"url\"]\n",
    "    )\n",
    "\n",
    "    # Extract relevant information from results\n",
    "    documents = []\n",
    "    if results:\n",
    "        for hit in results[0]:\n",
    "            # Access fields using the fields property of the hit object\n",
    "            fields = hit.fields\n",
    "            doc_info = {\n",
    "                \"identitas\": fields.get(\"identitas\", \"\"),\n",
    "                \"riwayat_perkara\": fields.get(\"riwayat_perkara\", \"\"),\n",
    "                \"amar_putusan\": fields.get(\"amar_putusan\", \"\"),\n",
    "                \"pertimbangan_hukum\": fields.get(\"pertimbangan_hukum\", \"\"),\n",
    "                \"url\": fields.get(\"url\", \"\")\n",
    "            }\n",
    "            documents.append(doc_info)\n",
    "\n",
    "    return documents\n",
    "\n",
    "# Example usage:\n",
    "\"\"\"\n",
    "collection_name = \"legal_documents\"\n",
    "query = \"apa rangkumannya\"\n",
    "retrieved_docs = retrieve_from_milvus(query, collection_name, embeddings, k=5)\n",
    "pprint(retrieved_docs)\n",
    "\"\"\""
   ]
  },
  {
   "cell_type": "code",
   "execution_count": 16,
   "metadata": {},
   "outputs": [
    {
     "name": "stderr",
     "output_type": "stream",
     "text": [
      "RPC error: [hybrid_search], <MilvusException: (code=503, message=failed to search: channel not subscribed: channel lacks[channel=by-dev-rootcoord-dml_0_454756620526950040v0]: channel not available[channel=by-dev-rootcoord-dml_0_454756620526950040v0])>, <Time:{'RPC start': '2024-12-23 00:54:02.900458', 'RPC error': '2024-12-23 00:54:23.999899'}>\n"
     ]
    },
    {
     "ename": "MilvusException",
     "evalue": "<MilvusException: (code=503, message=failed to search: channel not subscribed: channel lacks[channel=by-dev-rootcoord-dml_0_454756620526950040v0]: channel not available[channel=by-dev-rootcoord-dml_0_454756620526950040v0])>",
     "output_type": "error",
     "traceback": [
      "\u001b[0;31m---------------------------------------------------------------------------\u001b[0m",
      "\u001b[0;31mMilvusException\u001b[0m                           Traceback (most recent call last)",
      "    \u001b[0;31m[... skipping hidden 1 frame]\u001b[0m\n",
      "Cell \u001b[0;32mIn[16], line 4\u001b[0m\n\u001b[1;32m      3\u001b[0m query \u001b[38;5;241m=\u001b[39m \u001b[38;5;124m\"\u001b[39m\u001b[38;5;124msiapa adi daswadi bin wasdam\u001b[39m\u001b[38;5;124m\"\u001b[39m\n\u001b[0;32m----> 4\u001b[0m retrieved_docs \u001b[38;5;241m=\u001b[39m \u001b[43mretrieve_from_milvus\u001b[49m\u001b[43m(\u001b[49m\u001b[43mquery\u001b[49m\u001b[43m,\u001b[49m\u001b[43m \u001b[49m\u001b[43mcollection_name\u001b[49m\u001b[43m,\u001b[49m\u001b[43m \u001b[49m\u001b[43membeddings\u001b[49m\u001b[43m,\u001b[49m\u001b[43m \u001b[49m\u001b[43mk\u001b[49m\u001b[38;5;241;43m=\u001b[39;49m\u001b[38;5;241;43m5\u001b[39;49m\u001b[43m)\u001b[49m\n\u001b[1;32m      5\u001b[0m pprint(retrieved_docs)\n",
      "Cell \u001b[0;32mIn[15], line 21\u001b[0m, in \u001b[0;36mretrieve_from_milvus\u001b[0;34m(query, collection_name, embeddings, k)\u001b[0m\n\u001b[1;32m     20\u001b[0m \u001b[38;5;66;03m# Perform hybrid search\u001b[39;00m\n\u001b[0;32m---> 21\u001b[0m results \u001b[38;5;241m=\u001b[39m \u001b[43mcollection\u001b[49m\u001b[38;5;241;43m.\u001b[39;49m\u001b[43mhybrid_search\u001b[49m\u001b[43m(\u001b[49m\n\u001b[1;32m     22\u001b[0m \u001b[43m    \u001b[49m\u001b[43mreqs\u001b[49m\u001b[38;5;241;43m=\u001b[39;49m\u001b[43m[\u001b[49m\u001b[43mrequest\u001b[49m\u001b[43m]\u001b[49m\u001b[43m,\u001b[49m\n\u001b[1;32m     23\u001b[0m \u001b[43m    \u001b[49m\u001b[43mrerank\u001b[49m\u001b[38;5;241;43m=\u001b[39;49m\u001b[43mWeightedRanker\u001b[49m\u001b[43m(\u001b[49m\u001b[38;5;241;43m0.8\u001b[39;49m\u001b[43m)\u001b[49m\u001b[43m,\u001b[49m\n\u001b[1;32m     24\u001b[0m \u001b[43m    \u001b[49m\u001b[43mlimit\u001b[49m\u001b[38;5;241;43m=\u001b[39;49m\u001b[43mk\u001b[49m\u001b[43m,\u001b[49m\n\u001b[1;32m     25\u001b[0m \u001b[43m    \u001b[49m\u001b[43moutput_fields\u001b[49m\u001b[38;5;241;43m=\u001b[39;49m\u001b[43m[\u001b[49m\u001b[38;5;124;43m\"\u001b[39;49m\u001b[38;5;124;43midentitas\u001b[39;49m\u001b[38;5;124;43m\"\u001b[39;49m\u001b[43m,\u001b[49m\u001b[43m \u001b[49m\u001b[38;5;124;43m\"\u001b[39;49m\u001b[38;5;124;43mriwayat_perkara\u001b[39;49m\u001b[38;5;124;43m\"\u001b[39;49m\u001b[43m,\u001b[49m\u001b[43m \u001b[49m\u001b[38;5;124;43m\"\u001b[39;49m\u001b[38;5;124;43mamar_putusan\u001b[39;49m\u001b[38;5;124;43m\"\u001b[39;49m\u001b[43m,\u001b[49m\u001b[43m \u001b[49m\u001b[38;5;124;43m\"\u001b[39;49m\u001b[38;5;124;43mpertimbangan_hukum\u001b[39;49m\u001b[38;5;124;43m\"\u001b[39;49m\u001b[43m,\u001b[49m\u001b[43m \u001b[49m\u001b[38;5;124;43m\"\u001b[39;49m\u001b[38;5;124;43murl\u001b[39;49m\u001b[38;5;124;43m\"\u001b[39;49m\u001b[43m]\u001b[49m\n\u001b[1;32m     26\u001b[0m \u001b[43m\u001b[49m\u001b[43m)\u001b[49m\n\u001b[1;32m     28\u001b[0m \u001b[38;5;66;03m# Extract relevant information from results\u001b[39;00m\n",
      "File \u001b[0;32m~/anaconda3/envs/rag-ta/lib/python3.10/site-packages/pymilvus/orm/collection.py:945\u001b[0m, in \u001b[0;36mCollection.hybrid_search\u001b[0;34m(self, reqs, rerank, limit, partition_names, output_fields, timeout, round_decimal, **kwargs)\u001b[0m\n\u001b[1;32m    944\u001b[0m conn \u001b[38;5;241m=\u001b[39m \u001b[38;5;28mself\u001b[39m\u001b[38;5;241m.\u001b[39m_get_connection()\n\u001b[0;32m--> 945\u001b[0m resp \u001b[38;5;241m=\u001b[39m \u001b[43mconn\u001b[49m\u001b[38;5;241;43m.\u001b[39;49m\u001b[43mhybrid_search\u001b[49m\u001b[43m(\u001b[49m\n\u001b[1;32m    946\u001b[0m \u001b[43m    \u001b[49m\u001b[38;5;28;43mself\u001b[39;49m\u001b[38;5;241;43m.\u001b[39;49m\u001b[43m_name\u001b[49m\u001b[43m,\u001b[49m\n\u001b[1;32m    947\u001b[0m \u001b[43m    \u001b[49m\u001b[43mreqs\u001b[49m\u001b[43m,\u001b[49m\n\u001b[1;32m    948\u001b[0m \u001b[43m    \u001b[49m\u001b[43mrerank\u001b[49m\u001b[43m,\u001b[49m\n\u001b[1;32m    949\u001b[0m \u001b[43m    \u001b[49m\u001b[43mlimit\u001b[49m\u001b[43m,\u001b[49m\n\u001b[1;32m    950\u001b[0m \u001b[43m    \u001b[49m\u001b[43mpartition_names\u001b[49m\u001b[43m,\u001b[49m\n\u001b[1;32m    951\u001b[0m \u001b[43m    \u001b[49m\u001b[43moutput_fields\u001b[49m\u001b[43m,\u001b[49m\n\u001b[1;32m    952\u001b[0m \u001b[43m    \u001b[49m\u001b[43mround_decimal\u001b[49m\u001b[43m,\u001b[49m\n\u001b[1;32m    953\u001b[0m \u001b[43m    \u001b[49m\u001b[43mtimeout\u001b[49m\u001b[38;5;241;43m=\u001b[39;49m\u001b[43mtimeout\u001b[49m\u001b[43m,\u001b[49m\n\u001b[1;32m    954\u001b[0m \u001b[43m    \u001b[49m\u001b[43mschema\u001b[49m\u001b[38;5;241;43m=\u001b[39;49m\u001b[38;5;28;43mself\u001b[39;49m\u001b[38;5;241;43m.\u001b[39;49m\u001b[43m_schema_dict\u001b[49m\u001b[43m,\u001b[49m\n\u001b[1;32m    955\u001b[0m \u001b[43m    \u001b[49m\u001b[38;5;241;43m*\u001b[39;49m\u001b[38;5;241;43m*\u001b[39;49m\u001b[43mkwargs\u001b[49m\u001b[43m,\u001b[49m\n\u001b[1;32m    956\u001b[0m \u001b[43m\u001b[49m\u001b[43m)\u001b[49m\n\u001b[1;32m    958\u001b[0m \u001b[38;5;28;01mreturn\u001b[39;00m SearchFuture(resp) \u001b[38;5;28;01mif\u001b[39;00m kwargs\u001b[38;5;241m.\u001b[39mget(\u001b[38;5;124m\"\u001b[39m\u001b[38;5;124m_async\u001b[39m\u001b[38;5;124m\"\u001b[39m, \u001b[38;5;28;01mFalse\u001b[39;00m) \u001b[38;5;28;01melse\u001b[39;00m resp\n",
      "File \u001b[0;32m~/anaconda3/envs/rag-ta/lib/python3.10/site-packages/pymilvus/decorators.py:141\u001b[0m, in \u001b[0;36merror_handler.<locals>.wrapper.<locals>.handler\u001b[0;34m(*args, **kwargs)\u001b[0m\n\u001b[1;32m    140\u001b[0m     LOGGER\u001b[38;5;241m.\u001b[39merror(\u001b[38;5;124mf\u001b[39m\u001b[38;5;124m\"\u001b[39m\u001b[38;5;124mRPC error: [\u001b[39m\u001b[38;5;132;01m{\u001b[39;00minner_name\u001b[38;5;132;01m}\u001b[39;00m\u001b[38;5;124m], \u001b[39m\u001b[38;5;132;01m{\u001b[39;00me\u001b[38;5;132;01m}\u001b[39;00m\u001b[38;5;124m, <Time:\u001b[39m\u001b[38;5;132;01m{\u001b[39;00mrecord_dict\u001b[38;5;132;01m}\u001b[39;00m\u001b[38;5;124m>\u001b[39m\u001b[38;5;124m\"\u001b[39m)\n\u001b[0;32m--> 141\u001b[0m     \u001b[38;5;28;01mraise\u001b[39;00m e \u001b[38;5;28;01mfrom\u001b[39;00m \u001b[38;5;21;01me\u001b[39;00m\n\u001b[1;32m    142\u001b[0m \u001b[38;5;28;01mexcept\u001b[39;00m grpc\u001b[38;5;241m.\u001b[39mFutureTimeoutError \u001b[38;5;28;01mas\u001b[39;00m e:\n",
      "File \u001b[0;32m~/anaconda3/envs/rag-ta/lib/python3.10/site-packages/pymilvus/decorators.py:137\u001b[0m, in \u001b[0;36merror_handler.<locals>.wrapper.<locals>.handler\u001b[0;34m(*args, **kwargs)\u001b[0m\n\u001b[1;32m    136\u001b[0m     record_dict[\u001b[38;5;124m\"\u001b[39m\u001b[38;5;124mRPC start\u001b[39m\u001b[38;5;124m\"\u001b[39m] \u001b[38;5;241m=\u001b[39m \u001b[38;5;28mstr\u001b[39m(datetime\u001b[38;5;241m.\u001b[39mdatetime\u001b[38;5;241m.\u001b[39mnow())\n\u001b[0;32m--> 137\u001b[0m     \u001b[38;5;28;01mreturn\u001b[39;00m \u001b[43mfunc\u001b[49m\u001b[43m(\u001b[49m\u001b[38;5;241;43m*\u001b[39;49m\u001b[43margs\u001b[49m\u001b[43m,\u001b[49m\u001b[43m \u001b[49m\u001b[38;5;241;43m*\u001b[39;49m\u001b[38;5;241;43m*\u001b[39;49m\u001b[43mkwargs\u001b[49m\u001b[43m)\u001b[49m\n\u001b[1;32m    138\u001b[0m \u001b[38;5;28;01mexcept\u001b[39;00m MilvusException \u001b[38;5;28;01mas\u001b[39;00m e:\n",
      "File \u001b[0;32m~/anaconda3/envs/rag-ta/lib/python3.10/site-packages/pymilvus/decorators.py:176\u001b[0m, in \u001b[0;36mtracing_request.<locals>.wrapper.<locals>.handler\u001b[0;34m(self, *args, **kwargs)\u001b[0m\n\u001b[1;32m    175\u001b[0m     \u001b[38;5;28mself\u001b[39m\u001b[38;5;241m.\u001b[39mset_onetime_request_id(req_id)\n\u001b[0;32m--> 176\u001b[0m \u001b[38;5;28;01mreturn\u001b[39;00m \u001b[43mfunc\u001b[49m\u001b[43m(\u001b[49m\u001b[38;5;28;43mself\u001b[39;49m\u001b[43m,\u001b[49m\u001b[43m \u001b[49m\u001b[38;5;241;43m*\u001b[39;49m\u001b[43margs\u001b[49m\u001b[43m,\u001b[49m\u001b[43m \u001b[49m\u001b[38;5;241;43m*\u001b[39;49m\u001b[38;5;241;43m*\u001b[39;49m\u001b[43mkwargs\u001b[49m\u001b[43m)\u001b[49m\n",
      "File \u001b[0;32m~/anaconda3/envs/rag-ta/lib/python3.10/site-packages/pymilvus/decorators.py:116\u001b[0m, in \u001b[0;36mretry_on_rpc_failure.<locals>.wrapper.<locals>.handler\u001b[0;34m(*args, **kwargs)\u001b[0m\n\u001b[1;32m    115\u001b[0m     \u001b[38;5;28;01melse\u001b[39;00m:\n\u001b[0;32m--> 116\u001b[0m         \u001b[38;5;28;01mraise\u001b[39;00m e \u001b[38;5;28;01mfrom\u001b[39;00m \u001b[38;5;21;01me\u001b[39;00m\n\u001b[1;32m    117\u001b[0m \u001b[38;5;28;01mexcept\u001b[39;00m \u001b[38;5;167;01mException\u001b[39;00m \u001b[38;5;28;01mas\u001b[39;00m e:\n",
      "File \u001b[0;32m~/anaconda3/envs/rag-ta/lib/python3.10/site-packages/pymilvus/decorators.py:86\u001b[0m, in \u001b[0;36mretry_on_rpc_failure.<locals>.wrapper.<locals>.handler\u001b[0;34m(*args, **kwargs)\u001b[0m\n\u001b[1;32m     85\u001b[0m \u001b[38;5;28;01mtry\u001b[39;00m:\n\u001b[0;32m---> 86\u001b[0m     \u001b[38;5;28;01mreturn\u001b[39;00m \u001b[43mfunc\u001b[49m\u001b[43m(\u001b[49m\u001b[38;5;241;43m*\u001b[39;49m\u001b[43margs\u001b[49m\u001b[43m,\u001b[49m\u001b[43m \u001b[49m\u001b[38;5;241;43m*\u001b[39;49m\u001b[38;5;241;43m*\u001b[39;49m\u001b[43mkwargs\u001b[49m\u001b[43m)\u001b[49m\n\u001b[1;32m     87\u001b[0m \u001b[38;5;28;01mexcept\u001b[39;00m grpc\u001b[38;5;241m.\u001b[39mRpcError \u001b[38;5;28;01mas\u001b[39;00m e:\n\u001b[1;32m     88\u001b[0m     \u001b[38;5;66;03m# Do not retry on these codes\u001b[39;00m\n",
      "File \u001b[0;32m~/anaconda3/envs/rag-ta/lib/python3.10/site-packages/pymilvus/client/grpc_handler.py:854\u001b[0m, in \u001b[0;36mGrpcHandler.hybrid_search\u001b[0;34m(self, collection_name, reqs, rerank, limit, partition_names, output_fields, round_decimal, timeout, **kwargs)\u001b[0m\n\u001b[1;32m    844\u001b[0m hybrid_search_request \u001b[38;5;241m=\u001b[39m Prepare\u001b[38;5;241m.\u001b[39mhybrid_search_request_with_ranker(\n\u001b[1;32m    845\u001b[0m     collection_name,\n\u001b[1;32m    846\u001b[0m     requests,\n\u001b[0;32m   (...)\u001b[0m\n\u001b[1;32m    852\u001b[0m     \u001b[38;5;241m*\u001b[39m\u001b[38;5;241m*\u001b[39mkwargs,\n\u001b[1;32m    853\u001b[0m )\n\u001b[0;32m--> 854\u001b[0m \u001b[38;5;28;01mreturn\u001b[39;00m \u001b[38;5;28;43mself\u001b[39;49m\u001b[38;5;241;43m.\u001b[39;49m\u001b[43m_execute_hybrid_search\u001b[49m\u001b[43m(\u001b[49m\n\u001b[1;32m    855\u001b[0m \u001b[43m    \u001b[49m\u001b[43mhybrid_search_request\u001b[49m\u001b[43m,\u001b[49m\u001b[43m \u001b[49m\u001b[43mtimeout\u001b[49m\u001b[43m,\u001b[49m\u001b[43m \u001b[49m\u001b[43mround_decimal\u001b[49m\u001b[38;5;241;43m=\u001b[39;49m\u001b[43mround_decimal\u001b[49m\u001b[43m,\u001b[49m\u001b[43m \u001b[49m\u001b[38;5;241;43m*\u001b[39;49m\u001b[38;5;241;43m*\u001b[39;49m\u001b[43mkwargs\u001b[49m\n\u001b[1;32m    856\u001b[0m \u001b[43m\u001b[49m\u001b[43m)\u001b[49m\n",
      "File \u001b[0;32m~/anaconda3/envs/rag-ta/lib/python3.10/site-packages/pymilvus/client/grpc_handler.py:765\u001b[0m, in \u001b[0;36mGrpcHandler._execute_hybrid_search\u001b[0;34m(self, request, timeout, **kwargs)\u001b[0m\n\u001b[1;32m    764\u001b[0m     \u001b[38;5;28;01mreturn\u001b[39;00m SearchFuture(\u001b[38;5;28;01mNone\u001b[39;00m, \u001b[38;5;28;01mNone\u001b[39;00m, e)\n\u001b[0;32m--> 765\u001b[0m \u001b[38;5;28;01mraise\u001b[39;00m e \u001b[38;5;28;01mfrom\u001b[39;00m \u001b[38;5;21;01me\u001b[39;00m\n",
      "File \u001b[0;32m~/anaconda3/envs/rag-ta/lib/python3.10/site-packages/pymilvus/client/grpc_handler.py:758\u001b[0m, in \u001b[0;36mGrpcHandler._execute_hybrid_search\u001b[0;34m(self, request, timeout, **kwargs)\u001b[0m\n\u001b[1;32m    757\u001b[0m response \u001b[38;5;241m=\u001b[39m \u001b[38;5;28mself\u001b[39m\u001b[38;5;241m.\u001b[39m_stub\u001b[38;5;241m.\u001b[39mHybridSearch(request, timeout\u001b[38;5;241m=\u001b[39mtimeout)\n\u001b[0;32m--> 758\u001b[0m \u001b[43mcheck_status\u001b[49m\u001b[43m(\u001b[49m\u001b[43mresponse\u001b[49m\u001b[38;5;241;43m.\u001b[39;49m\u001b[43mstatus\u001b[49m\u001b[43m)\u001b[49m\n\u001b[1;32m    759\u001b[0m round_decimal \u001b[38;5;241m=\u001b[39m kwargs\u001b[38;5;241m.\u001b[39mget(\u001b[38;5;124m\"\u001b[39m\u001b[38;5;124mround_decimal\u001b[39m\u001b[38;5;124m\"\u001b[39m, \u001b[38;5;241m-\u001b[39m\u001b[38;5;241m1\u001b[39m)\n",
      "File \u001b[0;32m~/anaconda3/envs/rag-ta/lib/python3.10/site-packages/pymilvus/client/utils.py:63\u001b[0m, in \u001b[0;36mcheck_status\u001b[0;34m(status)\u001b[0m\n\u001b[1;32m     62\u001b[0m \u001b[38;5;28;01mif\u001b[39;00m status\u001b[38;5;241m.\u001b[39mcode \u001b[38;5;241m!=\u001b[39m \u001b[38;5;241m0\u001b[39m \u001b[38;5;129;01mor\u001b[39;00m status\u001b[38;5;241m.\u001b[39merror_code \u001b[38;5;241m!=\u001b[39m \u001b[38;5;241m0\u001b[39m:\n\u001b[0;32m---> 63\u001b[0m     \u001b[38;5;28;01mraise\u001b[39;00m MilvusException(status\u001b[38;5;241m.\u001b[39mcode, status\u001b[38;5;241m.\u001b[39mreason, status\u001b[38;5;241m.\u001b[39merror_code)\n",
      "\u001b[0;31mMilvusException\u001b[0m: <MilvusException: (code=503, message=failed to search: channel not subscribed: channel lacks[channel=by-dev-rootcoord-dml_0_454756620526950040v0]: channel not available[channel=by-dev-rootcoord-dml_0_454756620526950040v0])>",
      "\nThe above exception was the direct cause of the following exception:\n",
      "\u001b[0;31mMilvusException\u001b[0m                           Traceback (most recent call last)",
      "    \u001b[0;31m[... skipping hidden 1 frame]\u001b[0m\n",
      "Cell \u001b[0;32mIn[16], line 4\u001b[0m\n\u001b[1;32m      3\u001b[0m query \u001b[38;5;241m=\u001b[39m \u001b[38;5;124m\"\u001b[39m\u001b[38;5;124msiapa adi daswadi bin wasdam\u001b[39m\u001b[38;5;124m\"\u001b[39m\n\u001b[0;32m----> 4\u001b[0m retrieved_docs \u001b[38;5;241m=\u001b[39m \u001b[43mretrieve_from_milvus\u001b[49m\u001b[43m(\u001b[49m\u001b[43mquery\u001b[49m\u001b[43m,\u001b[49m\u001b[43m \u001b[49m\u001b[43mcollection_name\u001b[49m\u001b[43m,\u001b[49m\u001b[43m \u001b[49m\u001b[43membeddings\u001b[49m\u001b[43m,\u001b[49m\u001b[43m \u001b[49m\u001b[43mk\u001b[49m\u001b[38;5;241;43m=\u001b[39;49m\u001b[38;5;241;43m5\u001b[39;49m\u001b[43m)\u001b[49m\n\u001b[1;32m      5\u001b[0m pprint(retrieved_docs)\n",
      "Cell \u001b[0;32mIn[15], line 21\u001b[0m, in \u001b[0;36mretrieve_from_milvus\u001b[0;34m(query, collection_name, embeddings, k)\u001b[0m\n\u001b[1;32m     20\u001b[0m \u001b[38;5;66;03m# Perform hybrid search\u001b[39;00m\n\u001b[0;32m---> 21\u001b[0m results \u001b[38;5;241m=\u001b[39m \u001b[43mcollection\u001b[49m\u001b[38;5;241;43m.\u001b[39;49m\u001b[43mhybrid_search\u001b[49m\u001b[43m(\u001b[49m\n\u001b[1;32m     22\u001b[0m \u001b[43m    \u001b[49m\u001b[43mreqs\u001b[49m\u001b[38;5;241;43m=\u001b[39;49m\u001b[43m[\u001b[49m\u001b[43mrequest\u001b[49m\u001b[43m]\u001b[49m\u001b[43m,\u001b[49m\n\u001b[1;32m     23\u001b[0m \u001b[43m    \u001b[49m\u001b[43mrerank\u001b[49m\u001b[38;5;241;43m=\u001b[39;49m\u001b[43mWeightedRanker\u001b[49m\u001b[43m(\u001b[49m\u001b[38;5;241;43m0.8\u001b[39;49m\u001b[43m)\u001b[49m\u001b[43m,\u001b[49m\n\u001b[1;32m     24\u001b[0m \u001b[43m    \u001b[49m\u001b[43mlimit\u001b[49m\u001b[38;5;241;43m=\u001b[39;49m\u001b[43mk\u001b[49m\u001b[43m,\u001b[49m\n\u001b[1;32m     25\u001b[0m \u001b[43m    \u001b[49m\u001b[43moutput_fields\u001b[49m\u001b[38;5;241;43m=\u001b[39;49m\u001b[43m[\u001b[49m\u001b[38;5;124;43m\"\u001b[39;49m\u001b[38;5;124;43midentitas\u001b[39;49m\u001b[38;5;124;43m\"\u001b[39;49m\u001b[43m,\u001b[49m\u001b[43m \u001b[49m\u001b[38;5;124;43m\"\u001b[39;49m\u001b[38;5;124;43mriwayat_perkara\u001b[39;49m\u001b[38;5;124;43m\"\u001b[39;49m\u001b[43m,\u001b[49m\u001b[43m \u001b[49m\u001b[38;5;124;43m\"\u001b[39;49m\u001b[38;5;124;43mamar_putusan\u001b[39;49m\u001b[38;5;124;43m\"\u001b[39;49m\u001b[43m,\u001b[49m\u001b[43m \u001b[49m\u001b[38;5;124;43m\"\u001b[39;49m\u001b[38;5;124;43mpertimbangan_hukum\u001b[39;49m\u001b[38;5;124;43m\"\u001b[39;49m\u001b[43m,\u001b[49m\u001b[43m \u001b[49m\u001b[38;5;124;43m\"\u001b[39;49m\u001b[38;5;124;43murl\u001b[39;49m\u001b[38;5;124;43m\"\u001b[39;49m\u001b[43m]\u001b[49m\n\u001b[1;32m     26\u001b[0m \u001b[43m\u001b[49m\u001b[43m)\u001b[49m\n\u001b[1;32m     28\u001b[0m \u001b[38;5;66;03m# Extract relevant information from results\u001b[39;00m\n",
      "File \u001b[0;32m~/anaconda3/envs/rag-ta/lib/python3.10/site-packages/pymilvus/orm/collection.py:945\u001b[0m, in \u001b[0;36mCollection.hybrid_search\u001b[0;34m(self, reqs, rerank, limit, partition_names, output_fields, timeout, round_decimal, **kwargs)\u001b[0m\n\u001b[1;32m    944\u001b[0m conn \u001b[38;5;241m=\u001b[39m \u001b[38;5;28mself\u001b[39m\u001b[38;5;241m.\u001b[39m_get_connection()\n\u001b[0;32m--> 945\u001b[0m resp \u001b[38;5;241m=\u001b[39m \u001b[43mconn\u001b[49m\u001b[38;5;241;43m.\u001b[39;49m\u001b[43mhybrid_search\u001b[49m\u001b[43m(\u001b[49m\n\u001b[1;32m    946\u001b[0m \u001b[43m    \u001b[49m\u001b[38;5;28;43mself\u001b[39;49m\u001b[38;5;241;43m.\u001b[39;49m\u001b[43m_name\u001b[49m\u001b[43m,\u001b[49m\n\u001b[1;32m    947\u001b[0m \u001b[43m    \u001b[49m\u001b[43mreqs\u001b[49m\u001b[43m,\u001b[49m\n\u001b[1;32m    948\u001b[0m \u001b[43m    \u001b[49m\u001b[43mrerank\u001b[49m\u001b[43m,\u001b[49m\n\u001b[1;32m    949\u001b[0m \u001b[43m    \u001b[49m\u001b[43mlimit\u001b[49m\u001b[43m,\u001b[49m\n\u001b[1;32m    950\u001b[0m \u001b[43m    \u001b[49m\u001b[43mpartition_names\u001b[49m\u001b[43m,\u001b[49m\n\u001b[1;32m    951\u001b[0m \u001b[43m    \u001b[49m\u001b[43moutput_fields\u001b[49m\u001b[43m,\u001b[49m\n\u001b[1;32m    952\u001b[0m \u001b[43m    \u001b[49m\u001b[43mround_decimal\u001b[49m\u001b[43m,\u001b[49m\n\u001b[1;32m    953\u001b[0m \u001b[43m    \u001b[49m\u001b[43mtimeout\u001b[49m\u001b[38;5;241;43m=\u001b[39;49m\u001b[43mtimeout\u001b[49m\u001b[43m,\u001b[49m\n\u001b[1;32m    954\u001b[0m \u001b[43m    \u001b[49m\u001b[43mschema\u001b[49m\u001b[38;5;241;43m=\u001b[39;49m\u001b[38;5;28;43mself\u001b[39;49m\u001b[38;5;241;43m.\u001b[39;49m\u001b[43m_schema_dict\u001b[49m\u001b[43m,\u001b[49m\n\u001b[1;32m    955\u001b[0m \u001b[43m    \u001b[49m\u001b[38;5;241;43m*\u001b[39;49m\u001b[38;5;241;43m*\u001b[39;49m\u001b[43mkwargs\u001b[49m\u001b[43m,\u001b[49m\n\u001b[1;32m    956\u001b[0m \u001b[43m\u001b[49m\u001b[43m)\u001b[49m\n\u001b[1;32m    958\u001b[0m \u001b[38;5;28;01mreturn\u001b[39;00m SearchFuture(resp) \u001b[38;5;28;01mif\u001b[39;00m kwargs\u001b[38;5;241m.\u001b[39mget(\u001b[38;5;124m\"\u001b[39m\u001b[38;5;124m_async\u001b[39m\u001b[38;5;124m\"\u001b[39m, \u001b[38;5;28;01mFalse\u001b[39;00m) \u001b[38;5;28;01melse\u001b[39;00m resp\n",
      "File \u001b[0;32m~/anaconda3/envs/rag-ta/lib/python3.10/site-packages/pymilvus/decorators.py:141\u001b[0m, in \u001b[0;36merror_handler.<locals>.wrapper.<locals>.handler\u001b[0;34m(*args, **kwargs)\u001b[0m\n\u001b[1;32m    140\u001b[0m     LOGGER\u001b[38;5;241m.\u001b[39merror(\u001b[38;5;124mf\u001b[39m\u001b[38;5;124m\"\u001b[39m\u001b[38;5;124mRPC error: [\u001b[39m\u001b[38;5;132;01m{\u001b[39;00minner_name\u001b[38;5;132;01m}\u001b[39;00m\u001b[38;5;124m], \u001b[39m\u001b[38;5;132;01m{\u001b[39;00me\u001b[38;5;132;01m}\u001b[39;00m\u001b[38;5;124m, <Time:\u001b[39m\u001b[38;5;132;01m{\u001b[39;00mrecord_dict\u001b[38;5;132;01m}\u001b[39;00m\u001b[38;5;124m>\u001b[39m\u001b[38;5;124m\"\u001b[39m)\n\u001b[0;32m--> 141\u001b[0m     \u001b[38;5;28;01mraise\u001b[39;00m e \u001b[38;5;28;01mfrom\u001b[39;00m \u001b[38;5;21;01me\u001b[39;00m\n\u001b[1;32m    142\u001b[0m \u001b[38;5;28;01mexcept\u001b[39;00m grpc\u001b[38;5;241m.\u001b[39mFutureTimeoutError \u001b[38;5;28;01mas\u001b[39;00m e:\n",
      "File \u001b[0;32m~/anaconda3/envs/rag-ta/lib/python3.10/site-packages/pymilvus/decorators.py:137\u001b[0m, in \u001b[0;36merror_handler.<locals>.wrapper.<locals>.handler\u001b[0;34m(*args, **kwargs)\u001b[0m\n\u001b[1;32m    136\u001b[0m     record_dict[\u001b[38;5;124m\"\u001b[39m\u001b[38;5;124mRPC start\u001b[39m\u001b[38;5;124m\"\u001b[39m] \u001b[38;5;241m=\u001b[39m \u001b[38;5;28mstr\u001b[39m(datetime\u001b[38;5;241m.\u001b[39mdatetime\u001b[38;5;241m.\u001b[39mnow())\n\u001b[0;32m--> 137\u001b[0m     \u001b[38;5;28;01mreturn\u001b[39;00m \u001b[43mfunc\u001b[49m\u001b[43m(\u001b[49m\u001b[38;5;241;43m*\u001b[39;49m\u001b[43margs\u001b[49m\u001b[43m,\u001b[49m\u001b[43m \u001b[49m\u001b[38;5;241;43m*\u001b[39;49m\u001b[38;5;241;43m*\u001b[39;49m\u001b[43mkwargs\u001b[49m\u001b[43m)\u001b[49m\n\u001b[1;32m    138\u001b[0m \u001b[38;5;28;01mexcept\u001b[39;00m MilvusException \u001b[38;5;28;01mas\u001b[39;00m e:\n",
      "File \u001b[0;32m~/anaconda3/envs/rag-ta/lib/python3.10/site-packages/pymilvus/decorators.py:176\u001b[0m, in \u001b[0;36mtracing_request.<locals>.wrapper.<locals>.handler\u001b[0;34m(self, *args, **kwargs)\u001b[0m\n\u001b[1;32m    175\u001b[0m     \u001b[38;5;28mself\u001b[39m\u001b[38;5;241m.\u001b[39mset_onetime_request_id(req_id)\n\u001b[0;32m--> 176\u001b[0m \u001b[38;5;28;01mreturn\u001b[39;00m \u001b[43mfunc\u001b[49m\u001b[43m(\u001b[49m\u001b[38;5;28;43mself\u001b[39;49m\u001b[43m,\u001b[49m\u001b[43m \u001b[49m\u001b[38;5;241;43m*\u001b[39;49m\u001b[43margs\u001b[49m\u001b[43m,\u001b[49m\u001b[43m \u001b[49m\u001b[38;5;241;43m*\u001b[39;49m\u001b[38;5;241;43m*\u001b[39;49m\u001b[43mkwargs\u001b[49m\u001b[43m)\u001b[49m\n",
      "File \u001b[0;32m~/anaconda3/envs/rag-ta/lib/python3.10/site-packages/pymilvus/decorators.py:116\u001b[0m, in \u001b[0;36mretry_on_rpc_failure.<locals>.wrapper.<locals>.handler\u001b[0;34m(*args, **kwargs)\u001b[0m\n\u001b[1;32m    115\u001b[0m     \u001b[38;5;28;01melse\u001b[39;00m:\n\u001b[0;32m--> 116\u001b[0m         \u001b[38;5;28;01mraise\u001b[39;00m e \u001b[38;5;28;01mfrom\u001b[39;00m \u001b[38;5;21;01me\u001b[39;00m\n\u001b[1;32m    117\u001b[0m \u001b[38;5;28;01mexcept\u001b[39;00m \u001b[38;5;167;01mException\u001b[39;00m \u001b[38;5;28;01mas\u001b[39;00m e:\n",
      "File \u001b[0;32m~/anaconda3/envs/rag-ta/lib/python3.10/site-packages/pymilvus/decorators.py:86\u001b[0m, in \u001b[0;36mretry_on_rpc_failure.<locals>.wrapper.<locals>.handler\u001b[0;34m(*args, **kwargs)\u001b[0m\n\u001b[1;32m     85\u001b[0m \u001b[38;5;28;01mtry\u001b[39;00m:\n\u001b[0;32m---> 86\u001b[0m     \u001b[38;5;28;01mreturn\u001b[39;00m \u001b[43mfunc\u001b[49m\u001b[43m(\u001b[49m\u001b[38;5;241;43m*\u001b[39;49m\u001b[43margs\u001b[49m\u001b[43m,\u001b[49m\u001b[43m \u001b[49m\u001b[38;5;241;43m*\u001b[39;49m\u001b[38;5;241;43m*\u001b[39;49m\u001b[43mkwargs\u001b[49m\u001b[43m)\u001b[49m\n\u001b[1;32m     87\u001b[0m \u001b[38;5;28;01mexcept\u001b[39;00m grpc\u001b[38;5;241m.\u001b[39mRpcError \u001b[38;5;28;01mas\u001b[39;00m e:\n\u001b[1;32m     88\u001b[0m     \u001b[38;5;66;03m# Do not retry on these codes\u001b[39;00m\n",
      "File \u001b[0;32m~/anaconda3/envs/rag-ta/lib/python3.10/site-packages/pymilvus/client/grpc_handler.py:854\u001b[0m, in \u001b[0;36mGrpcHandler.hybrid_search\u001b[0;34m(self, collection_name, reqs, rerank, limit, partition_names, output_fields, round_decimal, timeout, **kwargs)\u001b[0m\n\u001b[1;32m    844\u001b[0m hybrid_search_request \u001b[38;5;241m=\u001b[39m Prepare\u001b[38;5;241m.\u001b[39mhybrid_search_request_with_ranker(\n\u001b[1;32m    845\u001b[0m     collection_name,\n\u001b[1;32m    846\u001b[0m     requests,\n\u001b[0;32m   (...)\u001b[0m\n\u001b[1;32m    852\u001b[0m     \u001b[38;5;241m*\u001b[39m\u001b[38;5;241m*\u001b[39mkwargs,\n\u001b[1;32m    853\u001b[0m )\n\u001b[0;32m--> 854\u001b[0m \u001b[38;5;28;01mreturn\u001b[39;00m \u001b[38;5;28;43mself\u001b[39;49m\u001b[38;5;241;43m.\u001b[39;49m\u001b[43m_execute_hybrid_search\u001b[49m\u001b[43m(\u001b[49m\n\u001b[1;32m    855\u001b[0m \u001b[43m    \u001b[49m\u001b[43mhybrid_search_request\u001b[49m\u001b[43m,\u001b[49m\u001b[43m \u001b[49m\u001b[43mtimeout\u001b[49m\u001b[43m,\u001b[49m\u001b[43m \u001b[49m\u001b[43mround_decimal\u001b[49m\u001b[38;5;241;43m=\u001b[39;49m\u001b[43mround_decimal\u001b[49m\u001b[43m,\u001b[49m\u001b[43m \u001b[49m\u001b[38;5;241;43m*\u001b[39;49m\u001b[38;5;241;43m*\u001b[39;49m\u001b[43mkwargs\u001b[49m\n\u001b[1;32m    856\u001b[0m \u001b[43m\u001b[49m\u001b[43m)\u001b[49m\n",
      "File \u001b[0;32m~/anaconda3/envs/rag-ta/lib/python3.10/site-packages/pymilvus/client/grpc_handler.py:765\u001b[0m, in \u001b[0;36mGrpcHandler._execute_hybrid_search\u001b[0;34m(self, request, timeout, **kwargs)\u001b[0m\n\u001b[1;32m    764\u001b[0m     \u001b[38;5;28;01mreturn\u001b[39;00m SearchFuture(\u001b[38;5;28;01mNone\u001b[39;00m, \u001b[38;5;28;01mNone\u001b[39;00m, e)\n\u001b[0;32m--> 765\u001b[0m \u001b[38;5;28;01mraise\u001b[39;00m e \u001b[38;5;28;01mfrom\u001b[39;00m \u001b[38;5;21;01me\u001b[39;00m\n",
      "File \u001b[0;32m~/anaconda3/envs/rag-ta/lib/python3.10/site-packages/pymilvus/client/grpc_handler.py:758\u001b[0m, in \u001b[0;36mGrpcHandler._execute_hybrid_search\u001b[0;34m(self, request, timeout, **kwargs)\u001b[0m\n\u001b[1;32m    757\u001b[0m response \u001b[38;5;241m=\u001b[39m \u001b[38;5;28mself\u001b[39m\u001b[38;5;241m.\u001b[39m_stub\u001b[38;5;241m.\u001b[39mHybridSearch(request, timeout\u001b[38;5;241m=\u001b[39mtimeout)\n\u001b[0;32m--> 758\u001b[0m \u001b[43mcheck_status\u001b[49m\u001b[43m(\u001b[49m\u001b[43mresponse\u001b[49m\u001b[38;5;241;43m.\u001b[39;49m\u001b[43mstatus\u001b[49m\u001b[43m)\u001b[49m\n\u001b[1;32m    759\u001b[0m round_decimal \u001b[38;5;241m=\u001b[39m kwargs\u001b[38;5;241m.\u001b[39mget(\u001b[38;5;124m\"\u001b[39m\u001b[38;5;124mround_decimal\u001b[39m\u001b[38;5;124m\"\u001b[39m, \u001b[38;5;241m-\u001b[39m\u001b[38;5;241m1\u001b[39m)\n",
      "File \u001b[0;32m~/anaconda3/envs/rag-ta/lib/python3.10/site-packages/pymilvus/client/utils.py:63\u001b[0m, in \u001b[0;36mcheck_status\u001b[0;34m(status)\u001b[0m\n\u001b[1;32m     62\u001b[0m \u001b[38;5;28;01mif\u001b[39;00m status\u001b[38;5;241m.\u001b[39mcode \u001b[38;5;241m!=\u001b[39m \u001b[38;5;241m0\u001b[39m \u001b[38;5;129;01mor\u001b[39;00m status\u001b[38;5;241m.\u001b[39merror_code \u001b[38;5;241m!=\u001b[39m \u001b[38;5;241m0\u001b[39m:\n\u001b[0;32m---> 63\u001b[0m     \u001b[38;5;28;01mraise\u001b[39;00m MilvusException(status\u001b[38;5;241m.\u001b[39mcode, status\u001b[38;5;241m.\u001b[39mreason, status\u001b[38;5;241m.\u001b[39merror_code)\n",
      "\u001b[0;31mMilvusException\u001b[0m: <MilvusException: (code=503, message=failed to search: channel not subscribed: channel lacks[channel=by-dev-rootcoord-dml_0_454756620526950040v0]: channel not available[channel=by-dev-rootcoord-dml_0_454756620526950040v0])>",
      "\nThe above exception was the direct cause of the following exception:\n",
      "\u001b[0;31mMilvusException\u001b[0m                           Traceback (most recent call last)",
      "Cell \u001b[0;32mIn[16], line 4\u001b[0m\n\u001b[1;32m      2\u001b[0m collection_name \u001b[38;5;241m=\u001b[39m \u001b[38;5;124m\"\u001b[39m\u001b[38;5;124mlegal_documents\u001b[39m\u001b[38;5;124m\"\u001b[39m\n\u001b[1;32m      3\u001b[0m query \u001b[38;5;241m=\u001b[39m \u001b[38;5;124m\"\u001b[39m\u001b[38;5;124msiapa adi daswadi bin wasdam\u001b[39m\u001b[38;5;124m\"\u001b[39m\n\u001b[0;32m----> 4\u001b[0m retrieved_docs \u001b[38;5;241m=\u001b[39m \u001b[43mretrieve_from_milvus\u001b[49m\u001b[43m(\u001b[49m\u001b[43mquery\u001b[49m\u001b[43m,\u001b[49m\u001b[43m \u001b[49m\u001b[43mcollection_name\u001b[49m\u001b[43m,\u001b[49m\u001b[43m \u001b[49m\u001b[43membeddings\u001b[49m\u001b[43m,\u001b[49m\u001b[43m \u001b[49m\u001b[43mk\u001b[49m\u001b[38;5;241;43m=\u001b[39;49m\u001b[38;5;241;43m5\u001b[39;49m\u001b[43m)\u001b[49m\n\u001b[1;32m      5\u001b[0m pprint(retrieved_docs)\n",
      "Cell \u001b[0;32mIn[15], line 21\u001b[0m, in \u001b[0;36mretrieve_from_milvus\u001b[0;34m(query, collection_name, embeddings, k)\u001b[0m\n\u001b[1;32m     18\u001b[0m request \u001b[38;5;241m=\u001b[39m AnnSearchRequest(\u001b[38;5;241m*\u001b[39m\u001b[38;5;241m*\u001b[39msearch_param)\n\u001b[1;32m     20\u001b[0m \u001b[38;5;66;03m# Perform hybrid search\u001b[39;00m\n\u001b[0;32m---> 21\u001b[0m results \u001b[38;5;241m=\u001b[39m \u001b[43mcollection\u001b[49m\u001b[38;5;241;43m.\u001b[39;49m\u001b[43mhybrid_search\u001b[49m\u001b[43m(\u001b[49m\n\u001b[1;32m     22\u001b[0m \u001b[43m    \u001b[49m\u001b[43mreqs\u001b[49m\u001b[38;5;241;43m=\u001b[39;49m\u001b[43m[\u001b[49m\u001b[43mrequest\u001b[49m\u001b[43m]\u001b[49m\u001b[43m,\u001b[49m\n\u001b[1;32m     23\u001b[0m \u001b[43m    \u001b[49m\u001b[43mrerank\u001b[49m\u001b[38;5;241;43m=\u001b[39;49m\u001b[43mWeightedRanker\u001b[49m\u001b[43m(\u001b[49m\u001b[38;5;241;43m0.8\u001b[39;49m\u001b[43m)\u001b[49m\u001b[43m,\u001b[49m\n\u001b[1;32m     24\u001b[0m \u001b[43m    \u001b[49m\u001b[43mlimit\u001b[49m\u001b[38;5;241;43m=\u001b[39;49m\u001b[43mk\u001b[49m\u001b[43m,\u001b[49m\n\u001b[1;32m     25\u001b[0m \u001b[43m    \u001b[49m\u001b[43moutput_fields\u001b[49m\u001b[38;5;241;43m=\u001b[39;49m\u001b[43m[\u001b[49m\u001b[38;5;124;43m\"\u001b[39;49m\u001b[38;5;124;43midentitas\u001b[39;49m\u001b[38;5;124;43m\"\u001b[39;49m\u001b[43m,\u001b[49m\u001b[43m \u001b[49m\u001b[38;5;124;43m\"\u001b[39;49m\u001b[38;5;124;43mriwayat_perkara\u001b[39;49m\u001b[38;5;124;43m\"\u001b[39;49m\u001b[43m,\u001b[49m\u001b[43m \u001b[49m\u001b[38;5;124;43m\"\u001b[39;49m\u001b[38;5;124;43mamar_putusan\u001b[39;49m\u001b[38;5;124;43m\"\u001b[39;49m\u001b[43m,\u001b[49m\u001b[43m \u001b[49m\u001b[38;5;124;43m\"\u001b[39;49m\u001b[38;5;124;43mpertimbangan_hukum\u001b[39;49m\u001b[38;5;124;43m\"\u001b[39;49m\u001b[43m,\u001b[49m\u001b[43m \u001b[49m\u001b[38;5;124;43m\"\u001b[39;49m\u001b[38;5;124;43murl\u001b[39;49m\u001b[38;5;124;43m\"\u001b[39;49m\u001b[43m]\u001b[49m\n\u001b[1;32m     26\u001b[0m \u001b[43m\u001b[49m\u001b[43m)\u001b[49m\n\u001b[1;32m     28\u001b[0m \u001b[38;5;66;03m# Extract relevant information from results\u001b[39;00m\n\u001b[1;32m     29\u001b[0m documents \u001b[38;5;241m=\u001b[39m []\n",
      "File \u001b[0;32m~/anaconda3/envs/rag-ta/lib/python3.10/site-packages/pymilvus/orm/collection.py:945\u001b[0m, in \u001b[0;36mCollection.hybrid_search\u001b[0;34m(self, reqs, rerank, limit, partition_names, output_fields, timeout, round_decimal, **kwargs)\u001b[0m\n\u001b[1;32m    942\u001b[0m     \u001b[38;5;28;01mreturn\u001b[39;00m SearchFuture(\u001b[38;5;28;01mNone\u001b[39;00m) \u001b[38;5;28;01mif\u001b[39;00m kwargs\u001b[38;5;241m.\u001b[39mget(\u001b[38;5;124m\"\u001b[39m\u001b[38;5;124m_async\u001b[39m\u001b[38;5;124m\"\u001b[39m, \u001b[38;5;28;01mFalse\u001b[39;00m) \u001b[38;5;28;01melse\u001b[39;00m resp\n\u001b[1;32m    944\u001b[0m conn \u001b[38;5;241m=\u001b[39m \u001b[38;5;28mself\u001b[39m\u001b[38;5;241m.\u001b[39m_get_connection()\n\u001b[0;32m--> 945\u001b[0m resp \u001b[38;5;241m=\u001b[39m \u001b[43mconn\u001b[49m\u001b[38;5;241;43m.\u001b[39;49m\u001b[43mhybrid_search\u001b[49m\u001b[43m(\u001b[49m\n\u001b[1;32m    946\u001b[0m \u001b[43m    \u001b[49m\u001b[38;5;28;43mself\u001b[39;49m\u001b[38;5;241;43m.\u001b[39;49m\u001b[43m_name\u001b[49m\u001b[43m,\u001b[49m\n\u001b[1;32m    947\u001b[0m \u001b[43m    \u001b[49m\u001b[43mreqs\u001b[49m\u001b[43m,\u001b[49m\n\u001b[1;32m    948\u001b[0m \u001b[43m    \u001b[49m\u001b[43mrerank\u001b[49m\u001b[43m,\u001b[49m\n\u001b[1;32m    949\u001b[0m \u001b[43m    \u001b[49m\u001b[43mlimit\u001b[49m\u001b[43m,\u001b[49m\n\u001b[1;32m    950\u001b[0m \u001b[43m    \u001b[49m\u001b[43mpartition_names\u001b[49m\u001b[43m,\u001b[49m\n\u001b[1;32m    951\u001b[0m \u001b[43m    \u001b[49m\u001b[43moutput_fields\u001b[49m\u001b[43m,\u001b[49m\n\u001b[1;32m    952\u001b[0m \u001b[43m    \u001b[49m\u001b[43mround_decimal\u001b[49m\u001b[43m,\u001b[49m\n\u001b[1;32m    953\u001b[0m \u001b[43m    \u001b[49m\u001b[43mtimeout\u001b[49m\u001b[38;5;241;43m=\u001b[39;49m\u001b[43mtimeout\u001b[49m\u001b[43m,\u001b[49m\n\u001b[1;32m    954\u001b[0m \u001b[43m    \u001b[49m\u001b[43mschema\u001b[49m\u001b[38;5;241;43m=\u001b[39;49m\u001b[38;5;28;43mself\u001b[39;49m\u001b[38;5;241;43m.\u001b[39;49m\u001b[43m_schema_dict\u001b[49m\u001b[43m,\u001b[49m\n\u001b[1;32m    955\u001b[0m \u001b[43m    \u001b[49m\u001b[38;5;241;43m*\u001b[39;49m\u001b[38;5;241;43m*\u001b[39;49m\u001b[43mkwargs\u001b[49m\u001b[43m,\u001b[49m\n\u001b[1;32m    956\u001b[0m \u001b[43m\u001b[49m\u001b[43m)\u001b[49m\n\u001b[1;32m    958\u001b[0m \u001b[38;5;28;01mreturn\u001b[39;00m SearchFuture(resp) \u001b[38;5;28;01mif\u001b[39;00m kwargs\u001b[38;5;241m.\u001b[39mget(\u001b[38;5;124m\"\u001b[39m\u001b[38;5;124m_async\u001b[39m\u001b[38;5;124m\"\u001b[39m, \u001b[38;5;28;01mFalse\u001b[39;00m) \u001b[38;5;28;01melse\u001b[39;00m resp\n",
      "File \u001b[0;32m~/anaconda3/envs/rag-ta/lib/python3.10/site-packages/pymilvus/decorators.py:141\u001b[0m, in \u001b[0;36merror_handler.<locals>.wrapper.<locals>.handler\u001b[0;34m(*args, **kwargs)\u001b[0m\n\u001b[1;32m    139\u001b[0m     record_dict[\u001b[38;5;124m\"\u001b[39m\u001b[38;5;124mRPC error\u001b[39m\u001b[38;5;124m\"\u001b[39m] \u001b[38;5;241m=\u001b[39m \u001b[38;5;28mstr\u001b[39m(datetime\u001b[38;5;241m.\u001b[39mdatetime\u001b[38;5;241m.\u001b[39mnow())\n\u001b[1;32m    140\u001b[0m     LOGGER\u001b[38;5;241m.\u001b[39merror(\u001b[38;5;124mf\u001b[39m\u001b[38;5;124m\"\u001b[39m\u001b[38;5;124mRPC error: [\u001b[39m\u001b[38;5;132;01m{\u001b[39;00minner_name\u001b[38;5;132;01m}\u001b[39;00m\u001b[38;5;124m], \u001b[39m\u001b[38;5;132;01m{\u001b[39;00me\u001b[38;5;132;01m}\u001b[39;00m\u001b[38;5;124m, <Time:\u001b[39m\u001b[38;5;132;01m{\u001b[39;00mrecord_dict\u001b[38;5;132;01m}\u001b[39;00m\u001b[38;5;124m>\u001b[39m\u001b[38;5;124m\"\u001b[39m)\n\u001b[0;32m--> 141\u001b[0m     \u001b[38;5;28;01mraise\u001b[39;00m e \u001b[38;5;28;01mfrom\u001b[39;00m \u001b[38;5;21;01me\u001b[39;00m\n\u001b[1;32m    142\u001b[0m \u001b[38;5;28;01mexcept\u001b[39;00m grpc\u001b[38;5;241m.\u001b[39mFutureTimeoutError \u001b[38;5;28;01mas\u001b[39;00m e:\n\u001b[1;32m    143\u001b[0m     record_dict[\u001b[38;5;124m\"\u001b[39m\u001b[38;5;124mgRPC timeout\u001b[39m\u001b[38;5;124m\"\u001b[39m] \u001b[38;5;241m=\u001b[39m \u001b[38;5;28mstr\u001b[39m(datetime\u001b[38;5;241m.\u001b[39mdatetime\u001b[38;5;241m.\u001b[39mnow())\n",
      "File \u001b[0;32m~/anaconda3/envs/rag-ta/lib/python3.10/site-packages/pymilvus/decorators.py:137\u001b[0m, in \u001b[0;36merror_handler.<locals>.wrapper.<locals>.handler\u001b[0;34m(*args, **kwargs)\u001b[0m\n\u001b[1;32m    135\u001b[0m \u001b[38;5;28;01mtry\u001b[39;00m:\n\u001b[1;32m    136\u001b[0m     record_dict[\u001b[38;5;124m\"\u001b[39m\u001b[38;5;124mRPC start\u001b[39m\u001b[38;5;124m\"\u001b[39m] \u001b[38;5;241m=\u001b[39m \u001b[38;5;28mstr\u001b[39m(datetime\u001b[38;5;241m.\u001b[39mdatetime\u001b[38;5;241m.\u001b[39mnow())\n\u001b[0;32m--> 137\u001b[0m     \u001b[38;5;28;01mreturn\u001b[39;00m \u001b[43mfunc\u001b[49m\u001b[43m(\u001b[49m\u001b[38;5;241;43m*\u001b[39;49m\u001b[43margs\u001b[49m\u001b[43m,\u001b[49m\u001b[43m \u001b[49m\u001b[38;5;241;43m*\u001b[39;49m\u001b[38;5;241;43m*\u001b[39;49m\u001b[43mkwargs\u001b[49m\u001b[43m)\u001b[49m\n\u001b[1;32m    138\u001b[0m \u001b[38;5;28;01mexcept\u001b[39;00m MilvusException \u001b[38;5;28;01mas\u001b[39;00m e:\n\u001b[1;32m    139\u001b[0m     record_dict[\u001b[38;5;124m\"\u001b[39m\u001b[38;5;124mRPC error\u001b[39m\u001b[38;5;124m\"\u001b[39m] \u001b[38;5;241m=\u001b[39m \u001b[38;5;28mstr\u001b[39m(datetime\u001b[38;5;241m.\u001b[39mdatetime\u001b[38;5;241m.\u001b[39mnow())\n",
      "File \u001b[0;32m~/anaconda3/envs/rag-ta/lib/python3.10/site-packages/pymilvus/decorators.py:176\u001b[0m, in \u001b[0;36mtracing_request.<locals>.wrapper.<locals>.handler\u001b[0;34m(self, *args, **kwargs)\u001b[0m\n\u001b[1;32m    174\u001b[0m \u001b[38;5;28;01mif\u001b[39;00m req_id:\n\u001b[1;32m    175\u001b[0m     \u001b[38;5;28mself\u001b[39m\u001b[38;5;241m.\u001b[39mset_onetime_request_id(req_id)\n\u001b[0;32m--> 176\u001b[0m \u001b[38;5;28;01mreturn\u001b[39;00m \u001b[43mfunc\u001b[49m\u001b[43m(\u001b[49m\u001b[38;5;28;43mself\u001b[39;49m\u001b[43m,\u001b[49m\u001b[43m \u001b[49m\u001b[38;5;241;43m*\u001b[39;49m\u001b[43margs\u001b[49m\u001b[43m,\u001b[49m\u001b[43m \u001b[49m\u001b[38;5;241;43m*\u001b[39;49m\u001b[38;5;241;43m*\u001b[39;49m\u001b[43mkwargs\u001b[49m\u001b[43m)\u001b[49m\n",
      "File \u001b[0;32m~/anaconda3/envs/rag-ta/lib/python3.10/site-packages/pymilvus/decorators.py:116\u001b[0m, in \u001b[0;36mretry_on_rpc_failure.<locals>.wrapper.<locals>.handler\u001b[0;34m(*args, **kwargs)\u001b[0m\n\u001b[1;32m    114\u001b[0m         back_off \u001b[38;5;241m=\u001b[39m \u001b[38;5;28mmin\u001b[39m(back_off \u001b[38;5;241m*\u001b[39m back_off_multiplier, max_back_off)\n\u001b[1;32m    115\u001b[0m     \u001b[38;5;28;01melse\u001b[39;00m:\n\u001b[0;32m--> 116\u001b[0m         \u001b[38;5;28;01mraise\u001b[39;00m e \u001b[38;5;28;01mfrom\u001b[39;00m \u001b[38;5;21;01me\u001b[39;00m\n\u001b[1;32m    117\u001b[0m \u001b[38;5;28;01mexcept\u001b[39;00m \u001b[38;5;167;01mException\u001b[39;00m \u001b[38;5;28;01mas\u001b[39;00m e:\n\u001b[1;32m    118\u001b[0m     \u001b[38;5;28;01mraise\u001b[39;00m e \u001b[38;5;28;01mfrom\u001b[39;00m \u001b[38;5;21;01me\u001b[39;00m\n",
      "File \u001b[0;32m~/anaconda3/envs/rag-ta/lib/python3.10/site-packages/pymilvus/decorators.py:86\u001b[0m, in \u001b[0;36mretry_on_rpc_failure.<locals>.wrapper.<locals>.handler\u001b[0;34m(*args, **kwargs)\u001b[0m\n\u001b[1;32m     84\u001b[0m \u001b[38;5;28;01mwhile\u001b[39;00m \u001b[38;5;28;01mTrue\u001b[39;00m:\n\u001b[1;32m     85\u001b[0m     \u001b[38;5;28;01mtry\u001b[39;00m:\n\u001b[0;32m---> 86\u001b[0m         \u001b[38;5;28;01mreturn\u001b[39;00m \u001b[43mfunc\u001b[49m\u001b[43m(\u001b[49m\u001b[38;5;241;43m*\u001b[39;49m\u001b[43margs\u001b[49m\u001b[43m,\u001b[49m\u001b[43m \u001b[49m\u001b[38;5;241;43m*\u001b[39;49m\u001b[38;5;241;43m*\u001b[39;49m\u001b[43mkwargs\u001b[49m\u001b[43m)\u001b[49m\n\u001b[1;32m     87\u001b[0m     \u001b[38;5;28;01mexcept\u001b[39;00m grpc\u001b[38;5;241m.\u001b[39mRpcError \u001b[38;5;28;01mas\u001b[39;00m e:\n\u001b[1;32m     88\u001b[0m         \u001b[38;5;66;03m# Do not retry on these codes\u001b[39;00m\n\u001b[1;32m     89\u001b[0m         \u001b[38;5;28;01mif\u001b[39;00m e\u001b[38;5;241m.\u001b[39mcode() \u001b[38;5;129;01min\u001b[39;00m IGNORE_RETRY_CODES:\n",
      "File \u001b[0;32m~/anaconda3/envs/rag-ta/lib/python3.10/site-packages/pymilvus/client/grpc_handler.py:854\u001b[0m, in \u001b[0;36mGrpcHandler.hybrid_search\u001b[0;34m(self, collection_name, reqs, rerank, limit, partition_names, output_fields, round_decimal, timeout, **kwargs)\u001b[0m\n\u001b[1;32m    842\u001b[0m     requests\u001b[38;5;241m.\u001b[39mappend(search_request)\n\u001b[1;32m    844\u001b[0m hybrid_search_request \u001b[38;5;241m=\u001b[39m Prepare\u001b[38;5;241m.\u001b[39mhybrid_search_request_with_ranker(\n\u001b[1;32m    845\u001b[0m     collection_name,\n\u001b[1;32m    846\u001b[0m     requests,\n\u001b[0;32m   (...)\u001b[0m\n\u001b[1;32m    852\u001b[0m     \u001b[38;5;241m*\u001b[39m\u001b[38;5;241m*\u001b[39mkwargs,\n\u001b[1;32m    853\u001b[0m )\n\u001b[0;32m--> 854\u001b[0m \u001b[38;5;28;01mreturn\u001b[39;00m \u001b[38;5;28;43mself\u001b[39;49m\u001b[38;5;241;43m.\u001b[39;49m\u001b[43m_execute_hybrid_search\u001b[49m\u001b[43m(\u001b[49m\n\u001b[1;32m    855\u001b[0m \u001b[43m    \u001b[49m\u001b[43mhybrid_search_request\u001b[49m\u001b[43m,\u001b[49m\u001b[43m \u001b[49m\u001b[43mtimeout\u001b[49m\u001b[43m,\u001b[49m\u001b[43m \u001b[49m\u001b[43mround_decimal\u001b[49m\u001b[38;5;241;43m=\u001b[39;49m\u001b[43mround_decimal\u001b[49m\u001b[43m,\u001b[49m\u001b[43m \u001b[49m\u001b[38;5;241;43m*\u001b[39;49m\u001b[38;5;241;43m*\u001b[39;49m\u001b[43mkwargs\u001b[49m\n\u001b[1;32m    856\u001b[0m \u001b[43m\u001b[49m\u001b[43m)\u001b[49m\n",
      "File \u001b[0;32m~/anaconda3/envs/rag-ta/lib/python3.10/site-packages/pymilvus/client/grpc_handler.py:765\u001b[0m, in \u001b[0;36mGrpcHandler._execute_hybrid_search\u001b[0;34m(self, request, timeout, **kwargs)\u001b[0m\n\u001b[1;32m    763\u001b[0m \u001b[38;5;28;01mif\u001b[39;00m kwargs\u001b[38;5;241m.\u001b[39mget(\u001b[38;5;124m\"\u001b[39m\u001b[38;5;124m_async\u001b[39m\u001b[38;5;124m\"\u001b[39m, \u001b[38;5;28;01mFalse\u001b[39;00m):\n\u001b[1;32m    764\u001b[0m     \u001b[38;5;28;01mreturn\u001b[39;00m SearchFuture(\u001b[38;5;28;01mNone\u001b[39;00m, \u001b[38;5;28;01mNone\u001b[39;00m, e)\n\u001b[0;32m--> 765\u001b[0m \u001b[38;5;28;01mraise\u001b[39;00m e \u001b[38;5;28;01mfrom\u001b[39;00m \u001b[38;5;21;01me\u001b[39;00m\n",
      "File \u001b[0;32m~/anaconda3/envs/rag-ta/lib/python3.10/site-packages/pymilvus/client/grpc_handler.py:758\u001b[0m, in \u001b[0;36mGrpcHandler._execute_hybrid_search\u001b[0;34m(self, request, timeout, **kwargs)\u001b[0m\n\u001b[1;32m    755\u001b[0m     \u001b[38;5;28;01mreturn\u001b[39;00m SearchFuture(future, func)\n\u001b[1;32m    757\u001b[0m response \u001b[38;5;241m=\u001b[39m \u001b[38;5;28mself\u001b[39m\u001b[38;5;241m.\u001b[39m_stub\u001b[38;5;241m.\u001b[39mHybridSearch(request, timeout\u001b[38;5;241m=\u001b[39mtimeout)\n\u001b[0;32m--> 758\u001b[0m \u001b[43mcheck_status\u001b[49m\u001b[43m(\u001b[49m\u001b[43mresponse\u001b[49m\u001b[38;5;241;43m.\u001b[39;49m\u001b[43mstatus\u001b[49m\u001b[43m)\u001b[49m\n\u001b[1;32m    759\u001b[0m round_decimal \u001b[38;5;241m=\u001b[39m kwargs\u001b[38;5;241m.\u001b[39mget(\u001b[38;5;124m\"\u001b[39m\u001b[38;5;124mround_decimal\u001b[39m\u001b[38;5;124m\"\u001b[39m, \u001b[38;5;241m-\u001b[39m\u001b[38;5;241m1\u001b[39m)\n\u001b[1;32m    760\u001b[0m \u001b[38;5;28;01mreturn\u001b[39;00m SearchResult(response\u001b[38;5;241m.\u001b[39mresults, round_decimal, status\u001b[38;5;241m=\u001b[39mresponse\u001b[38;5;241m.\u001b[39mstatus)\n",
      "File \u001b[0;32m~/anaconda3/envs/rag-ta/lib/python3.10/site-packages/pymilvus/client/utils.py:63\u001b[0m, in \u001b[0;36mcheck_status\u001b[0;34m(status)\u001b[0m\n\u001b[1;32m     61\u001b[0m \u001b[38;5;28;01mdef\u001b[39;00m \u001b[38;5;21mcheck_status\u001b[39m(status: Status):\n\u001b[1;32m     62\u001b[0m     \u001b[38;5;28;01mif\u001b[39;00m status\u001b[38;5;241m.\u001b[39mcode \u001b[38;5;241m!=\u001b[39m \u001b[38;5;241m0\u001b[39m \u001b[38;5;129;01mor\u001b[39;00m status\u001b[38;5;241m.\u001b[39merror_code \u001b[38;5;241m!=\u001b[39m \u001b[38;5;241m0\u001b[39m:\n\u001b[0;32m---> 63\u001b[0m         \u001b[38;5;28;01mraise\u001b[39;00m MilvusException(status\u001b[38;5;241m.\u001b[39mcode, status\u001b[38;5;241m.\u001b[39mreason, status\u001b[38;5;241m.\u001b[39merror_code)\n",
      "\u001b[0;31mMilvusException\u001b[0m: <MilvusException: (code=503, message=failed to search: channel not subscribed: channel lacks[channel=by-dev-rootcoord-dml_0_454756620526950040v0]: channel not available[channel=by-dev-rootcoord-dml_0_454756620526950040v0])>"
     ]
    }
   ],
   "source": [
    "from pprint import pprint\n",
    "collection_name = \"legal_documents\"\n",
    "query = \"siapa adi daswadi bin wasdam\"\n",
    "retrieved_docs = retrieve_from_milvus(query, collection_name, embeddings, k=5)\n",
    "pprint(retrieved_docs)"
   ]
  },
  {
   "cell_type": "markdown",
   "metadata": {},
   "source": [
    "# Generation"
   ]
  },
  {
   "cell_type": "code",
   "execution_count": 19,
   "metadata": {},
   "outputs": [],
   "source": [
    "# COSTAR-based prompt template\n",
    "legal_prompt = \"\"\"\n",
    "Anda adalah asisten hukum yang dirancang untuk membantu pengguna menganalisis dokumen hukum Indonesia, khususnya putusan pengadilan Mahkamah Agung (MA). Ikuti panduan CO-STAR berikut:\n",
    "\n",
    "Context:\n",
    "- Gunakan HANYA informasi dari dokumen putusan pengadilan MA yang disediakan.\n",
    "- Jika informasi tidak ditemukan dalam dokumen tersebut, jawab \"Maaf, saya tidak dapat menemukan informasi tersebut dalam dokumen yang tersedia.\"\n",
    "- Fokus pada fakta hukum, seperti identitas terdakwa, riwayat perkara, dan pertimbangan hukum.\n",
    "\n",
    "Objective:\n",
    "- Bantu pengguna dalam menganalisis dokumen hukum secara akurat dan efisien menggunakan pendekatan Retrieval-Augmented Generation (RAG).\n",
    "- Jelaskan terminologi hukum dengan bahasa yang mudah dipahami.\n",
    "- Jangan memberikan nasihat hukum, tetapi sediakan interpretasi data dari dokumen.\n",
    "- Gunakan format yang jelas untuk menampilkan hasil analisis.\n",
    "\n",
    "Style:\n",
    "- Gunakan gaya bahasa yang formal dan teknis.\n",
    "\n",
    "Tone:\n",
    "- Nada profesional dan netral untuk menjaga keakuratan dan kredibilitas respons.\n",
    "\n",
    "Audience:\n",
    "- Peneliti hukum, praktisi hukum, atau pengguna umum yang membutuhkan bantuan analisis dokumen putusan MA.\n",
    "\n",
    "Response:\n",
    "- Berikan respons dalam format berikut:\n",
    "  Jawaban: [jawaban]\n",
    "  URL Sumber: [informasi]\n",
    "- Jika informasi tidak ditemukan, sebutkan \"Tidak tersedia.\"\n",
    "\n",
    "Question: {messages}\n",
    "Context: {context}\n",
    "\n",
    "Berikan jawaban dalam bahasa Indonesia yang jelas dan terstruktur.\n",
    "\"\"\"\n",
    "\n",
    "\n",
    "question_answering_prompt = ChatPromptTemplate.from_messages([\n",
    "    (\"system\", legal_prompt),\n",
    "    MessagesPlaceholder(variable_name=\"messages\"),\n",
    "])\n",
    "\n",
    "# Document class for handling legal documents\n",
    "class LegalDocument:\n",
    "    def __init__(self, page_content, metadata=None):\n",
    "        self.page_content = page_content\n",
    "        self.metadata = metadata or {}\n",
    "\n",
    "# Response generator function\n",
    "def generate_response(query, llm, collection_name, embeddings):\n",
    "    \"\"\"Generate responses to queries using RAG\"\"\"\n",
    "    \n",
    "    # Initialize chat history\n",
    "    message_history = ChatMessageHistory()\n",
    "    \n",
    "    # Retrieve relevant documents\n",
    "    retrieved_docs = retrieve_from_milvus(query, collection_name, embeddings, k=5)\n",
    "    \n",
    "    # Create document chain\n",
    "    document_chain = create_stuff_documents_chain(llm, question_answering_prompt)\n",
    "    \n",
    "    # Format documents\n",
    "    docs = [LegalDocument(page_content=str(doc)) for doc in retrieved_docs]\n",
    "    \n",
    "    # Add query to message history\n",
    "    message_history.add_message(HumanMessage(content=query))\n",
    "    \n",
    "    # Generate response\n",
    "    response = document_chain.invoke({\n",
    "        \"context\": docs,\n",
    "        \"messages\": [HumanMessage(content=query)]\n",
    "    })\n",
    "    \n",
    "    return response"
   ]
  },
  {
   "cell_type": "code",
   "execution_count": 23,
   "metadata": {},
   "outputs": [
    {
     "name": "stdout",
     "output_type": "stream",
     "text": [
      "Jawaban: Adi Daswadi bin Wasdam adalah seorang terdakwa yang terlibat dalam kasus penyalahgunaan narkotika golongan I bagi diri sendiri. Ia terbukti melakukan tindak pidana tersebut berdasarkan dakwaan alternatif kedua. Adi Daswadi bin Wasdam dijatuhi pidana penjara selama 2 tahun dan ditetapkan tetap ditahan. Barang bukti berupa narkotika jenis daun ganja kering yang dimilikinya juga dimusnahkan. Selain itu, Adi Daswadi bin Wasdam juga diwajibkan membayar biaya perkara sejumlah Rp 5.000,00. \n",
      "URL Sumber: https://putusan3.mahkamahagung.go.id/direktori/putusan/0a0e54aa47236640faa91000e271aa0d.html\n"
     ]
    }
   ],
   "source": [
    "# Initialize necessary components\n",
    "embeddings = OpenAIEmbeddings()\n",
    "llm = ChatOpenAI()\n",
    "\n",
    "# Generate response to a query\n",
    "query = \"siapa sih adi daswadi bin wasdam? dia terlibat kasus apa?\"\n",
    "response = generate_response(\n",
    "    query=query,\n",
    "    llm=llm,\n",
    "    collection_name=\"legal_documents\",\n",
    "    embeddings=embeddings\n",
    ")\n",
    "print(response)"
   ]
  },
  {
   "cell_type": "markdown",
   "metadata": {},
   "source": [
    "# Evaluation"
   ]
  },
  {
   "cell_type": "code",
   "execution_count": null,
   "metadata": {},
   "outputs": [],
   "source": []
  },
  {
   "cell_type": "code",
   "execution_count": null,
   "metadata": {},
   "outputs": [],
   "source": []
  },
  {
   "cell_type": "code",
   "execution_count": null,
   "metadata": {},
   "outputs": [],
   "source": []
  },
  {
   "cell_type": "code",
   "execution_count": null,
   "metadata": {},
   "outputs": [],
   "source": []
  },
  {
   "cell_type": "code",
   "execution_count": null,
   "metadata": {},
   "outputs": [],
   "source": []
  },
  {
   "cell_type": "code",
   "execution_count": null,
   "metadata": {},
   "outputs": [],
   "source": []
  }
 ],
 "metadata": {
  "kernelspec": {
   "display_name": "rag-ta",
   "language": "python",
   "name": "python3"
  },
  "language_info": {
   "codemirror_mode": {
    "name": "ipython",
    "version": 3
   },
   "file_extension": ".py",
   "mimetype": "text/x-python",
   "name": "python",
   "nbconvert_exporter": "python",
   "pygments_lexer": "ipython3",
   "version": "3.10.15"
  }
 },
 "nbformat": 4,
 "nbformat_minor": 2
}
